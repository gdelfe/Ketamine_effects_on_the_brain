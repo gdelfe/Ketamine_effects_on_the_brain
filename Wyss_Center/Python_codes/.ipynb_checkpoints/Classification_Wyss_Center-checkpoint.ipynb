{
 "cells": [
  {
   "cell_type": "code",
   "execution_count": 22,
   "metadata": {},
   "outputs": [],
   "source": [
    "# Code for Wyss Center ML Scientist task\n",
    "# @ Gino Del Ferraro, NYU, June 2023\n",
    "\n",
    "# Code number 3"
   ]
  },
  {
   "cell_type": "code",
   "execution_count": 1,
   "metadata": {},
   "outputs": [],
   "source": [
    "# Show all jupyter outputs\n",
    "from IPython.core.interactiveshell import InteractiveShell\n",
    "InteractiveShell.ast_node_interactivity = \"all\""
   ]
  },
  {
   "cell_type": "code",
   "execution_count": 2,
   "metadata": {},
   "outputs": [],
   "source": [
    "import numpy as np\n",
    "np.set_printoptions(threshold=1000)\n",
    "\n",
    "import os\n",
    "import scipy\n",
    "import sklearn\n",
    "from sklearn import preprocessing\n",
    "from sklearn.metrics import classification_report, confusion_matrix, ConfusionMatrixDisplay\n",
    "\n",
    "import seaborn as sns\n",
    "\n",
    "import matplotlib.pyplot as plt\n",
    "from scipy import signal\n",
    "from scipy.signal import iirnotch, lfilter\n",
    "from scipy.io import loadmat\n",
    "\n",
    "import scipy.signal as sig\n",
    "import scipy.stats.distributions as dist"
   ]
  },
  {
   "cell_type": "code",
   "execution_count": 3,
   "metadata": {},
   "outputs": [],
   "source": [
    "## Change folder path to load data "
   ]
  },
  {
   "cell_type": "code",
   "execution_count": 4,
   "metadata": {},
   "outputs": [],
   "source": [
    "current_dir = os.getcwd()\n",
    "parent_dir = os.path.abspath(os.path.join(current_dir, os.pardir))\n",
    "folder_path = os.path.join(parent_dir, 'Data')\n",
    "os.chdir(folder_path)"
   ]
  },
  {
   "cell_type": "code",
   "execution_count": 5,
   "metadata": {},
   "outputs": [
    {
     "name": "stdout",
     "output_type": "stream",
     "text": [
      "sess 0\n"
     ]
    },
    {
     "data": {
      "text/plain": [
       "(6, 17, 450, 45)"
      ]
     },
     "execution_count": 5,
     "metadata": {},
     "output_type": "execute_result"
    },
    {
     "data": {
      "text/plain": [
       "(6, 14, 450, 45)"
      ]
     },
     "execution_count": 5,
     "metadata": {},
     "output_type": "execute_result"
    },
    {
     "data": {
      "text/plain": [
       "(6, 20, 450, 45)"
      ]
     },
     "execution_count": 5,
     "metadata": {},
     "output_type": "execute_result"
    },
    {
     "name": "stdout",
     "output_type": "stream",
     "text": [
      "sess 1\n"
     ]
    },
    {
     "data": {
      "text/plain": [
       "(6, 15, 450, 45)"
      ]
     },
     "execution_count": 5,
     "metadata": {},
     "output_type": "execute_result"
    },
    {
     "data": {
      "text/plain": [
       "(6, 16, 450, 45)"
      ]
     },
     "execution_count": 5,
     "metadata": {},
     "output_type": "execute_result"
    },
    {
     "data": {
      "text/plain": [
       "(6, 14, 450, 45)"
      ]
     },
     "execution_count": 5,
     "metadata": {},
     "output_type": "execute_result"
    },
    {
     "name": "stdout",
     "output_type": "stream",
     "text": [
      "sess 2\n"
     ]
    },
    {
     "data": {
      "text/plain": [
       "(6, 15, 450, 45)"
      ]
     },
     "execution_count": 5,
     "metadata": {},
     "output_type": "execute_result"
    },
    {
     "data": {
      "text/plain": [
       "(6, 18, 450, 45)"
      ]
     },
     "execution_count": 5,
     "metadata": {},
     "output_type": "execute_result"
    },
    {
     "data": {
      "text/plain": [
       "(6, 12, 450, 45)"
      ]
     },
     "execution_count": 5,
     "metadata": {},
     "output_type": "execute_result"
    },
    {
     "name": "stdout",
     "output_type": "stream",
     "text": [
      "total\n",
      "(6, 32, 450, 45)\n",
      "(6, 30, 450, 45)\n",
      "(6, 34, 450, 45)\n"
     ]
    }
   ],
   "source": [
    "# Load .mat file\n",
    "R_spec = loadmat('Rspec_sess0_ch_split_ord.mat')\n",
    "M1_spec = loadmat('M1spec_sess0_ch_split_ord.mat')\n",
    "M2_spec = loadmat('M2spec_sess0_ch_split_ord.mat')\n",
    "\n",
    "# Extract the 3D matrix from the mat_contents\n",
    "R_sess0 = R_spec['spec']\n",
    "M1_sess0 = M1_spec['spec']\n",
    "M2_sess0 = M2_spec['spec']\n",
    "\n",
    "print('sess 0')\n",
    "\n",
    "R_sess0.shape\n",
    "M1_sess0.shape\n",
    "M2_sess0.shape\n",
    "\n",
    "# Load .mat file\n",
    "R_spec = loadmat('Rspec_sess1_ch_split_ord.mat')\n",
    "M1_spec = loadmat('M1spec_sess1_ch_split_ord.mat')\n",
    "M2_spec = loadmat('M2spec_sess1_ch_split_ord.mat')\n",
    "\n",
    "# Extract the 3D matrix from the mat_contents\n",
    "R_sess1 = R_spec['spec']\n",
    "M1_sess1 = M1_spec['spec']\n",
    "M2_sess1 = M2_spec['spec']\n",
    "\n",
    "print('sess 1')\n",
    "\n",
    "R_sess1.shape\n",
    "M1_sess1.shape\n",
    "M2_sess1.shape\n",
    "\n",
    "# Load .mat file\n",
    "R_spec = loadmat('Rspec_sess2_ch_split_ord.mat')\n",
    "M1_spec = loadmat('M1spec_sess2_ch_split_ord.mat')\n",
    "M2_spec = loadmat('M2spec_sess2_ch_split_ord.mat')\n",
    "\n",
    "# Extract the 3D matrix from the mat_contents\n",
    "R_sess2 = R_spec['spec']\n",
    "M1_sess2 = M1_spec['spec']\n",
    "M2_sess2 = M2_spec['spec']\n",
    "\n",
    "print('sess 2')\n",
    "R_sess2.shape\n",
    "M1_sess2.shape\n",
    "M2_sess2.shape\n",
    "\n",
    "# Uncomment if you want to train on Sess 0 and 1 only, and test on Sess 2\n",
    "R = np.concatenate((R_sess0, R_sess1), axis=1)\n",
    "M1 = np.concatenate((M1_sess0, M1_sess1), axis=1)\n",
    "M2 = np.concatenate((M2_sess0, M2_sess1), axis=1)\n",
    "\n",
    "# Comment out if you want to train on Sess 0 and 1 only, and test on Sess 2\n",
    "# R = np.concatenate((R_sess0, R_sess1, R_sess2), axis=1)\n",
    "# M1 = np.concatenate((M1_sess0, M1_sess1,M1_sess2), axis=1)\n",
    "# M2 = np.concatenate((M2_sess0, M2_sess1,M2_sess2), axis=1)\n",
    "\n",
    "print('total')\n",
    "\n",
    "print(R.shape)\n",
    "print(M1.shape)\n",
    "print(M2.shape)"
   ]
  },
  {
   "cell_type": "markdown",
   "metadata": {},
   "source": [
    "#### Take the log of the spectrogram (same thing done when visualizing results in matlab)\n"
   ]
  },
  {
   "cell_type": "code",
   "execution_count": 6,
   "metadata": {},
   "outputs": [
    {
     "data": {
      "text/plain": [
       "(6, 32, 450, 45)"
      ]
     },
     "execution_count": 6,
     "metadata": {},
     "output_type": "execute_result"
    },
    {
     "data": {
      "text/plain": [
       "(6, 30, 450, 45)"
      ]
     },
     "execution_count": 6,
     "metadata": {},
     "output_type": "execute_result"
    },
    {
     "data": {
      "text/plain": [
       "(6, 34, 450, 45)"
      ]
     },
     "execution_count": 6,
     "metadata": {},
     "output_type": "execute_result"
    },
    {
     "data": {
      "text/plain": [
       "(6, 15, 450, 45)"
      ]
     },
     "execution_count": 6,
     "metadata": {},
     "output_type": "execute_result"
    },
    {
     "data": {
      "text/plain": [
       "(6, 18, 450, 45)"
      ]
     },
     "execution_count": 6,
     "metadata": {},
     "output_type": "execute_result"
    },
    {
     "data": {
      "text/plain": [
       "(6, 12, 450, 45)"
      ]
     },
     "execution_count": 6,
     "metadata": {},
     "output_type": "execute_result"
    }
   ],
   "source": [
    "R = np.log(R)\n",
    "M1 = np.log(M1)\n",
    "M2 = np.log(M2)\n",
    "\n",
    "R.shape\n",
    "M1.shape\n",
    "M2.shape\n",
    "\n",
    "# Uncomment if you want to train on Sess 0 and 1 only, and test on Sess 2\n",
    "R_sess2 = np.log(R_sess2)\n",
    "M1_sess2 = np.log(M1_sess2)\n",
    "M2_sess2 = np.log(M2_sess2)\n",
    "\n",
    "# Uncomment if you want to train on Sess 0 and 1 only, and test on Sess 2\n",
    "R_sess2.shape\n",
    "M1_sess2.shape\n",
    "M2_sess2.shape"
   ]
  },
  {
   "cell_type": "markdown",
   "metadata": {},
   "source": [
    "### Reorganize M1, M2 event into (ch, trial, first half/second half of 5 sec. long trial, time, frequency)\n",
    "#### Skip this cell and the following if training on Sess 0 and Sess 1 and testing on Sess 2. In that case go to point (##) below"
   ]
  },
  {
   "cell_type": "code",
   "execution_count": 7,
   "metadata": {},
   "outputs": [
    {
     "data": {
      "text/plain": [
       "(6, 24, 2, 450, 45)"
      ]
     },
     "execution_count": 7,
     "metadata": {},
     "output_type": "execute_result"
    },
    {
     "data": {
      "text/plain": [
       "(6, 23, 2, 450, 45)"
      ]
     },
     "execution_count": 7,
     "metadata": {},
     "output_type": "execute_result"
    }
   ],
   "source": [
    "M1x = M1.reshape(M1.shape[0], -1, 2, M1.shape[2], M1.shape[3])\n",
    "M1x.shape\n",
    "M2x = M2.reshape(M2.shape[0], -1, 2, M2.shape[2], M2.shape[3])\n",
    "M2x.shape"
   ]
  },
  {
   "cell_type": "markdown",
   "metadata": {},
   "source": [
    "#### Check reordering is correct. Note: \"trial\" can only be even"
   ]
  },
  {
   "cell_type": "code",
   "execution_count": 112,
   "metadata": {},
   "outputs": [],
   "source": [
    "# Uncomment only if you want to check that the above cell returns what's expected\n",
    "# ch = 1\n",
    "# trial = 2 # only even numbers (even number is:first half, odd number is:second half)\n",
    "# step = int(trial/2)\n",
    "# M1[ch,trial,  1:10,1:10] - M1x[ch,step,0,  1:10,1:10]\n",
    "# M1[ch,trial+1,  1:10,1:10] - M1x[ch,step,1,  1:10,1:10]\n",
    "\n",
    "# M2[ch,trial,  1:10,1:10] - M2x[ch,step,0,  1:10,1:10]\n",
    "# M2[ch,trial+1,  1:10,1:10] - M2x[ch,step,1,  1:10,1:10]"
   ]
  },
  {
   "cell_type": "markdown",
   "metadata": {},
   "source": [
    "# Train-test split "
   ]
  },
  {
   "cell_type": "markdown",
   "metadata": {},
   "source": [
    "Skip this cell if training on Sess 0 and 1, testing on Sess 2"
   ]
  },
  {
   "cell_type": "code",
   "execution_count": 113,
   "metadata": {},
   "outputs": [],
   "source": [
    "# Function to shuffle trials before train/test split (not of mandatory use)\n",
    "def shuffle_trials(arr):\n",
    "\n",
    "    num_trials = arr.shape[1]\n",
    "    perm_trials = np.random.permutation(num_trials)\n",
    "    arr_perm = arr[:, perm_trials, ...]\n",
    "    \n",
    "    return arr_perm"
   ]
  },
  {
   "cell_type": "markdown",
   "metadata": {},
   "source": [
    "Skip this cell if training on Sess 0 and 1, testing on Sess 2"
   ]
  },
  {
   "cell_type": "code",
   "execution_count": 93,
   "metadata": {},
   "outputs": [
    {
     "data": {
      "text/plain": [
       "((6, 39, 450, 45), (6, 8, 450, 45))"
      ]
     },
     "execution_count": 93,
     "metadata": {},
     "output_type": "execute_result"
    },
    {
     "data": {
      "text/plain": [
       "((6, 20, 2, 450, 45), (6, 4, 2, 450, 45))"
      ]
     },
     "execution_count": 93,
     "metadata": {},
     "output_type": "execute_result"
    },
    {
     "data": {
      "text/plain": [
       "((6, 19, 2, 450, 45), (6, 4, 2, 450, 45))"
      ]
     },
     "execution_count": 93,
     "metadata": {},
     "output_type": "execute_result"
    },
    {
     "name": "stdout",
     "output_type": "stream",
     "text": [
      "\n",
      "Before resampling:\n",
      "R test set rate: 0.21\n",
      "M1 test set rate: 0.2\n",
      "M2 test set rate: 0.21\n"
     ]
    }
   ],
   "source": [
    "p = 0.82 # percentage of training data (Accuracy = 100%, for this value p = 0.82, which produces a 80/20 train/test split\n",
    "\n",
    "th_r = round(R.shape[1]*p)\n",
    "th_m1 = round(M1x.shape[1]*p)\n",
    "th_m2 = round(M2x.shape[1]*p) \n",
    "\n",
    "# You can uncomment this if you want to shuffle the arrays along the trial dim before splitting. \n",
    "# R = shuffle_trials(R)\n",
    "# M1x = shuffle_trials(M1x)\n",
    "# M2x = shuffle_trials(M2x)\n",
    "\n",
    "train_r = R[:,:th_r]; test_r = R[:,th_r:]\n",
    "train_m1x = M1x[:,:th_m1]; test_m1x = M1x[:,th_m1:]\n",
    "train_m2x = M2x[:,:th_m2]; test_m2x = M2x[:,th_m2:]\n",
    "\n",
    "train_r.shape, test_r.shape\n",
    "train_m1x.shape, test_m1x.shape\n",
    "train_m2x.shape, test_m2x.shape\n",
    "\n",
    "print('\\nBefore resampling:')\n",
    "print(f'R test set rate: {round(test_r.shape[1]/train_r.shape[1],2)}')\n",
    "print(f'M1 test set rate: {round(test_m1x.shape[1]/train_m1x.shape[1],2)}')\n",
    "print(f'M2 test set rate: {round(test_m2x.shape[1]/train_m2x.shape[1],2)}')"
   ]
  },
  {
   "cell_type": "markdown",
   "metadata": {},
   "source": [
    "### Reshape into (ch, trial, time, frequency) after train/test split "
   ]
  },
  {
   "cell_type": "markdown",
   "metadata": {},
   "source": [
    "Skip this cell if training on Sess 0 and 1, testing on Sess 2"
   ]
  },
  {
   "cell_type": "code",
   "execution_count": 94,
   "metadata": {},
   "outputs": [
    {
     "data": {
      "text/plain": [
       "((6, 39, 450, 45), (6, 8, 450, 45))"
      ]
     },
     "execution_count": 94,
     "metadata": {},
     "output_type": "execute_result"
    },
    {
     "data": {
      "text/plain": [
       "((6, 40, 450, 45), (6, 8, 450, 45))"
      ]
     },
     "execution_count": 94,
     "metadata": {},
     "output_type": "execute_result"
    },
    {
     "data": {
      "text/plain": [
       "((6, 38, 450, 45), (6, 8, 450, 45))"
      ]
     },
     "execution_count": 94,
     "metadata": {},
     "output_type": "execute_result"
    }
   ],
   "source": [
    "train_m1 = np.reshape(train_m1x, (train_m1x.shape[0], -1, train_m1x.shape[3], train_m1x.shape[4]))\n",
    "train_m2 = np.reshape(train_m2x, (train_m2x.shape[0], -1, train_m2x.shape[3], train_m2x.shape[4]))\n",
    "\n",
    "test_m1 = np.reshape(test_m1x, (test_m1x.shape[0], -1, test_m1x.shape[3], test_m1x.shape[4]))\n",
    "test_m2 = np.reshape(test_m2x, (test_m2x.shape[0], -1, test_m2x.shape[3], test_m2x.shape[4]))\n",
    "\n",
    "train_r.shape, test_r.shape\n",
    "train_m1.shape, test_m1.shape\n",
    "train_m2.shape, test_m2.shape"
   ]
  },
  {
   "cell_type": "code",
   "execution_count": 95,
   "metadata": {},
   "outputs": [
    {
     "data": {
      "text/plain": [
       "37"
      ]
     },
     "execution_count": 95,
     "metadata": {},
     "output_type": "execute_result"
    },
    {
     "data": {
      "text/plain": [
       "38"
      ]
     },
     "execution_count": 95,
     "metadata": {},
     "output_type": "execute_result"
    },
    {
     "data": {
      "text/plain": [
       "36"
      ]
     },
     "execution_count": 95,
     "metadata": {},
     "output_type": "execute_result"
    }
   ],
   "source": [
    "p = 0.8 # percentage of training data \n",
    "\n",
    "th_r = int(R.shape[1]*p)\n",
    "th_m1 = int(M1.shape[1]*p)\n",
    "th_m2 = int(M2.shape[1]*p) \n",
    "\n",
    "train_r = R[:,:th_r]; test_r = R[:,th_r:]\n",
    "train_m1 = M1[:,:th_m1]; test_m1 = M1[:,th_m1:]\n",
    "train_m2 = M2[:,:th_m2]; test_m2 = M2[:,th_m2:]\n",
    "\n",
    "th_r\n",
    "th_m1\n",
    "th_m2"
   ]
  },
  {
   "cell_type": "markdown",
   "metadata": {},
   "source": [
    "### (##) Train on Sess 0 and 1, test on Sess 2. Uncomment the cell below "
   ]
  },
  {
   "cell_type": "code",
   "execution_count": 7,
   "metadata": {},
   "outputs": [
    {
     "data": {
      "text/plain": [
       "(6, 32, 450, 45)"
      ]
     },
     "execution_count": 7,
     "metadata": {},
     "output_type": "execute_result"
    },
    {
     "data": {
      "text/plain": [
       "(6, 15, 450, 45)"
      ]
     },
     "execution_count": 7,
     "metadata": {},
     "output_type": "execute_result"
    },
    {
     "data": {
      "text/plain": [
       "(6, 30, 450, 45)"
      ]
     },
     "execution_count": 7,
     "metadata": {},
     "output_type": "execute_result"
    },
    {
     "data": {
      "text/plain": [
       "(6, 18, 450, 45)"
      ]
     },
     "execution_count": 7,
     "metadata": {},
     "output_type": "execute_result"
    },
    {
     "data": {
      "text/plain": [
       "(6, 34, 450, 45)"
      ]
     },
     "execution_count": 7,
     "metadata": {},
     "output_type": "execute_result"
    },
    {
     "data": {
      "text/plain": [
       "(6, 12, 450, 45)"
      ]
     },
     "execution_count": 7,
     "metadata": {},
     "output_type": "execute_result"
    }
   ],
   "source": [
    "# Uncomment if you want to train on Sess 0 and 1 only, and test on Sess 2\n",
    "train_r = R; test_r = R_sess2\n",
    "train_m1 = M1; test_m1 = M1_sess2\n",
    "train_m2 = M2; test_m2 = M2_sess2\n",
    "\n",
    "train_r.shape\n",
    "test_r.shape\n",
    "train_m1.shape\n",
    "test_m1.shape\n",
    "train_m2.shape\n",
    "test_m2.shape"
   ]
  },
  {
   "cell_type": "markdown",
   "metadata": {},
   "source": [
    "### Oversample function for train test"
   ]
  },
  {
   "cell_type": "code",
   "execution_count": 8,
   "metadata": {},
   "outputs": [],
   "source": [
    "import pdb\n",
    "def oversample_train_set(*train_set):\n",
    "    max_size = max(arr.shape[1] for arr in train_set)\n",
    "\n",
    "    resampled_arrays = []\n",
    "    for arr in train_set:\n",
    "        ch, trial, time, freq = arr.shape\n",
    "        if trial < max_size:\n",
    "            # Create a list of indices to sample from\n",
    "            indices = np.random.choice(trial, size=max_size, replace=True)\n",
    "            # Resample the array along the trial dimension\n",
    "            resampled_array = arr[:, indices, :, :]\n",
    "        else:\n",
    "            # If the array is already of maximum size, no need to resample\n",
    "            resampled_array = arr\n",
    "        resampled_arrays.append(resampled_array)\n",
    "\n",
    "    return tuple(resampled_arrays)\n"
   ]
  },
  {
   "cell_type": "markdown",
   "metadata": {},
   "source": [
    "### Train set - oversample"
   ]
  },
  {
   "cell_type": "code",
   "execution_count": 9,
   "metadata": {
    "tags": []
   },
   "outputs": [
    {
     "data": {
      "text/plain": [
       "(6, 34, 450, 45)"
      ]
     },
     "execution_count": 9,
     "metadata": {},
     "output_type": "execute_result"
    },
    {
     "data": {
      "text/plain": [
       "(6, 34, 450, 45)"
      ]
     },
     "execution_count": 9,
     "metadata": {},
     "output_type": "execute_result"
    },
    {
     "data": {
      "text/plain": [
       "(6, 34, 450, 45)"
      ]
     },
     "execution_count": 9,
     "metadata": {},
     "output_type": "execute_result"
    }
   ],
   "source": [
    "train_r, train_m1, train_m2 = oversample_train_set(train_r, train_m1, train_m2)\n",
    "train_r.shape\n",
    "train_m1.shape\n",
    "train_m2.shape"
   ]
  },
  {
   "cell_type": "markdown",
   "metadata": {},
   "source": [
    "### Create labels for train and test set"
   ]
  },
  {
   "cell_type": "code",
   "execution_count": 10,
   "metadata": {},
   "outputs": [],
   "source": [
    "def create_labels(R,M1,M2):\n",
    "    \n",
    "    len_R = R.shape[1]\n",
    "    len_M1 = M1.shape[1]\n",
    "    len_M2 = M2.shape[1]\n",
    "    \n",
    "    y = np.array([0] * len_R + [1] * len_M1 + [2] * len_M2)\n",
    "    return y"
   ]
  },
  {
   "cell_type": "code",
   "execution_count": 11,
   "metadata": {},
   "outputs": [
    {
     "data": {
      "text/plain": [
       "(102,)"
      ]
     },
     "execution_count": 11,
     "metadata": {},
     "output_type": "execute_result"
    },
    {
     "data": {
      "text/plain": [
       "(45,)"
      ]
     },
     "execution_count": 11,
     "metadata": {},
     "output_type": "execute_result"
    },
    {
     "data": {
      "text/plain": [
       "0.30612244897959184"
      ]
     },
     "execution_count": 11,
     "metadata": {},
     "output_type": "execute_result"
    }
   ],
   "source": [
    "# train set labels\n",
    "y_train = create_labels(train_r,train_m1,train_m2)\n",
    "y_train.shape\n",
    "# test set labels\n",
    "y_test = create_labels(test_r,test_m1,test_m2)\n",
    "y_test.shape\n",
    "# rate\n",
    "y_test.shape[0]/(y_test.shape[0]+y_train.shape[0])"
   ]
  },
  {
   "cell_type": "markdown",
   "metadata": {},
   "source": [
    "### Train and Test set "
   ]
  },
  {
   "cell_type": "code",
   "execution_count": 12,
   "metadata": {},
   "outputs": [],
   "source": [
    "X_train = np.concatenate((train_r, train_m1, train_m2),axis=1)\n",
    "X_test = np.concatenate((test_r, test_m1, test_m2),axis=1)"
   ]
  },
  {
   "cell_type": "code",
   "execution_count": 13,
   "metadata": {},
   "outputs": [
    {
     "data": {
      "text/plain": [
       "(6, 102, 450, 45)"
      ]
     },
     "execution_count": 13,
     "metadata": {},
     "output_type": "execute_result"
    },
    {
     "data": {
      "text/plain": [
       "(102,)"
      ]
     },
     "execution_count": 13,
     "metadata": {},
     "output_type": "execute_result"
    },
    {
     "data": {
      "text/plain": [
       "(6, 45, 450, 45)"
      ]
     },
     "execution_count": 13,
     "metadata": {},
     "output_type": "execute_result"
    },
    {
     "data": {
      "text/plain": [
       "(45,)"
      ]
     },
     "execution_count": 13,
     "metadata": {},
     "output_type": "execute_result"
    }
   ],
   "source": [
    "# train\n",
    "X_train.shape\n",
    "y_train.shape\n",
    "# test\n",
    "X_test.shape\n",
    "y_test.shape"
   ]
  },
  {
   "cell_type": "markdown",
   "metadata": {},
   "source": [
    "### Flatten array for SVM"
   ]
  },
  {
   "cell_type": "code",
   "execution_count": 15,
   "metadata": {},
   "outputs": [
    {
     "data": {
      "text/plain": [
       "(102, 121500)"
      ]
     },
     "execution_count": 15,
     "metadata": {},
     "output_type": "execute_result"
    },
    {
     "data": {
      "text/plain": [
       "(45, 121500)"
      ]
     },
     "execution_count": 15,
     "metadata": {},
     "output_type": "execute_result"
    },
    {
     "data": {
      "text/plain": [
       "(45,)"
      ]
     },
     "execution_count": 15,
     "metadata": {},
     "output_type": "execute_result"
    }
   ],
   "source": [
    "# (trial, channel * time * frequency)\n",
    "XR_train = np.reshape(X_train, (X_train.shape[1], -1))\n",
    "XR_test = np.reshape(X_test, (X_test.shape[1], -1))\n",
    "XR_train.shape\n",
    "XR_test.shape\n",
    "y_test.shape"
   ]
  },
  {
   "cell_type": "markdown",
   "metadata": {},
   "source": [
    "### Shuflle train and test"
   ]
  },
  {
   "cell_type": "code",
   "execution_count": 16,
   "metadata": {},
   "outputs": [
    {
     "data": {
      "text/plain": [
       "((45, 121500), (45,))"
      ]
     },
     "execution_count": 16,
     "metadata": {},
     "output_type": "execute_result"
    }
   ],
   "source": [
    "from sklearn.utils import shuffle\n",
    "\n",
    "XR_train, y_train = shuffle(XR_train, y_train, random_state=42)\n",
    "XR_test, y_test = shuffle(XR_test, y_test, random_state=42)\n",
    "XR_test.shape, y_test.shape"
   ]
  },
  {
   "cell_type": "markdown",
   "metadata": {},
   "source": [
    "### Normalize, rescale data"
   ]
  },
  {
   "cell_type": "code",
   "execution_count": 17,
   "metadata": {},
   "outputs": [
    {
     "data": {
      "text/plain": [
       "StandardScaler()"
      ]
     },
     "execution_count": 17,
     "metadata": {},
     "output_type": "execute_result"
    }
   ],
   "source": [
    "from sklearn.preprocessing import StandardScaler\n",
    "\n",
    "scaler = StandardScaler()\n",
    "scaler.fit(XR_train)\n",
    "\n",
    "# Transform the training and test data\n",
    "XS_train = scaler.transform(XR_train)\n",
    "XS_test = scaler.transform(XR_test)"
   ]
  },
  {
   "cell_type": "markdown",
   "metadata": {},
   "source": [
    "## TRAIN and TEST model"
   ]
  },
  {
   "cell_type": "markdown",
   "metadata": {
    "tags": []
   },
   "source": [
    "### SVM "
   ]
  },
  {
   "cell_type": "code",
   "execution_count": 18,
   "metadata": {},
   "outputs": [
    {
     "data": {
      "text/plain": [
       "SVC()"
      ]
     },
     "execution_count": 18,
     "metadata": {},
     "output_type": "execute_result"
    },
    {
     "name": "stdout",
     "output_type": "stream",
     "text": [
      "Accuracy:0.93\n"
     ]
    }
   ],
   "source": [
    "from sklearn import svm\n",
    "from sklearn.metrics import accuracy_score\n",
    "from sklearn.model_selection import train_test_split\n",
    "from sklearn.preprocessing import StandardScaler\n",
    "\n",
    "\n",
    "svm_classifier = svm.SVC(kernel='rbf')\n",
    "svm_classifier.fit(XS_train, y_train)\n",
    "\n",
    "# predictions on the test data\n",
    "y_pred = svm_classifier.predict(XS_test)\n",
    "\n",
    "# accuracy of the classifier\n",
    "accuracy = accuracy_score(y_test, y_pred)\n",
    "print(\"Accuracy:{:.2f}\".format(accuracy))\n"
   ]
  },
  {
   "cell_type": "code",
   "execution_count": 19,
   "metadata": {},
   "outputs": [],
   "source": [
    "def plot_confusion_matrix(y_true, y_pred, classes,normalize=False,title=''):\n",
    "\n",
    "    cm = confusion_matrix(y_true, y_pred)\n",
    "    if normalize:\n",
    "        cm = cm.astype('float') / cm.sum(axis=1)[:, np.newaxis]  # Normalize by row\n",
    "    plt.figure(figsize=(8, 6))\n",
    "    sns.heatmap(cm, annot=True, fmt=\".2f\" if normalize else \"d\", cmap=\"Blues\", xticklabels=classes, yticklabels=classes)\n",
    "    plt.title(\"Confusion Matrix \" + title)\n",
    "    plt.xlabel(\"Predicted Label\")\n",
    "    plt.ylabel(\"True Label\")\n",
    "\n",
    "    return plt.gca()\n",
    "\n",
    "# class labels\n",
    "classes = ['Rest', 'M1', 'M2']"
   ]
  },
  {
   "cell_type": "code",
   "execution_count": 20,
   "metadata": {},
   "outputs": [
    {
     "data": {
      "image/png": "[encoded data removed]",
      "text/plain": [
       "<Figure size 576x432 with 2 Axes>"
      ]
     },
     "metadata": {
      "needs_background": "light"
     },
     "output_type": "display_data"
    }
   ],
   "source": [
    "# Plot the confusion matrix\n",
    "axes = plot_confusion_matrix(y_test, y_pred,classes,normalize=True,title='-- SVM')"
   ]
  },
  {
   "cell_type": "markdown",
   "metadata": {},
   "source": [
    "### SVM classification report"
   ]
  },
  {
   "cell_type": "code",
   "execution_count": 21,
   "metadata": {},
   "outputs": [
    {
     "name": "stdout",
     "output_type": "stream",
     "text": [
      "              precision    recall  f1-score   support\n",
      "\n",
      "           0       1.00      1.00      1.00        15\n",
      "           1       1.00      0.83      0.91        18\n",
      "           2       0.80      1.00      0.89        12\n",
      "\n",
      "    accuracy                           0.93        45\n",
      "   macro avg       0.93      0.94      0.93        45\n",
      "weighted avg       0.95      0.93      0.93        45\n",
      "\n"
     ]
    }
   ],
   "source": [
    "# SVM\n",
    "print(classification_report(y_test, y_pred))"
   ]
  },
  {
   "cell_type": "code",
   "execution_count": null,
   "metadata": {},
   "outputs": [],
   "source": [
    "import torch\n",
    "import torch.nn as nn\n",
    "import torch.optim as optim\n",
    "from torch.utils.data import DataLoader\n",
    "\n",
    "# Define your MLP model\n",
    "class MLP(nn.Module):\n",
    "    def __init__(self, input_size, hidden_size, num_classes, dropout_rate):\n",
    "        super(MLP, self).__init__()\n",
    "        self.fc1 = nn.Linear(input_size, hidden_size)\n",
    "        self.fc2 = nn.Linear(hidden_size, hidden_size)\n",
    "        self.fc3 = nn.Linear(hidden_size, num_classes)\n",
    "        self.dropout = nn.Dropout(dropout_rate)\n",
    "\n",
    "    def forward(self, x):\n",
    "        x = torch.relu(self.fc1(x))\n",
    "        x = self.dropout(x)\n",
    "        x = self.fc2(x)\n",
    "        return x"
   ]
  },
  {
   "cell_type": "code",
   "execution_count": null,
   "metadata": {},
   "outputs": [],
   "source": [
    "# Set the hyperparameters\n",
    "input_size = XS_train.shape[1]  # Number of input features\n",
    "hidden_size = 64  # Number of neurons in the hidden layer\n",
    "num_classes = len(set(y_train))  # Number of output classes\n",
    "dropout_rate = 0.3  # Dropout rate\n",
    "\n",
    "# Create an instance of the MLP model\n",
    "model = MLP(input_size, hidden_size, num_classes, dropout_rate)\n",
    "\n",
    "# Define the loss function and optimizer\n",
    "criterion = nn.CrossEntropyLoss()\n",
    "optimizer = optim.Adam(model.parameters(), lr=0.001)\n",
    "\n",
    "# Convert the data into PyTorch tensors\n",
    "X_train_tensor = torch.Tensor(XS_train)\n",
    "y_train_tensor = torch.LongTensor(y_train)\n",
    "\n",
    "# Create a DataLoader for training data\n",
    "train_dataset = torch.utils.data.TensorDataset(X_train_tensor, y_train_tensor)\n",
    "train_loader = DataLoader(train_dataset, batch_size=64, shuffle=True)\n",
    "\n",
    "# Train the MLP model\n",
    "num_epochs = 100\n",
    "for epoch in range(num_epochs):\n",
    "    for inputs, labels in train_loader:\n",
    "        optimizer.zero_grad()\n",
    "        outputs = model(inputs)\n",
    "        loss = criterion(outputs, labels)\n",
    "        loss.backward()\n",
    "        optimizer.step()\n",
    "\n",
    "# Convert the test data into PyTorch tensors\n",
    "X_test_tensor = torch.Tensor(XS_test)\n",
    "\n",
    "# Make predictions on the test data\n",
    "with torch.no_grad():\n",
    "    outputs = model(X_test_tensor)\n",
    "    _, predicted = torch.max(outputs.data, 1)\n",
    "    y_pred = predicted.numpy()\n",
    "\n",
    "# Calculate the accuracy\n",
    "accuracy = (y_pred == y_test).mean()\n",
    "print(\"Accuracy:\", accuracy)\n"
   ]
  },
  {
   "cell_type": "code",
   "execution_count": null,
   "metadata": {},
   "outputs": [],
   "source": [
    "y_pred\n",
    "y_test"
   ]
  },
  {
   "cell_type": "code",
   "execution_count": null,
   "metadata": {},
   "outputs": [],
   "source": [
    "plot_confusion_matrix(y_test, y_pred,classes,normalize=False,title='-- MLP')"
   ]
  },
  {
   "cell_type": "code",
   "execution_count": null,
   "metadata": {},
   "outputs": [],
   "source": [
    "# MLP\n",
    "print (classification_report(y_test, y_pred))"
   ]
  }
 ],
 "metadata": {
  "kernelspec": {
   "display_name": "Python 3 (ipykernel)",
   "language": "python",
   "name": "python3"
  },
  "language_info": {
   "codemirror_mode": {
    "name": "ipython",
    "version": 3
   },
   "file_extension": ".py",
   "mimetype": "text/x-python",
   "name": "python",
   "nbconvert_exporter": "python",
   "pygments_lexer": "ipython3",
   "version": "3.9.7"
  }
 },
 "nbformat": 4,
 "nbformat_minor": 4
}
