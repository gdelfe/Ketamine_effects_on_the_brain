{
 "cells": [
  {
   "cell_type": "code",
   "execution_count": null,
   "id": "0c00e1c7-a310-4798-96fc-686a7413c2a0",
   "metadata": {},
   "outputs": [],
   "source": []
  },
  {
   "cell_type": "code",
   "execution_count": 29,
   "id": "401a23af-b0f9-4e7a-b149-df251d37e23b",
   "metadata": {},
   "outputs": [],
   "source": [
    "import numpy as np\n",
    "import os\n",
    "import pickle\n",
    "from utilities_ketamine_analysis_v8 import *"
   ]
  },
  {
   "cell_type": "markdown",
   "id": "c1b69869-544d-45ff-a5c8-834c2f98463e",
   "metadata": {},
   "source": [
    "### Load behavior "
   ]
  },
  {
   "cell_type": "code",
   "execution_count": 30,
   "id": "8f00e41c-5653-4410-b069-b6428aea13a9",
   "metadata": {},
   "outputs": [],
   "source": [
    "speed_path = r'C:\\Users\\fentonlab\\Desktop\\Gino\\behaviour\\\\'\n",
    "x = np.load(os.path.join(speed_path, \"x_aln.npy\"), allow_pickle=True)\n",
    "y = np.load(os.path.join(speed_path, \"y_aln.npy\"), allow_pickle=True)\n",
    "speed = np.load(os.path.join(speed_path, \"speed_aln.npy\"), allow_pickle=True)\n",
    "yaw = np.load(os.path.join(speed_path, \"yaw_aln.npy\"), allow_pickle=True)"
   ]
  },
  {
   "cell_type": "markdown",
   "id": "6c6f77ca-13fa-425e-a2c2-4ae2392c796f",
   "metadata": {},
   "source": [
    "### Load paths"
   ]
  },
  {
   "cell_type": "code",
   "execution_count": 31,
   "id": "d1ae30ea-cbdf-407f-ab70-7246c08cdd67",
   "metadata": {},
   "outputs": [],
   "source": [
    "out_path = Path(r'C:\\Users\\fentonlab\\Desktop\\Gino\\HPC_channel_info\\\\')\n",
    "\n",
    "sync_PATH = os.path.join(out_path,'sync_path_matched.pkl')\n",
    "nt_PATH = os.path.join(out_path,'nt_path_matched.pkl')\n",
    "ksort_PATH = os.path.join(out_path,'ksort_HPC_path_matched.pkl')\n",
    "\n",
    "with open(sync_PATH,'rb') as file:\n",
    "    sync_path_matched = pickle.load(file)\n",
    "    \n",
    "with open(nt_PATH,'rb') as file:\n",
    "    nt_path_matched= pickle.load(file)\n",
    "    \n",
    "with open(ksort_PATH,'rb') as file:\n",
    "    ksort_HPC_path_matched = pickle.load(file)\n",
    "    \n"
   ]
  },
  {
   "cell_type": "code",
   "execution_count": 32,
   "id": "3a794254-4732-4cd9-89c3-ec66c2181740",
   "metadata": {},
   "outputs": [],
   "source": [
    "sess = 0"
   ]
  },
  {
   "cell_type": "code",
   "execution_count": 34,
   "id": "b9275cb8-994f-4c01-939c-44b2daa98e1d",
   "metadata": {},
   "outputs": [],
   "source": [
    "# load HPC file names and store them in rec spikes at 250 Hz\n",
    "path_spike = Path(r'Z:\\NeuroPix\\spk_ketamine\\HPC\\\\')\n",
    "rec_name = 'spk_250Hz_' + str(sess) + '.file'\n",
    "spk_file_name = os.path.join(path_spike , rec_name)\n",
    "\n",
    "with open(spk_file_name,'rb') as f:\n",
    "    spikes_binned_all_HPC = pickle.load(f)\n",
    "    \n",
    "# load behavior and upsample to 250Hz"
   ]
  },
  {
   "cell_type": "code",
   "execution_count": 39,
   "id": "35a23592-a3a2-42d8-be6a-b347c1085db5",
   "metadata": {},
   "outputs": [
    {
     "data": {
      "text/plain": [
       "(1800499, (720214,), (720214,))"
      ]
     },
     "execution_count": 39,
     "metadata": {},
     "output_type": "execute_result"
    }
   ],
   "source": [
    "spikes_binned_all_HPC[0].shape[1], x[0].shape, speed[0].shape"
   ]
  },
  {
   "cell_type": "code",
   "execution_count": 40,
   "id": "3731bf63-4d49-4f12-a9ba-959c6ff3317e",
   "metadata": {},
   "outputs": [],
   "source": [
    "spk = spikes_binned_all_HPC"
   ]
  },
  {
   "cell_type": "code",
   "execution_count": null,
   "id": "4a3cc811-8381-40ad-b5ba-a93a3f04a0bc",
   "metadata": {},
   "outputs": [],
   "source": [
    "## load spk files\n",
    "## load behavior at 100 Hz\n",
    "## upsample behavior to 250Hz\n",
    "## load lfp at 250 hz of that recording"
   ]
  },
  {
   "cell_type": "code",
   "execution_count": null,
   "id": "939be3ff-6bea-4ae2-8258-40536dfce1e2",
   "metadata": {},
   "outputs": [],
   "source": [
    "## spk_mask = true/false per cell when it spikes at 250 Hz\n",
    "## phase_mask = hilbert transform of lfp to phase at 250Hz per frequency band (every 4-8 Hz)\n",
    "## histogram1D with spk_mask as weights\n",
    "\n",
    "# Lfp = spk\n",
    "# speed = "
   ]
  },
  {
   "cell_type": "code",
   "execution_count": 62,
   "id": "5b7f0950-5420-4ece-a407-ed09e8c3be5b",
   "metadata": {},
   "outputs": [
    {
     "data": {
      "text/plain": [
       "(720214, 1800499)"
      ]
     },
     "execution_count": 62,
     "metadata": {},
     "output_type": "execute_result"
    }
   ],
   "source": [
    "behav_T = np.linspace(0, len(speed[sess])/ 100, len(speed[sess]))\n",
    "spk_T = np.linspace(0, spk[0].shape[1]/ 250, spk[0].shape[1]) # all cells have same time length\n",
    "behav_T.size, spk_T.size"
   ]
  },
  {
   "cell_type": "code",
   "execution_count": 64,
   "id": "bb114867-8832-4cf9-81e9-352fe953f163",
   "metadata": {},
   "outputs": [],
   "source": [
    "def upsample_behaviour(spk, speed, x, y, sess, spk_rate = 250, behav_rate = 100):\n",
    "    \n",
    "    # time length for speed and spike variables\n",
    "    behav_T = np.linspace(0, len(speed[sess])/ behav_rate, len(speed[sess]))\n",
    "    spk_T = np.linspace(0, spk[0].shape[1]/ spk_rate, spk[0].shape[1]) # all cells have same time length\n",
    "\n",
    "    # interpolate speed variable based on spike \n",
    "    interpolator = interp1d(behav_T, speed[sess], kind = 'linear', fill_value=\"extrapolate\")\n",
    "    speed_upsampled = interpolator(spk_T)\n",
    "    \n",
    "    # interpolate x variable based on spike \n",
    "    interpolator = interp1d(behav_T, x[sess], kind = 'linear', fill_value=\"extrapolate\")\n",
    "    x_upsampled = interpolator(spk_T)\n",
    "    \n",
    "    # interpolate y variable based on spike \n",
    "    interpolator = interp1d(behav_T, y[sess], kind = 'linear', fill_value=\"extrapolate\")\n",
    "    y_upsampled = interpolator(spk_T)\n",
    "    \n",
    "    # check if upsample done correctly\n",
    "    if (speed_upsampled.size - spk[0].shape[1]) !=0:\n",
    "        sys.exit(\"Speed upsampled size and spike size are not the same!\")\n",
    "    print('speed upsampled shape {}, spike shape {}'.format(speed_upsampled.shape, spk[0].shape))\n",
    "    \n",
    "    return speed_upsample, x_upsampled, y_upsampled"
   ]
  },
  {
   "cell_type": "code",
   "execution_count": 66,
   "id": "ddba47cc-2a7c-481b-bf79-ebdd95bc879d",
   "metadata": {},
   "outputs": [
    {
     "name": "stdout",
     "output_type": "stream",
     "text": [
      "speed upsampled shape (1800499,), spike shape (565, 1800499)\n"
     ]
    },
    {
     "ename": "NameError",
     "evalue": "name 'speed_upsample' is not defined",
     "output_type": "error",
     "traceback": [
      "\u001b[1;31m---------------------------------------------------------------------------\u001b[0m",
      "\u001b[1;31mNameError\u001b[0m                                 Traceback (most recent call last)",
      "Input \u001b[1;32mIn [66]\u001b[0m, in \u001b[0;36m<cell line: 1>\u001b[1;34m()\u001b[0m\n\u001b[1;32m----> 1\u001b[0m speed_up, x_up, y_up \u001b[38;5;241m=\u001b[39m \u001b[43mupsample_behaviour\u001b[49m\u001b[43m(\u001b[49m\u001b[43mspk\u001b[49m\u001b[43m,\u001b[49m\u001b[43m \u001b[49m\u001b[43mspeed\u001b[49m\u001b[43m,\u001b[49m\u001b[43m \u001b[49m\u001b[43mx\u001b[49m\u001b[43m,\u001b[49m\u001b[43m \u001b[49m\u001b[43my\u001b[49m\u001b[43m,\u001b[49m\u001b[43m \u001b[49m\u001b[43msess\u001b[49m\u001b[43m)\u001b[49m\n",
      "Input \u001b[1;32mIn [64]\u001b[0m, in \u001b[0;36mupsample_behaviour\u001b[1;34m(spk, speed, x, y, sess, spk_rate, behav_rate)\u001b[0m\n\u001b[0;32m     21\u001b[0m     sys\u001b[38;5;241m.\u001b[39mexit(\u001b[38;5;124m\"\u001b[39m\u001b[38;5;124mSpeed upsampled size and spike size are not the same!\u001b[39m\u001b[38;5;124m\"\u001b[39m)\n\u001b[0;32m     22\u001b[0m \u001b[38;5;28mprint\u001b[39m(\u001b[38;5;124m'\u001b[39m\u001b[38;5;124mspeed upsampled shape \u001b[39m\u001b[38;5;132;01m{}\u001b[39;00m\u001b[38;5;124m, spike shape \u001b[39m\u001b[38;5;132;01m{}\u001b[39;00m\u001b[38;5;124m'\u001b[39m\u001b[38;5;241m.\u001b[39mformat(speed_upsampled\u001b[38;5;241m.\u001b[39mshape, spk[\u001b[38;5;241m0\u001b[39m]\u001b[38;5;241m.\u001b[39mshape))\n\u001b[1;32m---> 24\u001b[0m \u001b[38;5;28;01mreturn\u001b[39;00m \u001b[43mspeed_upsample\u001b[49m, x_upsampled, y_upsampled\n",
      "\u001b[1;31mNameError\u001b[0m: name 'speed_upsample' is not defined"
     ]
    }
   ],
   "source": [
    "speed_up, x_up, y_up = upsample_behaviour(spk, speed, x, y, sess)"
   ]
  },
  {
   "cell_type": "code",
   "execution_count": null,
   "id": "da855d93-7697-464f-a1ba-6bcb7e7c788a",
   "metadata": {},
   "outputs": [],
   "source": []
  },
  {
   "cell_type": "code",
   "execution_count": null,
   "id": "e7a26197-6e78-415b-ad83-4e0e6f41f21e",
   "metadata": {},
   "outputs": [],
   "source": []
  },
  {
   "cell_type": "code",
   "execution_count": null,
   "id": "2ce68b4b-8ef8-412e-ba5e-c3692cbf82d8",
   "metadata": {},
   "outputs": [],
   "source": []
  },
  {
   "cell_type": "code",
   "execution_count": null,
   "id": "ab38e028-253f-48dd-ba43-ea97761d3b68",
   "metadata": {},
   "outputs": [],
   "source": [
    "\n",
    "\n",
    "## spk is cell x time\n",
    "## x and y positions in time\n",
    "## win_legth which is the length of the path\n",
    "\n",
    "def overdispersion(spk,xframes,yframes,iPosframes,win_length, thresh, frame, ipos_mode):\n",
    "\n",
    "    Nbins = 16\n",
    "    edgelength = 256/Nbins\n",
    "    edges = np.arange(0,257,edgelength)\n",
    "    sampRate = 7.5 # number of samples in a second\n",
    "\n",
    "    occ_all = []\n",
    "    rate_maps_all = []\n",
    "    mean_fr_all = []\n",
    "    mask_high_fr_all = []\n",
    "    mask_deltaipos_all = []\n",
    "    observed_rate_all = []\n",
    "    expected_rate_all = []\n",
    "    z_all = []\n",
    "    \n",
    "    binx_all = []\n",
    "    biny_all = []\n",
    "        \n",
    "    if frame == \"room\":\n",
    "        x,y,ipos = [],[],[]\n",
    "        x = np.squeeze(xframes[0])\n",
    "        y = np.squeeze(yframes[0])  \n",
    "        ipos = iPosframes[0][0] \n",
    "        \n",
    "    if frame == \"arena\":\n",
    "        x,y,ipos = [],[],[]\n",
    "        x = np.squeeze(xframes[1])\n",
    "        y = np.squeeze(yframes[1])   \n",
    "        ipos = iPosframes[0][1]      \n",
    "    print('ipos_shape',ipos.shape)\n",
    "    \n",
    "    deltaipos = []\n",
    "    deltaipos = iPosframes[0][0] - iPosframes[0][1] \n",
    "    \n",
    "    # COMPUTING THE RATE MAPS\n",
    "    for icell in range(0,spk.shape[0]):\n",
    "        occ = []\n",
    "        rate_maps_temp = []\n",
    "\n",
    "        ## remove nans\n",
    "\n",
    "        idx_nan = []\n",
    "        idx_nan = np.invert(np.isnan(x) | np.isnan(y))\n",
    "        \n",
    "        mean_fr = []\n",
    "        mean_fr = np.nansum(spk[icell])/(spk[icell].size/sampRate)\n",
    "        \n",
    "\n",
    "        # compute position map\n",
    "        occ = np.histogram2d(x[idx_nan], y[idx_nan], bins=edges)[0]/sampRate\n",
    "        # compute firing rate map normalized by occupancy\n",
    "        rate_maps_temp = [np.histogram2d(x[idx_nan], y[idx_nan], bins=edges, weights=spk[icell][idx_nan])[0] / occ]\n",
    "\n",
    "        # plot firing rate map per cell\n",
    "        figure, axes = plt.subplots(figsize=(3,3))         \n",
    "        sns.heatmap(rate_maps_temp[0])\n",
    "        plt.show()\n",
    "        \n",
    "        \n",
    "        ## not sure if that is real\n",
    "        if mean_fr > 2:\n",
    "#         if np.max(rate_maps_temp[0]) > 20 or np.max(rate_maps_temp[0]) < 10:\n",
    "            print('high mean fr', mean_fr)\n",
    "            print('PC peak rate',np.max(rate_maps_temp[0]))\n",
    "            continue\n",
    "        \n",
    "        mean_fr_all.append(mean_fr)\n",
    "        occ_all.append(occ)\n",
    "        rate_maps_all.append(rate_maps_temp)\n",
    "        \n",
    "        ## compute overdispersion in windows of 5 seconds\n",
    "        \n",
    "        n_windows = []\n",
    "        n_windows = spk[icell][idx_nan].size // win_length\n",
    "        print('total number of epochs', n_windows)\n",
    "        print('length of spiking in samples',spk[icell][idx_nan].size)\n",
    "        spk_split = []\n",
    "        \n",
    "        if (spk[icell][idx_nan].size % win_length) > 0:\n",
    "            spk_split = np.split(spk[icell][idx_nan][:-(spk[icell][idx_nan].size % win_length)],n_windows)\n",
    "        if (spk[icell][idx_nan].size % win_length) == 0:\n",
    "            spk_split = np.split(spk[icell][idx_nan],n_windows)\n",
    "            \n",
    "        print('spk.length',spk[icell][idx_nan].size)\n",
    "        print('one path size',spk_split[0].shape)\n",
    "        print('check')\n",
    "        print(spk_split[0])\n",
    "        print(spk[icell][idx_nan][0:30])\n",
    "\n",
    "        if (spk[icell][idx_nan].size % win_length) > 0:\n",
    "\n",
    "            x_split = []\n",
    "            x_split = np.split(x[idx_nan][:-(spk[icell][idx_nan].size % win_length)],n_windows)\n",
    "            y_split = []\n",
    "            y_split = np.split(y[idx_nan][:-(spk[icell][idx_nan].size % win_length)],n_windows)   \n",
    "\n",
    "            ## per time point compute expected rate, firing rate map sum over time\n",
    "\n",
    "            bin_x = []\n",
    "            bin_y = []       \n",
    "\n",
    "            bin_x = [np.max([0,np.where(x_curr <= edges)[0][0]-1]) for x_curr in x[idx_nan][:-(spk[icell][idx_nan].size % win_length)]]\n",
    "            bin_y = [np.max([0,np.where(y_curr <= edges)[0][0]-1]) for y_curr in y[idx_nan][:-(spk[icell][idx_nan].size % win_length)]]\n",
    "\n",
    "        if (spk[icell][idx_nan].size % win_length) == 0:\n",
    "\n",
    "            x_split = []\n",
    "            x_split = np.split(x[idx_nan],n_windows)\n",
    "            y_split = []\n",
    "            y_split = np.split(y[idx_nan],n_windows)   \n",
    "\n",
    "            ## per time point compute expected rate, firing rate map sum over time\n",
    "\n",
    "            bin_x = []\n",
    "            bin_y = []       \n",
    "\n",
    "            bin_x = [np.max([0,np.where(x_curr <= edges)[0][0]-1]) for x_curr in x[idx_nan]]\n",
    "            bin_y = [np.max([0,np.where(y_curr <= edges)[0][0]-1]) for y_curr in y[idx_nan]]\n",
    "            \n",
    "        ### ipos per cell\n",
    "        if ipos_mode == \"cell\":\n",
    "            if (spk[icell][idx_nan].size % win_length) > 0:\n",
    "                deltaipos_split = np.split(deltaipos[icell][idx_nan][:-(spk[icell][idx_nan].size % win_length)],n_windows)\n",
    "            if (spk[icell][idx_nan].size % win_length) == 0:\n",
    "                deltaipos_split = np.split(deltaipos[icell][idx_nan],n_windows)        \n",
    " \n",
    "        ### ipos as a population\n",
    "        if ipos_mode == \"population\":\n",
    "            if (spk[icell][idx_nan].size % win_length) > 0:\n",
    "                deltaipos_split = np.split(np.nansum(deltaipos,axis=0)[idx_nan][:-(spk[icell][idx_nan].size % win_length)],n_windows)\n",
    "            if (spk[icell][idx_nan].size % win_length) == 0:\n",
    "                deltaipos_split = np.split(np.nansum(deltaipos,axis=0)[idx_nan],n_windows)        \n",
    "        \n",
    "        expected_timeseries = []\n",
    "        expected_timeseries = [rate_maps_temp[0][bx,by]/sampRate  for bx,by in zip(bin_x,bin_y)]\n",
    "#         expected_timeseries = [rate_maps_temp[0][bx,by]/sampRate  for bx,by in zip(bin_x,bin_y)]\n",
    "\n",
    "        expected_timeseries_split = []        \n",
    "        expected_timeseries_split = np.split(np.concatenate(expected_timeseries, axis=None),n_windows)   \n",
    "\n",
    "        observed_rate, expected_rate = [], []\n",
    "\n",
    "        # compute observed rate in the epoch\n",
    "        observed_rate = [np.sum(p) for p in spk_split]\n",
    "\n",
    "        #compute expected rate in the epoch from mean firing rate map\n",
    "        expected_rate = [np.sum(p) for p in expected_timeseries_split]\n",
    "\n",
    "        mask_highfr = []\n",
    "        mask_highfr = [s > mean_fr*thresh for s in expected_rate]\n",
    "        \n",
    "        mask_ipos = []\n",
    "        mask_ipos = [np.nanmean(s)>0 for s in deltaipos_split]\n",
    "        \n",
    "        mask_deltaipos_all.append(mask_ipos) ## positive means room frame\n",
    "\n",
    "        z = []\n",
    "        z = [(o-e)/np.sqrt(e) for o,e in zip(observed_rate,expected_rate)]\n",
    "\n",
    "        mask_high_fr_all.append(mask_highfr)\n",
    "        observed_rate_all.append(observed_rate)\n",
    "        expected_rate_all.append(expected_rate)\n",
    "        z_all.append(z)\n",
    "        \n",
    "        binx_all.append(bin_x)\n",
    "        biny_all.append(bin_y)\n",
    "        \n",
    "        ## plot expected and observed rate\n",
    "        \n",
    "        fig = plt.figure(figsize=(8,8))\n",
    "        ax = fig.add_subplot(1,1,1)\n",
    "        win = np.arange(0,n_windows,1)\n",
    "        ax.scatter(win, np.hstack(observed_rate)/(win_length/sampRate), color = 'black')\n",
    "        ax.scatter(win, np.hstack(expected_rate)/(win_length/sampRate), color = 'red')\n",
    "        ax.plot(mean_fr*np.ones(300), '--', color = 'gray')\n",
    "\n",
    "        ax.set_ylabel('spikes per second')\n",
    "        ax.set_xlabel('Path #')\n",
    "        plt.show()\n",
    "        \n",
    "        ## plot z\n",
    "        \n",
    "        fig = plt.figure(figsize=(6,4))\n",
    "        ax = fig.add_subplot(1,1,1)\n",
    "        win = np.arange(0,n_windows,1)\n",
    "        ax.scatter(win, z, color = 'black')\n",
    "        ax.set_ylabel('Z')\n",
    "        ax.set_xlabel('Path #')\n",
    "        plt.show()        \n",
    "        \n",
    "    x, y, spk = [], [], []\n",
    "        \n",
    "    return occ_all, rate_maps_all, mean_fr_all, mask_high_fr_all,mask_deltaipos_all, observed_rate_all,expected_rate_all,z_all, binx_all, biny_all\n"
   ]
  }
 ],
 "metadata": {
  "kernelspec": {
   "display_name": "Python 3 (ipykernel)",
   "language": "python",
   "name": "python3"
  },
  "language_info": {
   "codemirror_mode": {
    "name": "ipython",
    "version": 3
   },
   "file_extension": ".py",
   "mimetype": "text/x-python",
   "name": "python",
   "nbconvert_exporter": "python",
   "pygments_lexer": "ipython3",
   "version": "3.9.13"
  }
 },
 "nbformat": 4,
 "nbformat_minor": 5
}
