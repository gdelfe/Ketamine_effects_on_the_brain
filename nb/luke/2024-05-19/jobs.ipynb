{
 "cells": [
  {
   "cell_type": "code",
   "execution_count": 4,
   "id": "e73bc0cb-5767-40c0-bdab-84fdf0a17288",
   "metadata": {
    "tags": []
   },
   "outputs": [],
   "source": [
    "dates = [\n",
    "    '2022-07-27',\n",
    "    '2022-07-28',\n",
    "    '2022-08-01',\n",
    "    '2022-08-03',\n",
    "    '2022-08-04',\n",
    "    '2022-08-06',\n",
    "    '2022-08-08',\n",
    "    # '2022-08-10', # missing lfp start/end annotation and behavioral data\n",
    "    '2022-08-11',\n",
    "    '2022-08-12',\n",
    "    '2022-08-13',\n",
    "    '2022-08-15',\n",
    "    '2022-09-12',\n",
    "    '2022-09-14',\n",
    "    '2022-09-16',\n",
    "]\n",
    "regions = ['hpc', 'pfc']"
   ]
  },
  {
   "cell_type": "code",
   "execution_count": 5,
   "id": "585b755a-b443-4081-8dc0-46bd928c5d2f",
   "metadata": {
    "tags": []
   },
   "outputs": [],
   "source": [
    "l = []\n",
    "for date in dates:\n",
    "    for region in regions:\n",
    "        params = {\n",
    "            'date': date,\n",
    "            'region': region,\n",
    "        }\n",
    "        l.append(params)"
   ]
  },
  {
   "cell_type": "code",
   "execution_count": 6,
   "id": "49b48fe0-d12f-4929-b525-cd79ed91bc3e",
   "metadata": {
    "tags": []
   },
   "outputs": [],
   "source": [
    "import json\n",
    "with open('params.json', 'w') as f:\n",
    "    json.dump(l, f)"
   ]
  },
  {
   "cell_type": "code",
   "execution_count": null,
   "id": "04564fd4-7b34-4d20-a6ab-8c876b7f8b0e",
   "metadata": {},
   "outputs": [],
   "source": []
  }
 ],
 "metadata": {
  "kernelspec": {
   "display_name": "Python 3 (ipykernel)",
   "language": "python",
   "name": "python3"
  },
  "language_info": {
   "codemirror_mode": {
    "name": "ipython",
    "version": 3
   },
   "file_extension": ".py",
   "mimetype": "text/x-python",
   "name": "python",
   "nbconvert_exporter": "python",
   "pygments_lexer": "ipython3",
   "version": "3.10.10"
  }
 },
 "nbformat": 4,
 "nbformat_minor": 5
}
