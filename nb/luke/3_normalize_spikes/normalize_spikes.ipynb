{
 "cells": [
  {
   "cell_type": "markdown",
   "id": "219e03af-0b9f-4b02-8948-acd50ecbcb77",
   "metadata": {},
   "source": [
    "# Normalize PFC and HPC spike data"
   ]
  },
  {
   "cell_type": "code",
   "execution_count": 1,
   "id": "9c60746d-cf2e-460b-9671-ca9f3528a327",
   "metadata": {
    "tags": []
   },
   "outputs": [],
   "source": [
    "import os\n",
    "import json\n",
    "import numpy as np\n",
    "import pandas as pd"
   ]
  },
  {
   "cell_type": "code",
   "execution_count": 2,
   "id": "7da1b90b-0cad-458c-8d9a-af9f0280717f",
   "metadata": {
    "tags": []
   },
   "outputs": [],
   "source": [
    "import src.paths"
   ]
  },
  {
   "cell_type": "code",
   "execution_count": 3,
   "id": "e1dda674-639d-48cf-8e54-ca36d574553e",
   "metadata": {
    "tags": []
   },
   "outputs": [],
   "source": [
    "with open(src.paths.REF / 'date_recid.json', 'r') as f:\n",
    "    recids = json.load(f)"
   ]
  },
  {
   "cell_type": "code",
   "execution_count": 4,
   "id": "9b08beb5-066f-4e14-a123-20b7df0b148c",
   "metadata": {
    "tags": []
   },
   "outputs": [],
   "source": [
    "dates = [\n",
    "    # '2022-07-27',\n",
    "    '2022-07-28',\n",
    "    '2022-08-01',\n",
    "    '2022-08-03',\n",
    "    '2022-08-04',\n",
    "    '2022-08-06',\n",
    "    '2022-08-08',\n",
    "    '2022-08-11',\n",
    "    '2022-08-12',\n",
    "    '2022-08-13',\n",
    "    '2022-08-15',\n",
    "    '2022-09-12',\n",
    "    '2022-09-14',\n",
    "    '2022-09-16',\n",
    "]"
   ]
  },
  {
   "cell_type": "code",
   "execution_count": 5,
   "id": "8ed9c358-d716-45a7-8347-f8723c2edd8a",
   "metadata": {
    "tags": []
   },
   "outputs": [
    {
     "name": "stdout",
     "output_type": "stream",
     "text": [
      "2022-07-28 hpc (397, 1855999)\n",
      "2022-08-01 hpc (223, 1800499)\n",
      "2022-08-03 hpc (200, 1800249)\n",
      "2022-08-04 hpc (192, 1800999)\n",
      "2022-08-06 hpc (121, 1798249)\n",
      "2022-08-08 hpc (115, 1800749)\n",
      "2022-08-11 hpc (128, 1802249)\n",
      "2022-08-12 hpc (252, 1800999)\n",
      "2022-08-13 hpc (116, 1801249)\n",
      "2022-08-15 hpc (164, 1800999)\n",
      "2022-09-12 hpc (328, 1800749)\n",
      "2022-09-14 hpc (102, 1806249)\n",
      "2022-09-16 hpc (106, 1800499)\n",
      "2022-07-28 pfc (479, 1855999)\n",
      "2022-08-01 pfc (99, 1800499)\n",
      "2022-08-03 pfc (122, 1800249)\n",
      "2022-08-04 pfc (133, 1800999)\n",
      "2022-08-06 pfc (77, 1798249)\n",
      "2022-08-08 pfc (371, 1800749)\n",
      "2022-08-11 pfc (425, 1802249)\n",
      "2022-08-12 pfc (212, 1800999)\n",
      "2022-08-13 pfc (127, 1801249)\n",
      "2022-08-15 pfc (244, 1800999)\n",
      "2022-09-12 pfc (607, 1800749)\n",
      "2022-09-14 pfc (371, 1806249)\n",
      "2022-09-16 pfc (266, 1800499)\n"
     ]
    }
   ],
   "source": [
    "for region in ['hpc', 'pfc']:\n",
    "    for date in dates:\n",
    "        recid = recids[date]\n",
    "\n",
    "        file = f'spk_250Hz_{recid}.file'\n",
    "        path = src.paths.DATA / 'spikes' / region / file\n",
    "        spikes, unitids, chanids = pd.read_pickle(path)\n",
    "        print(date, region, spikes.shape)\n",
    "\n",
    "        units = pd.DataFrame({'unit': unitids, 'channel': chanids})\n",
    "        units = pd.MultiIndex.from_frame(units)\n",
    "        time = pd.Series(np.arange(spikes.shape[1]) / 250, name='time')\n",
    "        df = pd.DataFrame(spikes.T, index=time, columns=units)\n",
    "\n",
    "        path = src.paths.DATA / date / f'{date}-{region}-spikes.pkl'\n",
    "        df.to_pickle(path)"
   ]
  },
  {
   "cell_type": "code",
   "execution_count": null,
   "id": "92d0722e-a64e-43dd-a175-c319d4cd1ff6",
   "metadata": {},
   "outputs": [],
   "source": []
  }
 ],
 "metadata": {
  "kernelspec": {
   "display_name": "kfx",
   "language": "python",
   "name": "kfx"
  },
  "language_info": {
   "codemirror_mode": {
    "name": "ipython",
    "version": 3
   },
   "file_extension": ".py",
   "mimetype": "text/x-python",
   "name": "python",
   "nbconvert_exporter": "python",
   "pygments_lexer": "ipython3",
   "version": "3.10.10"
  }
 },
 "nbformat": 4,
 "nbformat_minor": 5
}
