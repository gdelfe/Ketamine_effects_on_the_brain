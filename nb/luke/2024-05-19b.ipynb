{
 "cells": [
  {
   "cell_type": "code",
   "execution_count": 1,
   "id": "d5a9b2e7-56ed-4f79-a417-932daee4a41e",
   "metadata": {
    "tags": []
   },
   "outputs": [],
   "source": [
    "%load_ext autoreload\n",
    "%autoreload 2"
   ]
  },
  {
   "cell_type": "code",
   "execution_count": 12,
   "id": "1890288e-2991-4561-842d-19b66d0daf29",
   "metadata": {
    "tags": []
   },
   "outputs": [],
   "source": [
    "import json\n",
    "import src.paths\n",
    "from src.data import load_ephys, load_behavior"
   ]
  },
  {
   "cell_type": "code",
   "execution_count": 13,
   "id": "bc33b141-a774-424b-bdb4-980bd287d8fc",
   "metadata": {
    "tags": []
   },
   "outputs": [],
   "source": [
    "dates = [\n",
    "    '2022-07-27', '2022-07-28', '2022-08-01',\n",
    "    '2022-08-03', '2022-08-04', '2022-08-06',\n",
    "    '2022-08-08', '2022-08-10', '2022-08-11',\n",
    "    '2022-08-12', '2022-08-13', '2022-08-15',\n",
    "    '2022-09-12', '2022-09-14', '2022-09-16',\n",
    "]"
   ]
  },
  {
   "cell_type": "code",
   "execution_count": 24,
   "id": "15bf3df6-04a1-4165-9ea5-2640ab2d0f4b",
   "metadata": {
    "tags": []
   },
   "outputs": [],
   "source": [
    "with open(src.paths.REF / 'date_recid.json', 'r') as f:\n",
    "    recids = json.load(f)\n",
    "\n",
    "with open(src.paths.REF / 'date_recoffset.json', 'r') as f:\n",
    "    offsets = json.load(f)"
   ]
  },
  {
   "cell_type": "code",
   "execution_count": 31,
   "id": "ed7f33e7-c9f2-41c8-ab49-9da931b48044",
   "metadata": {
    "tags": []
   },
   "outputs": [],
   "source": [
    "import pandas as pd"
   ]
  },
  {
   "cell_type": "code",
   "execution_count": 30,
   "id": "1bf4da6a-fc32-480d-ae0c-e5c946bb9416",
   "metadata": {
    "tags": []
   },
   "outputs": [],
   "source": [
    "l = []\n",
    "for date in dates:\n",
    "    recid = recids.get(date, None)\n",
    "    if recid is None:\n",
    "        print(date)\n",
    "        continue\n",
    "    lfpstart, lfpend = offsets[date]\n",
    "    behav = load_behavior(recid)\n",
    "\n",
    "    lfplen = (lfpend - lfpstart) / 2500\n",
    "    behavlen = len(behav) / 100\n",
    "    \n",
    "    ser = {'date': date, 'recid': recid, 'LFP': lfplen, 'behavior': behavlen, 'diff': behavlen - lfplen}\n",
    "    l.append(ser)"
   ]
  },
  {
   "cell_type": "code",
   "execution_count": 32,
   "id": "87c8b0c3-8d6c-4740-b7bf-a68bbee88d7b",
   "metadata": {
    "tags": []
   },
   "outputs": [],
   "source": [
    "df = pd.DataFrame(l)"
   ]
  },
  {
   "cell_type": "code",
   "execution_count": 35,
   "id": "a9a062d4-6264-4810-bd96-b30f18835f52",
   "metadata": {
    "tags": []
   },
   "outputs": [
    {
     "name": "stdout",
     "output_type": "stream",
     "text": [
      "Time differences between LFP and behavior recordings\n"
     ]
    },
    {
     "data": {
      "text/html": [
       "<div>\n",
       "<style scoped>\n",
       "    .dataframe tbody tr th:only-of-type {\n",
       "        vertical-align: middle;\n",
       "    }\n",
       "\n",
       "    .dataframe tbody tr th {\n",
       "        vertical-align: top;\n",
       "    }\n",
       "\n",
       "    .dataframe thead th {\n",
       "        text-align: right;\n",
       "    }\n",
       "</style>\n",
       "<table border=\"1\" class=\"dataframe\">\n",
       "  <thead>\n",
       "    <tr style=\"text-align: right;\">\n",
       "      <th></th>\n",
       "      <th>date</th>\n",
       "      <th>recid</th>\n",
       "      <th>LFP</th>\n",
       "      <th>behavior</th>\n",
       "      <th>diff</th>\n",
       "    </tr>\n",
       "  </thead>\n",
       "  <tbody>\n",
       "    <tr>\n",
       "      <th>0</th>\n",
       "      <td>2022-07-27</td>\n",
       "      <td>0</td>\n",
       "      <td>7202.0012</td>\n",
       "      <td>7202.14</td>\n",
       "      <td>0.1388</td>\n",
       "    </tr>\n",
       "    <tr>\n",
       "      <th>1</th>\n",
       "      <td>2022-07-28</td>\n",
       "      <td>1</td>\n",
       "      <td>7423.5296</td>\n",
       "      <td>7423.67</td>\n",
       "      <td>0.1404</td>\n",
       "    </tr>\n",
       "    <tr>\n",
       "      <th>2</th>\n",
       "      <td>2022-08-01</td>\n",
       "      <td>2</td>\n",
       "      <td>7202.1656</td>\n",
       "      <td>7202.30</td>\n",
       "      <td>0.1344</td>\n",
       "    </tr>\n",
       "    <tr>\n",
       "      <th>3</th>\n",
       "      <td>2022-08-03</td>\n",
       "      <td>3</td>\n",
       "      <td>7200.7716</td>\n",
       "      <td>7200.91</td>\n",
       "      <td>0.1384</td>\n",
       "    </tr>\n",
       "    <tr>\n",
       "      <th>4</th>\n",
       "      <td>2022-08-04</td>\n",
       "      <td>4</td>\n",
       "      <td>7203.9772</td>\n",
       "      <td>7204.11</td>\n",
       "      <td>0.1328</td>\n",
       "    </tr>\n",
       "    <tr>\n",
       "      <th>5</th>\n",
       "      <td>2022-08-06</td>\n",
       "      <td>5</td>\n",
       "      <td>7192.6260</td>\n",
       "      <td>7192.76</td>\n",
       "      <td>0.1340</td>\n",
       "    </tr>\n",
       "    <tr>\n",
       "      <th>6</th>\n",
       "      <td>2022-08-08</td>\n",
       "      <td>6</td>\n",
       "      <td>7203.2108</td>\n",
       "      <td>7203.32</td>\n",
       "      <td>0.1092</td>\n",
       "    </tr>\n",
       "    <tr>\n",
       "      <th>7</th>\n",
       "      <td>2022-08-11</td>\n",
       "      <td>7</td>\n",
       "      <td>7208.7080</td>\n",
       "      <td>7208.82</td>\n",
       "      <td>0.1120</td>\n",
       "    </tr>\n",
       "    <tr>\n",
       "      <th>8</th>\n",
       "      <td>2022-08-12</td>\n",
       "      <td>8</td>\n",
       "      <td>7204.2908</td>\n",
       "      <td>7204.41</td>\n",
       "      <td>0.1192</td>\n",
       "    </tr>\n",
       "    <tr>\n",
       "      <th>9</th>\n",
       "      <td>2022-08-13</td>\n",
       "      <td>9</td>\n",
       "      <td>7204.6836</td>\n",
       "      <td>7204.80</td>\n",
       "      <td>0.1164</td>\n",
       "    </tr>\n",
       "    <tr>\n",
       "      <th>10</th>\n",
       "      <td>2022-08-15</td>\n",
       "      <td>10</td>\n",
       "      <td>7204.2692</td>\n",
       "      <td>7204.38</td>\n",
       "      <td>0.1108</td>\n",
       "    </tr>\n",
       "    <tr>\n",
       "      <th>11</th>\n",
       "      <td>2022-09-12</td>\n",
       "      <td>15</td>\n",
       "      <td>7202.6316</td>\n",
       "      <td>7202.74</td>\n",
       "      <td>0.1084</td>\n",
       "    </tr>\n",
       "    <tr>\n",
       "      <th>12</th>\n",
       "      <td>2022-09-14</td>\n",
       "      <td>16</td>\n",
       "      <td>7224.9296</td>\n",
       "      <td>7225.05</td>\n",
       "      <td>0.1204</td>\n",
       "    </tr>\n",
       "    <tr>\n",
       "      <th>13</th>\n",
       "      <td>2022-09-16</td>\n",
       "      <td>17</td>\n",
       "      <td>7201.7564</td>\n",
       "      <td>7201.87</td>\n",
       "      <td>0.1136</td>\n",
       "    </tr>\n",
       "  </tbody>\n",
       "</table>\n",
       "</div>"
      ],
      "text/plain": [
       "          date  recid        LFP  behavior    diff\n",
       "0   2022-07-27      0  7202.0012   7202.14  0.1388\n",
       "1   2022-07-28      1  7423.5296   7423.67  0.1404\n",
       "2   2022-08-01      2  7202.1656   7202.30  0.1344\n",
       "3   2022-08-03      3  7200.7716   7200.91  0.1384\n",
       "4   2022-08-04      4  7203.9772   7204.11  0.1328\n",
       "5   2022-08-06      5  7192.6260   7192.76  0.1340\n",
       "6   2022-08-08      6  7203.2108   7203.32  0.1092\n",
       "7   2022-08-11      7  7208.7080   7208.82  0.1120\n",
       "8   2022-08-12      8  7204.2908   7204.41  0.1192\n",
       "9   2022-08-13      9  7204.6836   7204.80  0.1164\n",
       "10  2022-08-15     10  7204.2692   7204.38  0.1108\n",
       "11  2022-09-12     15  7202.6316   7202.74  0.1084\n",
       "12  2022-09-14     16  7224.9296   7225.05  0.1204\n",
       "13  2022-09-16     17  7201.7564   7201.87  0.1136"
      ]
     },
     "metadata": {},
     "output_type": "display_data"
    }
   ],
   "source": [
    "print('Time differences between LFP and behavior recordings')\n",
    "display(df)"
   ]
  },
  {
   "cell_type": "code",
   "execution_count": 40,
   "id": "3ba19ef4-45bd-492b-b36b-53aaccceb268",
   "metadata": {
    "tags": []
   },
   "outputs": [
    {
     "data": {
      "text/plain": [
       "(0.12348571428570462, 0.01227823948437744)"
      ]
     },
     "execution_count": 40,
     "metadata": {},
     "output_type": "execute_result"
    }
   ],
   "source": [
    "df['diff'].mean(), df['diff'].std()"
   ]
  },
  {
   "cell_type": "code",
   "execution_count": null,
   "id": "2a8c084a-a105-40f2-b3b1-5bf7fd11ec18",
   "metadata": {},
   "outputs": [],
   "source": []
  }
 ],
 "metadata": {
  "kernelspec": {
   "display_name": "kfx",
   "language": "python",
   "name": "kfx"
  },
  "language_info": {
   "codemirror_mode": {
    "name": "ipython",
    "version": 3
   },
   "file_extension": ".py",
   "mimetype": "text/x-python",
   "name": "python",
   "nbconvert_exporter": "python",
   "pygments_lexer": "ipython3",
   "version": "3.10.10"
  }
 },
 "nbformat": 4,
 "nbformat_minor": 5
}
