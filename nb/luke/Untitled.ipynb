{
 "cells": [
  {
   "cell_type": "code",
   "execution_count": 1,
   "id": "4a233c63-6e7f-49ad-a215-4577d0965b69",
   "metadata": {
    "tags": []
   },
   "outputs": [],
   "source": [
    "import os"
   ]
  },
  {
   "cell_type": "code",
   "execution_count": 2,
   "id": "c161f7b9-afeb-4490-b1d9-3ae0adddb2e1",
   "metadata": {
    "tags": []
   },
   "outputs": [
    {
     "data": {
      "text/plain": [
       "True"
      ]
     },
     "execution_count": 2,
     "metadata": {},
     "output_type": "execute_result"
    }
   ],
   "source": [
    "os.path.isfile('/mnt/home/larend/kfx/data/2022-07-27-hpc-spikes.pkl')"
   ]
  },
  {
   "cell_type": "code",
   "execution_count": 3,
   "id": "7eeff610-7b45-4532-b6d6-a57abed2752d",
   "metadata": {
    "tags": []
   },
   "outputs": [],
   "source": [
    "import pandas as pd"
   ]
  },
  {
   "cell_type": "code",
   "execution_count": 7,
   "id": "1560fd77-ec0f-4e3e-ac44-a1cf777ee38b",
   "metadata": {
    "tags": []
   },
   "outputs": [],
   "source": [
    "blob = pd.read_pickle('/mnt/home/larend/kfx/data/2022-07-27-hpc-spikes.pkl')"
   ]
  },
  {
   "cell_type": "code",
   "execution_count": 10,
   "id": "9047d88b-9c09-4a79-88ee-6795e58319ec",
   "metadata": {
    "tags": []
   },
   "outputs": [
    {
     "data": {
      "text/plain": [
       "3"
      ]
     },
     "execution_count": 10,
     "metadata": {},
     "output_type": "execute_result"
    }
   ],
   "source": [
    "len(blob)"
   ]
  },
  {
   "cell_type": "code",
   "execution_count": 11,
   "id": "a347adfa-9f4f-4720-8901-5d3d61d69d26",
   "metadata": {
    "tags": []
   },
   "outputs": [
    {
     "data": {
      "text/plain": [
       "array([[0, 0, 0, ..., 0, 0, 0],\n",
       "       [0, 0, 0, ..., 0, 0, 0],\n",
       "       [0, 0, 0, ..., 0, 0, 0],\n",
       "       ...,\n",
       "       [0, 0, 0, ..., 0, 0, 0],\n",
       "       [0, 0, 0, ..., 0, 0, 0],\n",
       "       [0, 0, 0, ..., 0, 0, 0]])"
      ]
     },
     "execution_count": 11,
     "metadata": {},
     "output_type": "execute_result"
    }
   ],
   "source": [
    "blob[0]"
   ]
  },
  {
   "cell_type": "code",
   "execution_count": 12,
   "id": "981e84ad-6b3d-4afd-9c7a-401f489c9b91",
   "metadata": {
    "tags": []
   },
   "outputs": [
    {
     "data": {
      "text/plain": [
       "(565, 1800499)"
      ]
     },
     "execution_count": 12,
     "metadata": {},
     "output_type": "execute_result"
    }
   ],
   "source": [
    "blob[0].shape"
   ]
  },
  {
   "cell_type": "code",
   "execution_count": 18,
   "id": "1090e60c-aa18-4e44-8b13-41e8cb8156f4",
   "metadata": {
    "tags": []
   },
   "outputs": [],
   "source": [
    "import numpy as np"
   ]
  },
  {
   "cell_type": "code",
   "execution_count": 29,
   "id": "5f796b4f-1c2a-45c6-be59-dd637484e261",
   "metadata": {
    "tags": []
   },
   "outputs": [],
   "source": [
    "import pandas as pd"
   ]
  },
  {
   "cell_type": "code",
   "execution_count": 31,
   "id": "2369cb9f-7a29-4070-a4d9-86b858526b51",
   "metadata": {
    "tags": []
   },
   "outputs": [
    {
     "ename": "KeyboardInterrupt",
     "evalue": "",
     "output_type": "error",
     "traceback": [
      "\u001b[0;31m---------------------------------------------------------------------------\u001b[0m",
      "\u001b[0;31mKeyboardInterrupt\u001b[0m                         Traceback (most recent call last)",
      "Cell \u001b[0;32mIn[31], line 1\u001b[0m\n\u001b[0;32m----> 1\u001b[0m \u001b[43mpd\u001b[49m\u001b[38;5;241;43m.\u001b[39;49m\u001b[43mDataFrame\u001b[49m\u001b[43m(\u001b[49m\u001b[43mblob\u001b[49m\u001b[43m[\u001b[49m\u001b[38;5;241;43m0\u001b[39;49m\u001b[43m]\u001b[49m\u001b[43m)\u001b[49m\u001b[38;5;241;43m.\u001b[39;49m\u001b[43mvalue_counts\u001b[49m\u001b[43m(\u001b[49m\u001b[43m)\u001b[49m\n",
      "File \u001b[0;32m~/kfx/env/lib/python3.10/site-packages/pandas/core/frame.py:7509\u001b[0m, in \u001b[0;36mDataFrame.value_counts\u001b[0;34m(self, subset, normalize, sort, ascending, dropna)\u001b[0m\n\u001b[1;32m   7506\u001b[0m     subset \u001b[38;5;241m=\u001b[39m \u001b[38;5;28mself\u001b[39m\u001b[38;5;241m.\u001b[39mcolumns\u001b[38;5;241m.\u001b[39mtolist()\n\u001b[1;32m   7508\u001b[0m name \u001b[38;5;241m=\u001b[39m \u001b[38;5;124m\"\u001b[39m\u001b[38;5;124mproportion\u001b[39m\u001b[38;5;124m\"\u001b[39m \u001b[38;5;28;01mif\u001b[39;00m normalize \u001b[38;5;28;01melse\u001b[39;00m \u001b[38;5;124m\"\u001b[39m\u001b[38;5;124mcount\u001b[39m\u001b[38;5;124m\"\u001b[39m\n\u001b[0;32m-> 7509\u001b[0m counts \u001b[38;5;241m=\u001b[39m \u001b[38;5;28;43mself\u001b[39;49m\u001b[38;5;241;43m.\u001b[39;49m\u001b[43mgroupby\u001b[49m\u001b[43m(\u001b[49m\u001b[43msubset\u001b[49m\u001b[43m,\u001b[49m\u001b[43m \u001b[49m\u001b[43mdropna\u001b[49m\u001b[38;5;241;43m=\u001b[39;49m\u001b[43mdropna\u001b[49m\u001b[43m,\u001b[49m\u001b[43m \u001b[49m\u001b[43mobserved\u001b[49m\u001b[38;5;241;43m=\u001b[39;49m\u001b[38;5;28;43;01mFalse\u001b[39;49;00m\u001b[43m)\u001b[49m\u001b[38;5;241m.\u001b[39m_grouper\u001b[38;5;241m.\u001b[39msize()\n\u001b[1;32m   7510\u001b[0m counts\u001b[38;5;241m.\u001b[39mname \u001b[38;5;241m=\u001b[39m name\n\u001b[1;32m   7512\u001b[0m \u001b[38;5;28;01mif\u001b[39;00m sort:\n",
      "File \u001b[0;32m~/kfx/env/lib/python3.10/site-packages/pandas/core/frame.py:9183\u001b[0m, in \u001b[0;36mDataFrame.groupby\u001b[0;34m(self, by, axis, level, as_index, sort, group_keys, observed, dropna)\u001b[0m\n\u001b[1;32m   9180\u001b[0m \u001b[38;5;28;01mif\u001b[39;00m level \u001b[38;5;129;01mis\u001b[39;00m \u001b[38;5;28;01mNone\u001b[39;00m \u001b[38;5;129;01mand\u001b[39;00m by \u001b[38;5;129;01mis\u001b[39;00m \u001b[38;5;28;01mNone\u001b[39;00m:\n\u001b[1;32m   9181\u001b[0m     \u001b[38;5;28;01mraise\u001b[39;00m \u001b[38;5;167;01mTypeError\u001b[39;00m(\u001b[38;5;124m\"\u001b[39m\u001b[38;5;124mYou have to supply one of \u001b[39m\u001b[38;5;124m'\u001b[39m\u001b[38;5;124mby\u001b[39m\u001b[38;5;124m'\u001b[39m\u001b[38;5;124m and \u001b[39m\u001b[38;5;124m'\u001b[39m\u001b[38;5;124mlevel\u001b[39m\u001b[38;5;124m'\u001b[39m\u001b[38;5;124m\"\u001b[39m)\n\u001b[0;32m-> 9183\u001b[0m \u001b[38;5;28;01mreturn\u001b[39;00m \u001b[43mDataFrameGroupBy\u001b[49m\u001b[43m(\u001b[49m\n\u001b[1;32m   9184\u001b[0m \u001b[43m    \u001b[49m\u001b[43mobj\u001b[49m\u001b[38;5;241;43m=\u001b[39;49m\u001b[38;5;28;43mself\u001b[39;49m\u001b[43m,\u001b[49m\n\u001b[1;32m   9185\u001b[0m \u001b[43m    \u001b[49m\u001b[43mkeys\u001b[49m\u001b[38;5;241;43m=\u001b[39;49m\u001b[43mby\u001b[49m\u001b[43m,\u001b[49m\n\u001b[1;32m   9186\u001b[0m \u001b[43m    \u001b[49m\u001b[43maxis\u001b[49m\u001b[38;5;241;43m=\u001b[39;49m\u001b[43maxis\u001b[49m\u001b[43m,\u001b[49m\n\u001b[1;32m   9187\u001b[0m \u001b[43m    \u001b[49m\u001b[43mlevel\u001b[49m\u001b[38;5;241;43m=\u001b[39;49m\u001b[43mlevel\u001b[49m\u001b[43m,\u001b[49m\n\u001b[1;32m   9188\u001b[0m \u001b[43m    \u001b[49m\u001b[43mas_index\u001b[49m\u001b[38;5;241;43m=\u001b[39;49m\u001b[43mas_index\u001b[49m\u001b[43m,\u001b[49m\n\u001b[1;32m   9189\u001b[0m \u001b[43m    \u001b[49m\u001b[43msort\u001b[49m\u001b[38;5;241;43m=\u001b[39;49m\u001b[43msort\u001b[49m\u001b[43m,\u001b[49m\n\u001b[1;32m   9190\u001b[0m \u001b[43m    \u001b[49m\u001b[43mgroup_keys\u001b[49m\u001b[38;5;241;43m=\u001b[39;49m\u001b[43mgroup_keys\u001b[49m\u001b[43m,\u001b[49m\n\u001b[1;32m   9191\u001b[0m \u001b[43m    \u001b[49m\u001b[43mobserved\u001b[49m\u001b[38;5;241;43m=\u001b[39;49m\u001b[43mobserved\u001b[49m\u001b[43m,\u001b[49m\n\u001b[1;32m   9192\u001b[0m \u001b[43m    \u001b[49m\u001b[43mdropna\u001b[49m\u001b[38;5;241;43m=\u001b[39;49m\u001b[43mdropna\u001b[49m\u001b[43m,\u001b[49m\n\u001b[1;32m   9193\u001b[0m \u001b[43m\u001b[49m\u001b[43m)\u001b[49m\n",
      "File \u001b[0;32m~/kfx/env/lib/python3.10/site-packages/pandas/core/groupby/groupby.py:1329\u001b[0m, in \u001b[0;36mGroupBy.__init__\u001b[0;34m(self, obj, keys, axis, level, grouper, exclusions, selection, as_index, sort, group_keys, observed, dropna)\u001b[0m\n\u001b[1;32m   1326\u001b[0m \u001b[38;5;28mself\u001b[39m\u001b[38;5;241m.\u001b[39mdropna \u001b[38;5;241m=\u001b[39m dropna\n\u001b[1;32m   1328\u001b[0m \u001b[38;5;28;01mif\u001b[39;00m grouper \u001b[38;5;129;01mis\u001b[39;00m \u001b[38;5;28;01mNone\u001b[39;00m:\n\u001b[0;32m-> 1329\u001b[0m     grouper, exclusions, obj \u001b[38;5;241m=\u001b[39m \u001b[43mget_grouper\u001b[49m\u001b[43m(\u001b[49m\n\u001b[1;32m   1330\u001b[0m \u001b[43m        \u001b[49m\u001b[43mobj\u001b[49m\u001b[43m,\u001b[49m\n\u001b[1;32m   1331\u001b[0m \u001b[43m        \u001b[49m\u001b[43mkeys\u001b[49m\u001b[43m,\u001b[49m\n\u001b[1;32m   1332\u001b[0m \u001b[43m        \u001b[49m\u001b[43maxis\u001b[49m\u001b[38;5;241;43m=\u001b[39;49m\u001b[43maxis\u001b[49m\u001b[43m,\u001b[49m\n\u001b[1;32m   1333\u001b[0m \u001b[43m        \u001b[49m\u001b[43mlevel\u001b[49m\u001b[38;5;241;43m=\u001b[39;49m\u001b[43mlevel\u001b[49m\u001b[43m,\u001b[49m\n\u001b[1;32m   1334\u001b[0m \u001b[43m        \u001b[49m\u001b[43msort\u001b[49m\u001b[38;5;241;43m=\u001b[39;49m\u001b[43msort\u001b[49m\u001b[43m,\u001b[49m\n\u001b[1;32m   1335\u001b[0m \u001b[43m        \u001b[49m\u001b[43mobserved\u001b[49m\u001b[38;5;241;43m=\u001b[39;49m\u001b[38;5;28;43;01mFalse\u001b[39;49;00m\u001b[43m \u001b[49m\u001b[38;5;28;43;01mif\u001b[39;49;00m\u001b[43m \u001b[49m\u001b[43mobserved\u001b[49m\u001b[43m \u001b[49m\u001b[38;5;129;43;01mis\u001b[39;49;00m\u001b[43m \u001b[49m\u001b[43mlib\u001b[49m\u001b[38;5;241;43m.\u001b[39;49m\u001b[43mno_default\u001b[49m\u001b[43m \u001b[49m\u001b[38;5;28;43;01melse\u001b[39;49;00m\u001b[43m \u001b[49m\u001b[43mobserved\u001b[49m\u001b[43m,\u001b[49m\n\u001b[1;32m   1336\u001b[0m \u001b[43m        \u001b[49m\u001b[43mdropna\u001b[49m\u001b[38;5;241;43m=\u001b[39;49m\u001b[38;5;28;43mself\u001b[39;49m\u001b[38;5;241;43m.\u001b[39;49m\u001b[43mdropna\u001b[49m\u001b[43m,\u001b[49m\n\u001b[1;32m   1337\u001b[0m \u001b[43m    \u001b[49m\u001b[43m)\u001b[49m\n\u001b[1;32m   1339\u001b[0m \u001b[38;5;28;01mif\u001b[39;00m observed \u001b[38;5;129;01mis\u001b[39;00m lib\u001b[38;5;241m.\u001b[39mno_default:\n\u001b[1;32m   1340\u001b[0m     \u001b[38;5;28;01mif\u001b[39;00m \u001b[38;5;28many\u001b[39m(ping\u001b[38;5;241m.\u001b[39m_passed_categorical \u001b[38;5;28;01mfor\u001b[39;00m ping \u001b[38;5;129;01min\u001b[39;00m grouper\u001b[38;5;241m.\u001b[39mgroupings):\n",
      "File \u001b[0;32m~/kfx/env/lib/python3.10/site-packages/pandas/core/groupby/grouper.py:1034\u001b[0m, in \u001b[0;36mget_grouper\u001b[0;34m(obj, key, axis, level, sort, observed, validate, dropna)\u001b[0m\n\u001b[1;32m   1032\u001b[0m \u001b[38;5;28;01mif\u001b[39;00m validate:\n\u001b[1;32m   1033\u001b[0m     obj\u001b[38;5;241m.\u001b[39m_check_label_or_level_ambiguity(gpr, axis\u001b[38;5;241m=\u001b[39maxis)\n\u001b[0;32m-> 1034\u001b[0m in_axis, name, gpr \u001b[38;5;241m=\u001b[39m \u001b[38;5;28;01mTrue\u001b[39;00m, gpr, \u001b[43mobj\u001b[49m\u001b[43m[\u001b[49m\u001b[43mgpr\u001b[49m\u001b[43m]\u001b[49m\n\u001b[1;32m   1035\u001b[0m \u001b[38;5;28;01mif\u001b[39;00m gpr\u001b[38;5;241m.\u001b[39mndim \u001b[38;5;241m!=\u001b[39m \u001b[38;5;241m1\u001b[39m:\n\u001b[1;32m   1036\u001b[0m     \u001b[38;5;66;03m# non-unique columns; raise here to get the name in the\u001b[39;00m\n\u001b[1;32m   1037\u001b[0m     \u001b[38;5;66;03m# exception message\u001b[39;00m\n\u001b[1;32m   1038\u001b[0m     \u001b[38;5;28;01mraise\u001b[39;00m \u001b[38;5;167;01mValueError\u001b[39;00m(\u001b[38;5;124mf\u001b[39m\u001b[38;5;124m\"\u001b[39m\u001b[38;5;124mGrouper for \u001b[39m\u001b[38;5;124m'\u001b[39m\u001b[38;5;132;01m{\u001b[39;00mname\u001b[38;5;132;01m}\u001b[39;00m\u001b[38;5;124m'\u001b[39m\u001b[38;5;124m not 1-dimensional\u001b[39m\u001b[38;5;124m\"\u001b[39m)\n",
      "File \u001b[0;32m~/kfx/env/lib/python3.10/site-packages/pandas/core/frame.py:4078\u001b[0m, in \u001b[0;36mDataFrame.__getitem__\u001b[0;34m(self, key)\u001b[0m\n\u001b[1;32m   4071\u001b[0m \u001b[38;5;66;03m# GH#45316 Return view if key is not duplicated\u001b[39;00m\n\u001b[1;32m   4072\u001b[0m \u001b[38;5;66;03m# Only use drop_duplicates with duplicates for performance\u001b[39;00m\n\u001b[1;32m   4073\u001b[0m \u001b[38;5;28;01mif\u001b[39;00m \u001b[38;5;129;01mnot\u001b[39;00m is_mi \u001b[38;5;129;01mand\u001b[39;00m (\n\u001b[1;32m   4074\u001b[0m     \u001b[38;5;28mself\u001b[39m\u001b[38;5;241m.\u001b[39mcolumns\u001b[38;5;241m.\u001b[39mis_unique\n\u001b[1;32m   4075\u001b[0m     \u001b[38;5;129;01mand\u001b[39;00m key \u001b[38;5;129;01min\u001b[39;00m \u001b[38;5;28mself\u001b[39m\u001b[38;5;241m.\u001b[39mcolumns\n\u001b[1;32m   4076\u001b[0m     \u001b[38;5;129;01mor\u001b[39;00m key \u001b[38;5;129;01min\u001b[39;00m \u001b[38;5;28mself\u001b[39m\u001b[38;5;241m.\u001b[39mcolumns\u001b[38;5;241m.\u001b[39mdrop_duplicates(keep\u001b[38;5;241m=\u001b[39m\u001b[38;5;28;01mFalse\u001b[39;00m)\n\u001b[1;32m   4077\u001b[0m ):\n\u001b[0;32m-> 4078\u001b[0m     \u001b[38;5;28;01mreturn\u001b[39;00m \u001b[38;5;28;43mself\u001b[39;49m\u001b[38;5;241;43m.\u001b[39;49m\u001b[43m_get_item_cache\u001b[49m\u001b[43m(\u001b[49m\u001b[43mkey\u001b[49m\u001b[43m)\u001b[49m\n\u001b[1;32m   4080\u001b[0m \u001b[38;5;28;01melif\u001b[39;00m is_mi \u001b[38;5;129;01mand\u001b[39;00m \u001b[38;5;28mself\u001b[39m\u001b[38;5;241m.\u001b[39mcolumns\u001b[38;5;241m.\u001b[39mis_unique \u001b[38;5;129;01mand\u001b[39;00m key \u001b[38;5;129;01min\u001b[39;00m \u001b[38;5;28mself\u001b[39m\u001b[38;5;241m.\u001b[39mcolumns:\n\u001b[1;32m   4081\u001b[0m     \u001b[38;5;28;01mreturn\u001b[39;00m \u001b[38;5;28mself\u001b[39m\u001b[38;5;241m.\u001b[39m_getitem_multilevel(key)\n",
      "File \u001b[0;32m~/kfx/env/lib/python3.10/site-packages/pandas/core/frame.py:4639\u001b[0m, in \u001b[0;36mDataFrame._get_item_cache\u001b[0;34m(self, item)\u001b[0m\n\u001b[1;32m   4634\u001b[0m \u001b[38;5;28;01mif\u001b[39;00m res \u001b[38;5;129;01mis\u001b[39;00m \u001b[38;5;28;01mNone\u001b[39;00m:\n\u001b[1;32m   4635\u001b[0m     \u001b[38;5;66;03m# All places that call _get_item_cache have unique columns,\u001b[39;00m\n\u001b[1;32m   4636\u001b[0m     \u001b[38;5;66;03m#  pending resolution of GH#33047\u001b[39;00m\n\u001b[1;32m   4638\u001b[0m     loc \u001b[38;5;241m=\u001b[39m \u001b[38;5;28mself\u001b[39m\u001b[38;5;241m.\u001b[39mcolumns\u001b[38;5;241m.\u001b[39mget_loc(item)\n\u001b[0;32m-> 4639\u001b[0m     res \u001b[38;5;241m=\u001b[39m \u001b[38;5;28;43mself\u001b[39;49m\u001b[38;5;241;43m.\u001b[39;49m\u001b[43m_ixs\u001b[49m\u001b[43m(\u001b[49m\u001b[43mloc\u001b[49m\u001b[43m,\u001b[49m\u001b[43m \u001b[49m\u001b[43maxis\u001b[49m\u001b[38;5;241;43m=\u001b[39;49m\u001b[38;5;241;43m1\u001b[39;49m\u001b[43m)\u001b[49m\n\u001b[1;32m   4641\u001b[0m     cache[item] \u001b[38;5;241m=\u001b[39m res\n\u001b[1;32m   4643\u001b[0m     \u001b[38;5;66;03m# for a chain\u001b[39;00m\n",
      "File \u001b[0;32m~/kfx/env/lib/python3.10/site-packages/pandas/core/frame.py:4010\u001b[0m, in \u001b[0;36mDataFrame._ixs\u001b[0;34m(self, i, axis)\u001b[0m\n\u001b[1;32m   4006\u001b[0m \u001b[38;5;66;03m# icol\u001b[39;00m\n\u001b[1;32m   4007\u001b[0m \u001b[38;5;28;01melse\u001b[39;00m:\n\u001b[1;32m   4008\u001b[0m     label \u001b[38;5;241m=\u001b[39m \u001b[38;5;28mself\u001b[39m\u001b[38;5;241m.\u001b[39mcolumns[i]\n\u001b[0;32m-> 4010\u001b[0m     col_mgr \u001b[38;5;241m=\u001b[39m \u001b[38;5;28;43mself\u001b[39;49m\u001b[38;5;241;43m.\u001b[39;49m\u001b[43m_mgr\u001b[49m\u001b[38;5;241;43m.\u001b[39;49m\u001b[43miget\u001b[49m\u001b[43m(\u001b[49m\u001b[43mi\u001b[49m\u001b[43m)\u001b[49m\n\u001b[1;32m   4011\u001b[0m     result \u001b[38;5;241m=\u001b[39m \u001b[38;5;28mself\u001b[39m\u001b[38;5;241m.\u001b[39m_box_col_values(col_mgr, i)\n\u001b[1;32m   4013\u001b[0m     \u001b[38;5;66;03m# this is a cached value, mark it so\u001b[39;00m\n",
      "File \u001b[0;32m~/kfx/env/lib/python3.10/site-packages/pandas/core/internals/managers.py:1017\u001b[0m, in \u001b[0;36mBlockManager.iget\u001b[0;34m(self, i, track_ref)\u001b[0m\n\u001b[1;32m   1013\u001b[0m \u001b[38;5;250m\u001b[39m\u001b[38;5;124;03m\"\"\"\u001b[39;00m\n\u001b[1;32m   1014\u001b[0m \u001b[38;5;124;03mReturn the data as a SingleBlockManager.\u001b[39;00m\n\u001b[1;32m   1015\u001b[0m \u001b[38;5;124;03m\"\"\"\u001b[39;00m\n\u001b[1;32m   1016\u001b[0m block \u001b[38;5;241m=\u001b[39m \u001b[38;5;28mself\u001b[39m\u001b[38;5;241m.\u001b[39mblocks[\u001b[38;5;28mself\u001b[39m\u001b[38;5;241m.\u001b[39mblknos[i]]\n\u001b[0;32m-> 1017\u001b[0m values \u001b[38;5;241m=\u001b[39m \u001b[43mblock\u001b[49m\u001b[38;5;241;43m.\u001b[39;49m\u001b[43miget\u001b[49m\u001b[43m(\u001b[49m\u001b[38;5;28;43mself\u001b[39;49m\u001b[38;5;241;43m.\u001b[39;49m\u001b[43mblklocs\u001b[49m\u001b[43m[\u001b[49m\u001b[43mi\u001b[49m\u001b[43m]\u001b[49m\u001b[43m)\u001b[49m\n\u001b[1;32m   1019\u001b[0m \u001b[38;5;66;03m# shortcut for select a single-dim from a 2-dim BM\u001b[39;00m\n\u001b[1;32m   1020\u001b[0m bp \u001b[38;5;241m=\u001b[39m BlockPlacement(\u001b[38;5;28mslice\u001b[39m(\u001b[38;5;241m0\u001b[39m, \u001b[38;5;28mlen\u001b[39m(values)))\n",
      "\u001b[0;31mKeyboardInterrupt\u001b[0m: "
     ]
    }
   ],
   "source": [
    "pd.DataFrame(blob[0]).value_counts()"
   ]
  },
  {
   "cell_type": "code",
   "execution_count": 20,
   "id": "16e17619-6ef9-4c06-bfdb-d4b1df8be976",
   "metadata": {
    "tags": []
   },
   "outputs": [
    {
     "data": {
      "text/plain": [
       "array([  61,  266,  549,  523,  535,  125,  334,  383,  283,  559,  236,\n",
       "       1090,  552,  469,  288,  646,   62,  273, 1164,  877,  275,    0,\n",
       "        384,  454,  731, 1194,   20,  550,  530,  177,   32, 1153,  339,\n",
       "        702,  607,  626,  571,  476,   36,    9,   72,  112,   63,   74,\n",
       "        123,  264,   27,  555,    1,  580,  325,  289,  546,  578,  596,\n",
       "        367,  579,  183,  457,  427,  407,  563,  458,  576,  905,  411,\n",
       "        395,  417,  642,  151,  240,   13,   29,  403,   94,  419,  617,\n",
       "        693,  594,  734,  739,  397,  639,  650, 1006,  490,  885,  588,\n",
       "        329,  532,  902,  482,  493,  524,  715,  953,  855,  391, 1127,\n",
       "       1142,  859,  871, 1046,  832,  913,   15,  161,  562,   41,  380,\n",
       "        170,  874,  712,  197,  466,  870, 1120,  602,  695,  613,  906,\n",
       "        897,  187,  748,  733,  890,  645,  263,   11,  277,  290,  719,\n",
       "        227,  366,  725,  400,  895,  249,  945,  190, 1068,  233,  697,\n",
       "        483,  192,  669,  229,   69,  278,  279,  364,  615,  214, 1117,\n",
       "        852, 1138, 1130,  132,  117,  389,   55,  682,  286,   31,  869,\n",
       "        348,  911,  152,  942, 1113,   12,  353,  257,  585,   96,  146,\n",
       "        696,  544,  847,  378,  422,  445,  737, 1198,  513,  449,  108,\n",
       "        252,  188,  957,  130,  189,  124,  990,  714,  390,  648,  844,\n",
       "        835,  258,  519,  102,  100,  341,  461,  716,  740,  271, 1144,\n",
       "        145, 1206,  260,  408,  118,   86,  889,  614, 1060,  785,  767,\n",
       "       1051,  802,  873, 1002, 1168, 1003,  354,  644,  912,  865,  903,\n",
       "       1173, 1023, 1161, 1017,  891, 1177,  641,  221, 1056,  159,  901,\n",
       "        741,  887, 1162,  893,  554, 1096, 1149,  886,  679, 1151, 1181,\n",
       "        629,  685, 1221, 1088, 1210, 1124, 1212, 1190, 1182,  440,  969,\n",
       "       1203,  677, 1158,  688,  518,  372,  498,  487,  866,  350,  328,\n",
       "        547,  534,  630,  991,  765,  807, 1186, 1175,  166,  778,  803,\n",
       "       1076, 1165,  331,  940,  811, 1079,  720, 1184, 1132,  947,  768,\n",
       "         18, 1083,  804,  856,  600,  882, 1170,  447,  939,  892,  398,\n",
       "        754,  351,  598,  680,  441,  884,  625,  533,  517,  749,  636,\n",
       "         85,  618,  686, 1195,   98,  930,  672,  251, 1121, 1118,  373,\n",
       "        250,  370,   88,   66,  121,   68,   40,  307,  246,   79,  867,\n",
       "        181,  994,  438,  262,  245,   23,    8,  541,  310, 1110,  684,\n",
       "        330,  432,  226,  589,  500, 1108,  163,  115,  295,  793,    2,\n",
       "       1119,  574,  565,  448,  374,  495,  883,  274,  420,  560,  950,\n",
       "        700,  253, 1010,  858,  239,  410,  326,  575,  217,  955,  868,\n",
       "        265,   54,   57,  276,   25,   73,  708,  327,  590,  171,   35,\n",
       "        284,  392,  413,   24,  180,  608,  299,  568,  480,  393,  287,\n",
       "         33,  583,  582,   91,  499,  558,   30,  473,   77,  471,  200,\n",
       "        606,    7, 1140,  365,  609,  936, 1057,  215,  406,  711,  631,\n",
       "        683,  597,  691,  635,  628,  612, 1156, 1196,  752, 1179,  564,\n",
       "        757,  663,  368,  514,  270,  770,  756,  753,  340,  475,  126,\n",
       "        135,  864,  376,  470,  168,  751,  158,  129,  127,  462,  849,\n",
       "        336,  515,  993,  632,  678,  526,    5,  908,  692,  460,  681,\n",
       "        360,   47,  774, 1191,  119, 1081,  762, 1044,  704,  472,  780,\n",
       "       1047,  808,  705,  675,  729,  674,  978, 1027,  795,   19,   10,\n",
       "        128,   76,  148,  933,  713,  219,  932,  962,  935,  474,  928,\n",
       "        931,  960, 1137, 1136,  176,  512, 1135, 1036,  810,   14, 1004,\n",
       "        649,  573, 1033,  961, 1031,  925, 1008, 1039,  724, 1201,  801,\n",
       "       1125, 1050,  926,  861,  106,  212,  706, 1073, 1024,  923,  998,\n",
       "        806,  505, 1042,  787,  773, 1037, 1066,  958,  963, 1077,  899,\n",
       "        525, 1219,  975,  698,  297,  104,  296,  983, 1200, 1064,  862,\n",
       "       1054, 1199, 1048,  776], dtype=int32)"
      ]
     },
     "execution_count": 20,
     "metadata": {},
     "output_type": "execute_result"
    }
   ],
   "source": [
    "blob[1]"
   ]
  },
  {
   "cell_type": "code",
   "execution_count": 14,
   "id": "b79fe3f8-7efd-4a70-90ed-8a5ad40fbb22",
   "metadata": {
    "tags": []
   },
   "outputs": [
    {
     "data": {
      "text/plain": [
       "565"
      ]
     },
     "execution_count": 14,
     "metadata": {},
     "output_type": "execute_result"
    }
   ],
   "source": [
    "len(blob[1])"
   ]
  },
  {
   "cell_type": "code",
   "execution_count": 15,
   "id": "f2150466-f5d8-47a1-b84e-f934770283c5",
   "metadata": {
    "tags": []
   },
   "outputs": [
    {
     "data": {
      "text/plain": [
       "array([  2,   3,   3,   2,   1,   0,   5,   2,   2,   1,   5,   1,   5,\n",
       "         3,   3,   3,   1,   6,   8,   7,   6,   7,   7,   5,   7,   9,\n",
       "         7,   6,   6,   6,   4,   4,   4,  13,  11,  13,  10,   9,   9,\n",
       "        16,  13,  16,  17,  17,  10,  10,  15,  10,  17,  10,  10,  14,\n",
       "        14,  14,  14,  14,  13,  13,  12,  17,  20,  16,  18,  20,  20,\n",
       "        18,  17,  21,  21,  17,  21,  15,  17,  17,  17,  21,  20,  18,\n",
       "        22,  24,  24,  20,  23,  20,  24,  26,  19,  24,  29,  29,  29,\n",
       "        28,  29,  28,  27,  29,  24,  29,  29,  29,  30,  30,  30,  29,\n",
       "        30,  30,  31,  28,  28,  29,  29,  31,  31,  31,  31,  31,  31,\n",
       "        29,  31,  31,  31,  34,  34,  35,  32,  32,  33,  33,  35,  34,\n",
       "        37,  35,  35,  34,  34,  40,  36,  39,  38,  36,  37,  39,  42,\n",
       "        42,  36,  44,  43,  44,  45,  46,  46,  46,  44,  48,  45,  46,\n",
       "        48,  47,  50,  45,  46,  46,  46,  46,  46,  50,  48,  52,  52,\n",
       "        52,  51,  51,  52,  53,  48,  43,  51,  52,  52,  55,  55,  55,\n",
       "        57,  53,  53,  55,  56,  54,  54,  53,  60,  59,  57,  60,  60,\n",
       "        64,  62,  65,  62,  62,  63,  65,  61,  64,  65,  67,  65,  69,\n",
       "        67,  67,  67,  64,  67,  64,  67,  67,  69,  73,  73,  71,  72,\n",
       "        71,  71,  71,  71,  71,  71,  72,  71,  71,  73,  71,  72,  72,\n",
       "        69,  78,  76,  74,  74,  74,  74,  76,  74,  74,  73,  73,  78,\n",
       "        79,  77,  77,  77,  81,  82,  83,  83,  83,  79,  83,  80,  83,\n",
       "        87,  87,  89,  84,  82,  88,  87,  88,  86,  88,  90,  90,  90,\n",
       "        91,  91,  89,  95,  95,  95,  99, 100,  98,  98, 100,  98,  98,\n",
       "        98, 103, 107, 107, 109, 109, 110, 109, 107, 110, 111, 111, 109,\n",
       "       109, 114, 112, 112, 114, 114, 114, 114, 112, 114, 114, 114, 114,\n",
       "       115, 115, 115, 115, 120, 120, 121, 120, 123, 123, 120, 121, 123,\n",
       "       125, 123, 121, 121, 126, 126, 126, 129, 131, 129, 129, 131, 133,\n",
       "       133, 134, 135, 130, 132, 132, 134, 138, 137, 138, 138, 138, 139,\n",
       "       139, 139, 139, 144, 139, 143, 144, 142, 149, 145, 145, 145, 154,\n",
       "       156, 159, 157, 157, 159, 163, 164, 163, 168, 168, 164, 164, 169,\n",
       "       163, 169, 169, 169, 175, 175, 178, 179, 189, 192, 191, 186, 189,\n",
       "       189, 189, 191, 192, 208, 204, 209, 209, 209, 207, 215, 216, 212,\n",
       "       212, 209, 213, 220, 220, 220, 218, 220, 218, 218, 216, 219, 224,\n",
       "       221, 217, 217, 217, 217, 222, 219, 218, 218, 222, 220, 222, 225,\n",
       "       223, 222, 225, 223, 228, 230, 228, 233, 230, 232, 232, 233, 234,\n",
       "       233, 233, 233, 231, 231, 231, 233, 231, 232, 232, 232, 240, 240,\n",
       "       240, 236, 235, 236, 236, 237, 233, 233, 237, 248, 252, 247, 252,\n",
       "       258, 258, 251, 252, 251, 258, 252, 258, 262, 258, 263, 267, 266,\n",
       "       260, 269, 281, 280, 281, 272, 281, 278, 281, 284, 281, 277, 286,\n",
       "       284, 286, 288, 284, 290, 295, 295, 301, 302, 306, 309, 305, 306,\n",
       "       305, 308, 310, 312, 330, 325, 334, 333, 334, 333, 336, 334, 337,\n",
       "       329, 337, 336, 335, 339, 341, 339, 341, 346, 348, 345, 349, 353,\n",
       "       353, 349, 349, 351, 356, 349, 353, 356, 354, 357, 357, 352, 360,\n",
       "       358, 360, 353, 360, 360, 362, 365, 368, 363, 368, 368, 368, 374,\n",
       "       369, 368, 378, 376, 382, 382])"
      ]
     },
     "execution_count": 15,
     "metadata": {},
     "output_type": "execute_result"
    }
   ],
   "source": [
    "blob[2]"
   ]
  },
  {
   "cell_type": "code",
   "execution_count": null,
   "id": "ea13289c-579c-4fc6-85cc-16017b1539a1",
   "metadata": {},
   "outputs": [],
   "source": []
  }
 ],
 "metadata": {
  "kernelspec": {
   "display_name": "kfx",
   "language": "python",
   "name": "kfx"
  },
  "language_info": {
   "codemirror_mode": {
    "name": "ipython",
    "version": 3
   },
   "file_extension": ".py",
   "mimetype": "text/x-python",
   "name": "python",
   "nbconvert_exporter": "python",
   "pygments_lexer": "ipython3",
   "version": "3.10.10"
  }
 },
 "nbformat": 4,
 "nbformat_minor": 5
}
