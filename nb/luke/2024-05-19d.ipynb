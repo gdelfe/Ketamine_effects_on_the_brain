{
 "cells": [
  {
   "cell_type": "code",
   "execution_count": 4,
   "id": "f624c594-d654-48c9-9fa4-a96cebb93299",
   "metadata": {
    "tags": []
   },
   "outputs": [
    {
     "name": "stdout",
     "output_type": "stream",
     "text": [
      "The autoreload extension is already loaded. To reload it, use:\n",
      "  %reload_ext autoreload\n"
     ]
    }
   ],
   "source": [
    "%load_ext autoreload\n",
    "%autoreload 2"
   ]
  },
  {
   "cell_type": "code",
   "execution_count": 5,
   "id": "f85a297f-5202-4410-8af5-8ffcbd5bb300",
   "metadata": {
    "tags": []
   },
   "outputs": [],
   "source": [
    "import json\n",
    "import pandas as pd\n",
    "import src.paths\n",
    "from src.data import load_behavior"
   ]
  },
  {
   "cell_type": "code",
   "execution_count": 9,
   "id": "aba09f75-e963-4003-a478-8f9f3adf25f6",
   "metadata": {
    "tags": []
   },
   "outputs": [],
   "source": [
    "with open(src.paths.REF / 'date_recoffset.json', 'r') as f:\n",
    "    offsets = json.load(f)\n",
    "with open(src.paths.REF / 'date_recid.json', 'r') as f:\n",
    "    recids = json.load(f)"
   ]
  },
  {
   "cell_type": "code",
   "execution_count": 14,
   "id": "19df6192-9234-451c-b005-3f225c566827",
   "metadata": {
    "tags": []
   },
   "outputs": [],
   "source": [
    "date = '2022-07-27'\n",
    "recid = recids[date]"
   ]
  },
  {
   "cell_type": "code",
   "execution_count": 11,
   "id": "2d107cf1-b26a-4d3f-8879-82a064fc25b5",
   "metadata": {},
   "outputs": [],
   "source": [
    "behav = load_behavior(recid)"
   ]
  },
  {
   "cell_type": "code",
   "execution_count": 17,
   "id": "d60b6d14-0d8c-46ba-b12d-6aff0242933d",
   "metadata": {
    "tags": []
   },
   "outputs": [],
   "source": [
    "lfpstart, lfpend = offsets[date]"
   ]
  },
  {
   "cell_type": "code",
   "execution_count": 19,
   "id": "411732c7-d3fe-436a-807c-3091277186b8",
   "metadata": {
    "tags": []
   },
   "outputs": [
    {
     "data": {
      "text/plain": [
       "(24077, 18029080, 18005003)"
      ]
     },
     "execution_count": 19,
     "metadata": {},
     "output_type": "execute_result"
    }
   ],
   "source": [
    "lfpstart, lfpend, lfpend - lfpstart"
   ]
  },
  {
   "cell_type": "code",
   "execution_count": 386,
   "id": "6faddae6-5cdf-45fd-9d3d-1ae8dfaba8b0",
   "metadata": {
    "tags": []
   },
   "outputs": [],
   "source": [
    "lfp_t = pd.date_range(start=0, periods=lfpend - lfpstart, freq='0.4ms')"
   ]
  },
  {
   "cell_type": "code",
   "execution_count": 388,
   "id": "c746c2b8-d32a-4a03-a716-9c1227a0905c",
   "metadata": {
    "tags": []
   },
   "outputs": [],
   "source": [
    "behav_t = pd.date_range(start=0, periods=len(behav), freq='10ms')"
   ]
  },
  {
   "cell_type": "code",
   "execution_count": 409,
   "id": "e0e6d8b4-b5e4-482d-a9f8-998e5b8d77aa",
   "metadata": {
    "tags": []
   },
   "outputs": [],
   "source": [
    "df = behav.set_index(behav_t)\n",
    "df = df.reindex(lfp_t).interpolate(method='linear')\n",
    "df.index = pd.Series(np.arange(len(df)) / 2500, name='time')"
   ]
  }
 ],
 "metadata": {
  "kernelspec": {
   "display_name": "kfx",
   "language": "python",
   "name": "kfx"
  },
  "language_info": {
   "codemirror_mode": {
    "name": "ipython",
    "version": 3
   },
   "file_extension": ".py",
   "mimetype": "text/x-python",
   "name": "python",
   "nbconvert_exporter": "python",
   "pygments_lexer": "ipython3",
   "version": "3.10.10"
  }
 },
 "nbformat": 4,
 "nbformat_minor": 5
}
