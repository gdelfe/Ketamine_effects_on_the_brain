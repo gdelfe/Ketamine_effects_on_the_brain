{
 "cells": [
  {
   "cell_type": "code",
   "execution_count": 1,
   "id": "cd3584c1",
   "metadata": {},
   "outputs": [],
   "source": [
    "import os\n",
    "import numpy as np\n",
    "import pandas as pd"
   ]
  },
  {
   "cell_type": "code",
   "execution_count": 2,
   "id": "2a473b0e",
   "metadata": {},
   "outputs": [],
   "source": [
    "def filepaths(sesspath, region, signal):\n",
    "    region = {'pfc': 'imec0', 'hpc': 'imec1'}[region.lower()]\n",
    "    signal = {'ap': 'ap', 'lfp': 'lf'}[signal.lower()]\n",
    "    basedir = sesspath + f'_{region}'\n",
    "    basename = sesspath.split('/')[-1] + f'_t0.{region}.{signal}'\n",
    "    datapath = os.path.join(basedir, basename + '.bin')\n",
    "    metapath = os.path.join(basedir, basename + '.meta')\n",
    "    return datapath, metapath"
   ]
  },
  {
   "cell_type": "code",
   "execution_count": 3,
   "id": "2c770196",
   "metadata": {},
   "outputs": [],
   "source": [
    "def metadata(metapath):\n",
    "    with open(metapath, 'r') as f:\n",
    "        md = {}\n",
    "        for line in f.read().splitlines():\n",
    "            key, val = line.split('=')\n",
    "            if key.startswith('~'):\n",
    "                key = key[1:]\n",
    "            md[key] = val\n",
    "    return md"
   ]
  },
  {
   "cell_type": "code",
   "execution_count": 4,
   "id": "232aa4a3",
   "metadata": {},
   "outputs": [],
   "source": [
    "sessions = pd.read_csv('/Users/lukearend/phd/kfx/ref/sessions.csv')"
   ]
  },
  {
   "cell_type": "code",
   "execution_count": 5,
   "id": "533049d8",
   "metadata": {},
   "outputs": [
    {
     "name": "stdout",
     "output_type": "stream",
     "text": [
      "missing meta: 6, hpc, lfp\n"
     ]
    }
   ],
   "source": [
    "root = '/Users/lukearend/phd/kfx/data/mnt/Ketamine'\n",
    "for i, sess in sessions.iterrows():\n",
    "    for region in ['pfc', 'hpc']:\n",
    "        for signal in ['ap', 'lfp']:\n",
    "            datapath, metapath = filepaths(sess.path, region, signal)\n",
    "            datapath = os.path.join(root, datapath)\n",
    "            metapath = os.path.join(root, metapath)\n",
    "            if not os.path.isfile(datapath):\n",
    "                print(f'missing data: {sess.sessnum}, {region}, {signal}')\n",
    "            if not os.path.isfile(metapath):\n",
    "                print(f'missing meta: {sess.sessnum}, {region}, {signal}')"
   ]
  }
 ],
 "metadata": {
  "kernelspec": {
   "display_name": "Python 3",
   "language": "python",
   "name": "python3"
  },
  "language_info": {
   "codemirror_mode": {
    "name": "ipython",
    "version": 3
   },
   "file_extension": ".py",
   "mimetype": "text/x-python",
   "name": "python",
   "nbconvert_exporter": "python",
   "pygments_lexer": "ipython3",
   "version": "3.10.6"
  }
 },
 "nbformat": 4,
 "nbformat_minor": 5
}
