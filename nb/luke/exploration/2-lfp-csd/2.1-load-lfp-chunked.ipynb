{
 "cells": [
  {
   "cell_type": "code",
   "execution_count": 7,
   "id": "8c22cfd0",
   "metadata": {},
   "outputs": [],
   "source": [
    "import os\n",
    "import numpy as np\n",
    "from common import sessions, metadata\n",
    "\n",
    "recid = 7\n",
    "root = '/Users/lukearend/phd/kfx/data'\n",
    "file = '2022-08-11-01-55-00_M018_SAL_mPFC_HPC_0_0_0mpk_g0_t0.imec1.lf.bin'\n",
    "path = os.path.join(root, file)\n",
    "md = metadata.loc[(7, 'lfp', 'hpc')]"
   ]
  },
  {
   "cell_type": "code",
   "execution_count": 9,
   "id": "61b4d1d4",
   "metadata": {},
   "outputs": [],
   "source": [
    "nchans = md.nchans\n",
    "nsamples = md.sizebytes // nchans // 2\n",
    "chanstart = md.chanstart\n",
    "chanend = md.chanend + 1\n",
    "int2mV = md.maxvolts / md.bitdepth / md.gain * 1e3\n",
    "memmap = np.memmap(path, dtype='int16', mode='r', shape=(nchans, nsamples), offset=0, order='F')\n",
    "memmap = memmap[chanstart:chanend, :]"
   ]
  },
  {
   "cell_type": "code",
   "execution_count": 43,
   "id": "c43ce581",
   "metadata": {},
   "outputs": [
    {
     "data": {
      "text/plain": [
       "70743.07421875"
      ]
     },
     "execution_count": 43,
     "metadata": {},
     "output_type": "execute_result"
    }
   ],
   "source": [
    "nsamples / chunksize"
   ]
  },
  {
   "cell_type": "code",
   "execution_count": null,
   "id": "46e9db7d",
   "metadata": {},
   "outputs": [],
   "source": [
    "np.random.randn(18000000, 384)"
   ]
  },
  {
   "cell_type": "code",
   "execution_count": 29,
   "id": "b9bfcc1a",
   "metadata": {},
   "outputs": [],
   "source": [
    "from tqdm import tqdm"
   ]
  },
  {
   "cell_type": "code",
   "execution_count": 42,
   "id": "2e4694eb",
   "metadata": {},
   "outputs": [
    {
     "name": "stderr",
     "output_type": "stream",
     "text": [
      "100%|███████████████████████████████████| 70744/70744 [00:43<00:00, 1612.40it/s]\n"
     ]
    }
   ],
   "source": [
    "chunksize = 256\n",
    "nchunks = int(np.ceil(nsamples / chunksize))\n",
    "start = 0\n",
    "for i in tqdm(range(nchunks)):\n",
    "    end = min(start + chunksize, nsamples)\n",
    "    batch = np.array(memmap[:, start:end])\n",
    "    start = end"
   ]
  },
  {
   "cell_type": "code",
   "execution_count": null,
   "id": "ac32b162",
   "metadata": {},
   "outputs": [],
   "source": [
    "256: 45 sec\n",
    "1024: 30 sec\n",
    "4096: 38 sec"
   ]
  },
  {
   "cell_type": "code",
   "execution_count": 28,
   "id": "52f53c73",
   "metadata": {},
   "outputs": [
    {
     "data": {
      "text/plain": [
       "17685.7685546875"
      ]
     },
     "execution_count": 28,
     "metadata": {},
     "output_type": "execute_result"
    }
   ],
   "source": [
    "nsamples / 1024"
   ]
  },
  {
   "cell_type": "code",
   "execution_count": 21,
   "id": "80526f7e",
   "metadata": {},
   "outputs": [
    {
     "data": {
      "text/plain": [
       "17685.7685546875"
      ]
     },
     "execution_count": 21,
     "metadata": {},
     "output_type": "execute_result"
    }
   ],
   "source": [
    "memmap.shape[1] / chunksize"
   ]
  },
  {
   "cell_type": "code",
   "execution_count": 14,
   "id": "c1f098d1",
   "metadata": {},
   "outputs": [],
   "source": [
    "arr = np.array(memmap[0, :])"
   ]
  },
  {
   "cell_type": "code",
   "execution_count": 16,
   "id": "9a6c7d96",
   "metadata": {},
   "outputs": [
    {
     "data": {
      "text/plain": [
       "array([-0.609375 , -0.890625 , -0.890625 , ..., -0.8203125, -0.84375  ,\n",
       "       -0.84375  ])"
      ]
     },
     "execution_count": 16,
     "metadata": {},
     "output_type": "execute_result"
    }
   ],
   "source": [
    "arr * int2mV"
   ]
  },
  {
   "cell_type": "code",
   "execution_count": 12,
   "id": "5f3de89f",
   "metadata": {},
   "outputs": [
    {
     "data": {
      "text/plain": [
       "array([[-0.609375 , -0.890625 , -0.890625 , ..., -0.9375   , -0.9140625,\n",
       "        -0.9609375],\n",
       "       [-0.09375  , -0.375    , -0.3984375, ..., -0.5390625, -0.4921875,\n",
       "        -0.46875  ],\n",
       "       [-1.0078125, -1.2890625, -1.2421875, ..., -1.359375 , -1.3359375,\n",
       "        -1.3125   ],\n",
       "       ...,\n",
       "       [ 0.1875   , -0.09375  , -0.046875 , ..., -0.2109375, -0.1875   ,\n",
       "        -0.1640625],\n",
       "       [ 0.09375  ,  0.09375  ,  0.1171875, ...,  0.0234375,  0.       ,\n",
       "         0.0234375],\n",
       "       [-0.46875  , -0.46875  , -0.46875  , ..., -0.6328125, -0.609375 ,\n",
       "        -0.5859375]])"
      ]
     },
     "execution_count": 12,
     "metadata": {},
     "output_type": "execute_result"
    }
   ],
   "source": [
    "memmap[0:10, 0:10000000] * int2mV"
   ]
  },
  {
   "cell_type": "code",
   "execution_count": null,
   "id": "4f8dd044",
   "metadata": {},
   "outputs": [],
   "source": []
  }
 ],
 "metadata": {
  "kernelspec": {
   "display_name": "Python 3",
   "language": "python",
   "name": "python3"
  },
  "language_info": {
   "codemirror_mode": {
    "name": "ipython",
    "version": 3
   },
   "file_extension": ".py",
   "mimetype": "text/x-python",
   "name": "python",
   "nbconvert_exporter": "python",
   "pygments_lexer": "ipython3",
   "version": "3.10.6"
  }
 },
 "nbformat": 4,
 "nbformat_minor": 5
}
