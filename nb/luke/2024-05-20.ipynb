{
 "cells": [
  {
   "cell_type": "markdown",
   "id": "cf2deebe-4349-49ca-8c22-77215dafbafc",
   "metadata": {},
   "source": [
    "# Implement behavior upsampling"
   ]
  },
  {
   "cell_type": "code",
   "execution_count": 1,
   "id": "f624c594-d654-48c9-9fa4-a96cebb93299",
   "metadata": {
    "tags": []
   },
   "outputs": [],
   "source": [
    "%load_ext autoreload\n",
    "%autoreload 2"
   ]
  },
  {
   "cell_type": "code",
   "execution_count": 11,
   "id": "f85a297f-5202-4410-8af5-8ffcbd5bb300",
   "metadata": {
    "tags": []
   },
   "outputs": [],
   "source": [
    "import json\n",
    "import numpy as np\n",
    "import pandas as pd\n",
    "import src.paths\n",
    "from src.data import load_behavior"
   ]
  },
  {
   "cell_type": "code",
   "execution_count": 3,
   "id": "aba09f75-e963-4003-a478-8f9f3adf25f6",
   "metadata": {
    "tags": []
   },
   "outputs": [],
   "source": [
    "with open(src.paths.REF / 'date_recoffset.json', 'r') as f:\n",
    "    offsets = json.load(f)\n",
    "with open(src.paths.REF / 'date_recid.json', 'r') as f:\n",
    "    recids = json.load(f)"
   ]
  },
  {
   "cell_type": "code",
   "execution_count": 4,
   "id": "a6691eae-effe-46ef-a114-b84d3352c829",
   "metadata": {
    "tags": []
   },
   "outputs": [],
   "source": [
    "dates = [\n",
    "    '2022-07-27',\n",
    "    '2022-07-28',\n",
    "    '2022-08-01',\n",
    "    '2022-08-03',\n",
    "    '2022-08-04',\n",
    "    '2022-08-06',\n",
    "    '2022-08-08',\n",
    "    '2022-08-11',\n",
    "    '2022-08-12',\n",
    "    '2022-08-13',\n",
    "    '2022-08-15',\n",
    "    '2022-09-12',\n",
    "    '2022-09-14',\n",
    "    '2022-09-16',\n",
    "]"
   ]
  },
  {
   "cell_type": "code",
   "execution_count": 43,
   "id": "b97370be-d39f-41ee-80e1-193f9cde6bdc",
   "metadata": {
    "tags": []
   },
   "outputs": [],
   "source": [
    "date = dates[0]"
   ]
  },
  {
   "cell_type": "code",
   "execution_count": null,
   "id": "f625881c-cee7-459d-a0d0-82048b18b00a",
   "metadata": {},
   "outputs": [],
   "source": [
    "def upsample_behavior(date):\n",
    "    recid = recids[date]\n",
    "    lfpstart, lfpend = offsets[date]\n",
    "\n",
    "    df = load_behavior(recid)\n",
    "    lfplen = (lfpend - lfpstart + 1) // 2\n",
    "    lfp_t = pd.date_range(start=0, periods=lfplen, freq='0.4ms')\n",
    "    behav_t = pd.date_range(start=0, periods=len(df), freq='10ms')\n",
    "\n",
    "    df = df.set_index(behav_t)\n",
    "    df = df.reindex(lfp_t).interpolate(method='linear')\n",
    "    df.index = pd.Series(np.arange(len(df)) / 2500, name='time')\n",
    "    return df"
   ]
  },
  {
   "cell_type": "code",
   "execution_count": null,
   "id": "1006b509-dae8-453b-a0aa-8e404a1649f8",
   "metadata": {},
   "outputs": [],
   "source": []
  }
 ],
 "metadata": {
  "kernelspec": {
   "display_name": "kfx",
   "language": "python",
   "name": "kfx"
  },
  "language_info": {
   "codemirror_mode": {
    "name": "ipython",
    "version": 3
   },
   "file_extension": ".py",
   "mimetype": "text/x-python",
   "name": "python",
   "nbconvert_exporter": "python",
   "pygments_lexer": "ipython3",
   "version": "3.10.10"
  }
 },
 "nbformat": 4,
 "nbformat_minor": 5
}
