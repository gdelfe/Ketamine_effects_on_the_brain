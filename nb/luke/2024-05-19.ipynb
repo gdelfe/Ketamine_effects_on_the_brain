{
 "cells": [
  {
   "cell_type": "markdown",
   "id": "a60fd0e2-2a61-4397-8618-fcf5fb1c9347",
   "metadata": {},
   "source": [
    "# Implement compute session CSD"
   ]
  },
  {
   "cell_type": "code",
   "execution_count": null,
   "id": "901a632a-3d67-42bb-bef9-67bc65265554",
   "metadata": {},
   "outputs": [],
   "source": [
    "import json\n",
    "import time\n",
    "import pandas as pd\n",
    "import src.paths\n",
    "from src.data import load_ephys\n",
    "from src.lfp import remove_dc_offset, combine_neighbors, decimate_by_2\n",
    "from src.lfp import bandpass_1_300Hz, notch_60Hz, compute_csd\n",
    "\n",
    "\n",
    "def raw_lfp_to_csd(X):\n",
    "    X = remove_dc_offset(X)\n",
    "    X = combine_neighbors(X)\n",
    "    X = bandpass_1_300Hz(X)\n",
    "    X = notch_60Hz(X)\n",
    "    X = decimate_by_2(X)\n",
    "    X = compute_csd(X)\n",
    "    X = combine_neighbors(X)\n",
    "    return X\n",
    "\n",
    "\n",
    "def compute_session_csd(date, region):\n",
    "    with open(src.paths.REF / 'date_recoffset.json', 'r') as f:\n",
    "        offsets = json.load(f)\n",
    "    \n",
    "    suffix = {'hpc': '.imec1.lf.bin', 'pfc': '.imec0.lf.bin'}\n",
    "    file = str(src.paths.session_path(date)) + suffix\n",
    "    path = src.paths.DATA / date / file\n",
    "    lfpstart, lfpend = offsets[date]\n",
    "    duration = (lfpend - lfpstart) / 2500 / 60\n",
    "    \n",
    "    print(f'date: {date}')\n",
    "    print(f'reading path: {path}')\n",
    "    print(f'lfpstart, lfpend:', lfpstart, lfpend)\n",
    "    print(f'duration: {duration} min')\n",
    "\n",
    "    intervals = []\n",
    "    startmin = 0\n",
    "    while True:\n",
    "        endmin = min(startmin + 1, duration)\n",
    "        intervals.append((startmin, endmin))\n",
    "        if endmin == duration:\n",
    "            break\n",
    "        startmin = endmin\n",
    "    print(f'# batches:', len(intervals))\n",
    "\n",
    "    t0 = time.time()\n",
    "    l = []\n",
    "    for i, (start, end) in enumerate(intervals):\n",
    "        raw = load_ephys(path, startmin=start, endmin=end, offset=lfpstart, cleaned=True)\n",
    "        X = raw_lfp_to_csd(raw.values)\n",
    "        idx = raw.index[::2]\n",
    "        col = raw.columns[::4] // 4\n",
    "        csd = pd.DataFrame(X, index=idx, columns=col)\n",
    "        l.append(csd)\n",
    "        if i % 10 == 0:\n",
    "            print(f'finished batch {i} ({time.time() - t0:0.2f} s)')\n",
    "    print('done')\n",
    "\n",
    "    csd = pd.concat(l, axis=0)\n",
    "    print('total samples:', len(csd))\n",
    "    print('GB:', csd.values.nbytes / 1e9)\n",
    "    return csd\n",
    "\n",
    "    csd.to_pickle(outfile)"
   ]
  },
  {
   "cell_type": "code",
   "execution_count": null,
   "id": "cb11a8d4-ef24-492f-8a36-74a90141b955",
   "metadata": {},
   "outputs": [],
   "source": []
  }
 ],
 "metadata": {
  "kernelspec": {
   "display_name": "kfx",
   "language": "python",
   "name": "kfx"
  },
  "language_info": {
   "codemirror_mode": {
    "name": "ipython",
    "version": 3
   },
   "file_extension": ".py",
   "mimetype": "text/x-python",
   "name": "python",
   "nbconvert_exporter": "python",
   "pygments_lexer": "ipython3",
   "version": "3.10.10"
  }
 },
 "nbformat": 4,
 "nbformat_minor": 5
}
