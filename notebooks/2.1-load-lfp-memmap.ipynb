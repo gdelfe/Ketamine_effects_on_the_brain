{
 "cells": [
  {
   "cell_type": "code",
   "execution_count": 1,
   "id": "8c22cfd0",
   "metadata": {},
   "outputs": [],
   "source": [
    "import os\n",
    "import numpy as np\n",
    "from common import sessions, metadata, data_path\n",
    "\n",
    "recid = 7\n",
    "root = '/Users/lukearend/phd/kfx/data/mnt/Ketamine'"
   ]
  },
  {
   "cell_type": "code",
   "execution_count": 2,
   "id": "25108539",
   "metadata": {},
   "outputs": [],
   "source": [
    "sess = sessions.loc[recid]\n",
    "md = metadata.loc[(recid, 'lfp', 'hpc')]\n",
    "path = os.path.join(root, data_path(sess.path, 'lfp', 'hpc'))"
   ]
  },
  {
   "cell_type": "code",
   "execution_count": 25,
   "id": "61b4d1d4",
   "metadata": {},
   "outputs": [],
   "source": [
    "nchans = md.nchans\n",
    "nsamples = md.sizebytes // nchans // 2\n",
    "chanstart = md.chanstart\n",
    "chanend = md.chanend + 1\n",
    "int2mV = md.maxvolts / md.bitdepth / md.gain * 1e3\n",
    "memmap = np.memmap(path, dtype='int16', mode='r', shape=(nchans, nsamples), offset=0, order='F')\n",
    "memmap = memmap[chanstart:chanend, :]"
   ]
  },
  {
   "cell_type": "code",
   "execution_count": 27,
   "id": "2e4694eb",
   "metadata": {},
   "outputs": [
    {
     "data": {
      "text/plain": [
       "(384, 18110227)"
      ]
     },
     "execution_count": 27,
     "metadata": {},
     "output_type": "execute_result"
    }
   ],
   "source": [
    "memmap.shape"
   ]
  },
  {
   "cell_type": "code",
   "execution_count": 26,
   "id": "5f3de89f",
   "metadata": {},
   "outputs": [
    {
     "data": {
      "text/plain": [
       "array([[-0.609375 , -0.890625 , -0.890625 , -0.8671875, -0.8671875,\n",
       "        -0.84375  , -0.9140625, -0.8671875, -0.84375  , -0.84375  ],\n",
       "       [-0.09375  , -0.375    , -0.3984375, -0.375    , -0.375    ,\n",
       "        -0.3515625, -0.3984375, -0.375    , -0.3515625, -0.375    ],\n",
       "       [-1.0078125, -1.2890625, -1.2421875, -1.2890625, -1.2890625,\n",
       "        -1.2421875, -1.2890625, -1.265625 , -1.265625 , -1.265625 ],\n",
       "       [ 0.140625 ,  0.140625 ,  0.1171875,  0.140625 ,  0.1171875,\n",
       "         0.1640625,  0.1171875,  0.1640625,  0.1640625,  0.140625 ],\n",
       "       [-0.8203125, -1.1015625, -1.078125 , -1.1015625, -1.1015625,\n",
       "        -1.078125 , -1.125    , -1.1015625, -1.078125 , -1.125    ],\n",
       "       [ 0.0234375,  0.3046875,  0.28125  ,  0.2578125,  0.3046875,\n",
       "         0.28125  ,  0.28125  ,  0.3046875,  0.28125  ,  0.2578125],\n",
       "       [ 0.2109375,  0.2109375,  0.234375 ,  0.2109375,  0.234375 ,\n",
       "         0.234375 ,  0.2109375,  0.234375 ,  0.234375 ,  0.2109375],\n",
       "       [ 0.1875   , -0.09375  , -0.046875 , -0.046875 ,  0.       ,\n",
       "        -0.0703125, -0.09375  , -0.0234375, -0.046875 , -0.0703125],\n",
       "       [ 0.09375  ,  0.09375  ,  0.1171875,  0.09375  ,  0.1171875,\n",
       "         0.1171875,  0.09375  ,  0.1171875,  0.1171875,  0.09375  ],\n",
       "       [-0.46875  , -0.46875  , -0.46875  , -0.4921875, -0.46875  ,\n",
       "        -0.4921875, -0.515625 , -0.4921875, -0.46875  , -0.46875  ]])"
      ]
     },
     "execution_count": 26,
     "metadata": {},
     "output_type": "execute_result"
    }
   ],
   "source": [
    "memmap[0:10, 0:10] * int2mV"
   ]
  }
 ],
 "metadata": {
  "kernelspec": {
   "display_name": "Python 3",
   "language": "python",
   "name": "python3"
  },
  "language_info": {
   "codemirror_mode": {
    "name": "ipython",
    "version": 3
   },
   "file_extension": ".py",
   "mimetype": "text/x-python",
   "name": "python",
   "nbconvert_exporter": "python",
   "pygments_lexer": "ipython3",
   "version": "3.10.6"
  }
 },
 "nbformat": 4,
 "nbformat_minor": 5
}
