{
 "cells": [
  {
   "cell_type": "code",
   "execution_count": 44,
   "id": "4ee9904e",
   "metadata": {},
   "outputs": [],
   "source": [
    "import os\n",
    "import numpy as np\n",
    "import pandas as pd\n",
    "\n",
    "def filepaths(sesspath, region, signal):\n",
    "    region = {'pfc': 'imec0', 'hpc': 'imec1'}[region.lower()]\n",
    "    signal = {'ap': 'ap', 'lfp': 'lf'}[signal.lower()]\n",
    "    basedir = sesspath + f'_{region}'\n",
    "    basename = sesspath.split('/')[-1] + f'_t0.{region}.{signal}'\n",
    "    datapath = os.path.join(basedir, basename + '.bin')\n",
    "    metapath = os.path.join(basedir, basename + '.meta')\n",
    "    return datapath, metapath\n",
    "\n",
    "def metadata(metapath):\n",
    "    with open(metapath, 'r') as f:\n",
    "        md = {}\n",
    "        for line in f.read().splitlines():\n",
    "            key, val = line.split('=')\n",
    "            if key.startswith('~'):\n",
    "                key = key[1:]\n",
    "                print(key)\n",
    "            md[key] = val\n",
    "    return md\n",
    "\n",
    "def reconstruct_hpc_lfp_metadata(pfc_lfp, hpc_ap, sha1, sizebytes):\n",
    "    new = hpc_ap.copy()\n",
    "    new['snsSaveChanSubset'] = pfc_lfp['snsSaveChanSubset']\n",
    "    new['snsApLfSy'] = pfc_lfp['snsApLfSy']\n",
    "    new['imSampRate'] = pfc_lfp['imSampRate']\n",
    "    new['snsChanMap'] = pfc_lfp['snsChanMap']\n",
    "    new['fileName'] = hpc_ap['fileName'].replace('.ap', '.lf')\n",
    "    new['firstSample'] = pfc_lfp['firstSample']\n",
    "    new['fileSHA1'] = sha1.upper()\n",
    "    new['fileSizeBytes'] = str(sizebytes)\n",
    "    new['fileTimeSecs'] = hpc_ap['fileTimeSecs']\n",
    "    del new['snsShankMap']\n",
    "    return new\n",
    "\n",
    "root = '/Users/lukearend/phd/kfx/'\n",
    "prefix = root + 'data/mnt/Ketamine/'\n",
    "sessions = pd.read_csv(root + 'ref/sessions.csv')"
   ]
  },
  {
   "cell_type": "code",
   "execution_count": 45,
   "id": "1f74b464",
   "metadata": {},
   "outputs": [
    {
     "name": "stdout",
     "output_type": "stream",
     "text": [
      "imroTbl\n",
      "snsChanMap\n",
      "imroTbl\n",
      "snsChanMap\n",
      "snsShankMap\n"
     ]
    }
   ],
   "source": [
    "sess = sessions.iloc[6]\n",
    "_, metapath = filepaths(sess.path, 'pfc', 'lfp')\n",
    "pfc_lfp = metadata(prefix + metapath)\n",
    "_, metapath = filepaths(sess.path, 'hpc', 'ap')\n",
    "hpc_ap = metadata(prefix + metapath)"
   ]
  },
  {
   "cell_type": "code",
   "execution_count": 46,
   "id": "76c26768",
   "metadata": {},
   "outputs": [],
   "source": [
    "new = reconstruct_hpc_lfp_metadata(\n",
    "    pfc_lfp, hpc_ap,\n",
    "    sha1='0a9f9c4585379a4866ae342e7f3c8f5085998e73',\n",
    "    sizebytes=13964344240\n",
    ")"
   ]
  },
  {
   "cell_type": "code",
   "execution_count": 47,
   "id": "0130e816",
   "metadata": {},
   "outputs": [],
   "source": [
    "lines = new.copy()\n",
    "lines['~imroTbl'] = lines.pop('imroTbl')\n",
    "lines['~snsChanMap'] = lines.pop('snsChanMap')\n",
    "lines = [f'{k}={v}' for k, v in lines.items()]\n",
    "txt = '\\n'.join(lines)"
   ]
  },
  {
   "cell_type": "code",
   "execution_count": 48,
   "id": "ac283fb3",
   "metadata": {},
   "outputs": [],
   "source": [
    "_, outpath = filepaths(sess.path, 'hpc', 'lfp')\n",
    "outname = outpath.split('/')[-1]"
   ]
  },
  {
   "cell_type": "code",
   "execution_count": 50,
   "id": "1ce82b97",
   "metadata": {},
   "outputs": [],
   "source": [
    "with open(root + 'ref/2022-08-08-04-05-00_M017_SAL_mPFC_HPC_0_0_0mpk_g0_t0.imec1.lf.meta', 'w') as f:\n",
    "    f.write(txt)"
   ]
  },
  {
   "cell_type": "code",
   "execution_count": null,
   "id": "809fb541",
   "metadata": {},
   "outputs": [],
   "source": []
  }
 ],
 "metadata": {
  "kernelspec": {
   "display_name": "Python 3",
   "language": "python",
   "name": "python3"
  },
  "language_info": {
   "codemirror_mode": {
    "name": "ipython",
    "version": 3
   },
   "file_extension": ".py",
   "mimetype": "text/x-python",
   "name": "python",
   "nbconvert_exporter": "python",
   "pygments_lexer": "ipython3",
   "version": "3.10.6"
  }
 },
 "nbformat": 4,
 "nbformat_minor": 5
}
