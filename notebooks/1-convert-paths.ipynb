{
 "cells": [
  {
   "cell_type": "code",
   "execution_count": 6,
   "id": "cfd3fe2c-4dcb-49b3-8115-f1cb71ebadcb",
   "metadata": {},
   "outputs": [],
   "source": [
    "import os\n",
    "import pickle\n",
    "if os.name == 'posix':\n",
    "    import pathlib\n",
    "    pathlib.WindowsPath = pathlib.PosixPath"
   ]
  },
  {
   "cell_type": "code",
   "execution_count": 13,
   "id": "ef918e65-8448-4ac0-b672-5a39450a8256",
   "metadata": {},
   "outputs": [],
   "source": [
    "# path file in accept as input\n",
    "infile = '/Users/lukearend/phd/kfx/ref/HPC_lfp_paths.file'\n",
    "# path file to produce as output\n",
    "outfile = '/Users/lukearend/phd/kfx/ref/HPC_lfp_paths_local.pkl'\n",
    "# where Z:/NeuroPix/ is mounted on local machine\n",
    "mntpath = '/Users/lukearend/phd/kfx/data/mnt/'"
   ]
  },
  {
   "cell_type": "code",
   "execution_count": 14,
   "id": "7d7f04d4-28b8-40c0-a2ef-20fed14a46a3",
   "metadata": {},
   "outputs": [],
   "source": [
    "def localpath(mnt, path):\n",
    "    path, file = os.path.split(path)\n",
    "    path, dir1 = os.path.split(path)\n",
    "    path, dir2 = os.path.split(path)\n",
    "    file = os.path.join(dir2, dir1, file)\n",
    "    path = os.path.join(mnt, 'Ketamine', file)\n",
    "    return path"
   ]
  },
  {
   "cell_type": "code",
   "execution_count": 15,
   "id": "be06e80a-ee36-4484-85d7-505a9fe365c7",
   "metadata": {},
   "outputs": [],
   "source": [
    "with open(infile, 'rb') as f:\n",
    "    paths = pickle.load(f)\n",
    "\n",
    "paths = [localpath(mntpath, path) for path in paths]\n",
    "\n",
    "with open(outfile, 'wb') as f:\n",
    "    pickle.dump(paths, f)"
   ]
  },
  {
   "cell_type": "code",
   "execution_count": null,
   "id": "416ecb21-adaa-4a85-a1ea-4f851ae4c35a",
   "metadata": {},
   "outputs": [],
   "source": []
  }
 ],
 "metadata": {
  "kernelspec": {
   "display_name": "Python 3",
   "language": "python",
   "name": "python3"
  },
  "language_info": {
   "codemirror_mode": {
    "name": "ipython",
    "version": 3
   },
   "file_extension": ".py",
   "mimetype": "text/x-python",
   "name": "python",
   "nbconvert_exporter": "python",
   "pygments_lexer": "ipython3",
   "version": "3.10.6"
  }
 },
 "nbformat": 4,
 "nbformat_minor": 5
}
