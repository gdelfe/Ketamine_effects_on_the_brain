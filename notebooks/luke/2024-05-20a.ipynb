{
 "cells": [
  {
   "cell_type": "markdown",
   "id": "b8809c86-568b-429a-9f1a-27657259bd87",
   "metadata": {},
   "source": [
    "# Spike vs CSD file length"
   ]
  },
  {
   "cell_type": "code",
   "execution_count": 72,
   "id": "cfed4acd-7c3f-49d2-b4bd-005f305e5e78",
   "metadata": {
    "tags": []
   },
   "outputs": [],
   "source": [
    "import os\n",
    "import json\n",
    "import numpy as np\n",
    "import pandas as pd"
   ]
  },
  {
   "cell_type": "code",
   "execution_count": 77,
   "id": "5716e45e-ce13-4dce-b2fd-eb6a6e4c9ab6",
   "metadata": {
    "tags": []
   },
   "outputs": [],
   "source": [
    "import src.paths"
   ]
  },
  {
   "cell_type": "code",
   "execution_count": 78,
   "id": "783a7e82-3690-4605-9a82-dba92177f004",
   "metadata": {
    "tags": []
   },
   "outputs": [],
   "source": [
    "with open(src.paths.REF / 'date_recid.json', 'r') as f:\n",
    "    recids = json.load(f)"
   ]
  },
  {
   "cell_type": "code",
   "execution_count": 79,
   "id": "ffe53713-ea24-4df4-bd56-a29d486dec2e",
   "metadata": {
    "tags": []
   },
   "outputs": [],
   "source": [
    "dates = [\n",
    "    '2022-07-27',\n",
    "    '2022-07-28',\n",
    "    '2022-08-01',\n",
    "    '2022-08-03',\n",
    "    '2022-08-04',\n",
    "    '2022-08-06',\n",
    "    '2022-08-08',\n",
    "    '2022-08-11',\n",
    "    '2022-08-12',\n",
    "    '2022-08-13',\n",
    "    '2022-08-15',\n",
    "    '2022-09-12',\n",
    "    '2022-09-14',\n",
    "    '2022-09-16',\n",
    "]"
   ]
  },
  {
   "cell_type": "code",
   "execution_count": 80,
   "id": "5feab240-b9ae-4a1a-b6b3-cdcf14fa7a45",
   "metadata": {
    "tags": []
   },
   "outputs": [
    {
     "name": "stdout",
     "output_type": "stream",
     "text": [
      "2022-07-27: spikes shape (565, 1800499), csd shape (9002502, 96), csd len 1800500\n",
      "2022-07-28: spikes shape (397, 1855999), csd shape (9279412, 96), csd len 1855882\n",
      "2022-08-01: spikes shape (223, 1800499), csd shape (9002707, 96), csd len 1800541\n",
      "2022-08-03: spikes shape (200, 1800249), csd shape (9000965, 96), csd len 1800193\n",
      "2022-08-04: spikes shape (192, 1800999), csd shape (9004972, 96), csd len 1800994\n",
      "2022-08-06: spikes shape (121, 1798249), csd shape (8990783, 96), csd len 1798156\n",
      "2022-08-08: spikes shape (115, 1800749), csd shape (9004014, 96), csd len 1800802\n",
      "2022-08-11: spikes shape (128, 1802249), csd shape (9010885, 96), csd len 1802177\n",
      "2022-08-12: spikes shape (252, 1800999), csd shape (9005364, 96), csd len 1801072\n",
      "2022-08-13: spikes shape (116, 1801249), csd shape (9005855, 96), csd len 1801171\n",
      "2022-08-15: spikes shape (164, 1800999), csd shape (9005337, 96), csd len 1801067\n",
      "2022-09-12: spikes shape (328, 1800749), csd shape (9003290, 96), csd len 1800658\n",
      "2022-09-14: spikes shape (102, 1806249), csd shape (9031162, 96), csd len 1806232\n",
      "2022-09-16: spikes shape (106, 1800499), csd shape (9002196, 96), csd len 1800439\n"
     ]
    }
   ],
   "source": [
    "for date in dates:\n",
    "    recid = recids[date]\n",
    "    file = f'spk_250Hz_{recid}.file'\n",
    "    path = src.paths.DATA / 'spikes' / 'hpc' / file\n",
    "    spikes = pd.read_pickle(path)[0]\n",
    "    \n",
    "    path = src.paths.DATA / date / f'{date}-hpc-csd.pkl'\n",
    "    csd = pd.read_pickle(path)\n",
    "    \n",
    "    print(f'{date}: spikes shape {spikes.shape}, csd shape {csd.shape}, csd len {csd.shape[0] // 5}')"
   ]
  },
  {
   "cell_type": "code",
   "execution_count": 81,
   "id": "0c0baaaa-a1dc-44ba-b2c2-ebe3032fa4d4",
   "metadata": {
    "tags": []
   },
   "outputs": [],
   "source": [
    "nunits = [565, 397, 223, 200, 192, 121, 115, 128, 252, 116, 164, 328, 102, 106]"
   ]
  },
  {
   "cell_type": "code",
   "execution_count": 83,
   "id": "93e8035a-4a8b-46c7-bff5-7d4aba3823e6",
   "metadata": {
    "tags": []
   },
   "outputs": [
    {
     "data": {
      "text/plain": [
       "count     14.000000\n",
       "mean     214.928571\n",
       "std      134.174665\n",
       "min      102.000000\n",
       "25%      117.250000\n",
       "50%      178.000000\n",
       "75%      244.750000\n",
       "max      565.000000\n",
       "dtype: float64"
      ]
     },
     "execution_count": 83,
     "metadata": {},
     "output_type": "execute_result"
    }
   ],
   "source": [
    "pd.Series(nunits).describe()"
   ]
  },
  {
   "cell_type": "code",
   "execution_count": null,
   "id": "e6614a01-945e-4d0c-a624-7860a35c6c58",
   "metadata": {},
   "outputs": [],
   "source": []
  }
 ],
 "metadata": {
  "kernelspec": {
   "display_name": "kfx",
   "language": "python",
   "name": "kfx"
  },
  "language_info": {
   "codemirror_mode": {
    "name": "ipython",
    "version": 3
   },
   "file_extension": ".py",
   "mimetype": "text/x-python",
   "name": "python",
   "nbconvert_exporter": "python",
   "pygments_lexer": "ipython3",
   "version": "3.10.10"
  }
 },
 "nbformat": 4,
 "nbformat_minor": 5
}
