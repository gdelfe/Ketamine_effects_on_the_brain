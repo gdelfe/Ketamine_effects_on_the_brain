{
 "cells": [
  {
   "cell_type": "markdown",
   "id": "b177e69f-29a4-4b26-9800-77cfd0494453",
   "metadata": {},
   "source": [
    "# Make CSD phase spike preference plot"
   ]
  },
  {
   "cell_type": "code",
   "execution_count": 1,
   "id": "d7fd0689-ed71-4e13-bce3-01ded2776cd5",
   "metadata": {
    "tags": []
   },
   "outputs": [],
   "source": [
    "import pandas as pd\n",
    "import src.paths"
   ]
  },
  {
   "cell_type": "code",
   "execution_count": 88,
   "id": "d103cf8c-dc02-4916-aa5e-66f08c04072f",
   "metadata": {
    "tags": []
   },
   "outputs": [],
   "source": [
    "DATE = '2022-09-16'\n",
    "CHANNEL = 39\n",
    "START = 300\n",
    "END = 1500"
   ]
  },
  {
   "cell_type": "code",
   "execution_count": 89,
   "id": "84c84905-21af-4189-bf9f-d90c2e6f8897",
   "metadata": {
    "tags": []
   },
   "outputs": [
    {
     "name": "stdout",
     "output_type": "stream",
     "text": [
      "CPU times: user 48.1 ms, sys: 2.86 s, total: 2.91 s\n",
      "Wall time: 12.7 s\n"
     ]
    }
   ],
   "source": [
    "%%time\n",
    "path = src.paths.DATA / DATE / f'{DATE}-hpc-csd.pkl'\n",
    "csd = pd.read_pickle(path)\n",
    "csd = csd.loc[START:END - 1 / 1250]\n",
    "csd = csd.loc[:, CHANNEL]"
   ]
  },
  {
   "cell_type": "markdown",
   "id": "45751862-8fb4-479e-bb6b-b10c2236c1ac",
   "metadata": {
    "tags": []
   },
   "source": [
    "---"
   ]
  },
  {
   "cell_type": "code",
   "execution_count": 90,
   "id": "06351452-2bda-48c4-9b63-f724fbd270ea",
   "metadata": {
    "tags": []
   },
   "outputs": [
    {
     "name": "stdout",
     "output_type": "stream",
     "text": [
      "CPU times: user 28.4 ms, sys: 645 ms, total: 673 ms\n",
      "Wall time: 2.92 s\n"
     ]
    }
   ],
   "source": [
    "%%time\n",
    "path = src.paths.DATA / DATE / f'{DATE}-hpc-spikes.pkl'\n",
    "spikes = pd.read_pickle(path)\n",
    "spikes = spikes.loc[START:END - 1 / 250]\n",
    "spikes = spikes.loc[:, range(CHANNEL * 4, CHANNEL * 4 + 4)]\n",
    "spikes.columns = spikes.columns.droplevel('channel')"
   ]
  },
  {
   "cell_type": "markdown",
   "id": "f72ae80f-9688-4b6e-b81f-e853ed5b22d8",
   "metadata": {},
   "source": [
    "---"
   ]
  },
  {
   "cell_type": "code",
   "execution_count": 94,
   "id": "f5c59262-c1ef-457c-b5c9-0a9fc5129326",
   "metadata": {},
   "outputs": [],
   "source": [
    "t0 = pd.date_range(start=0, periods=len(csd), freq='0.8ms')\n",
    "t = pd.date_range(start=0, periods=len(spikes), freq='4ms')\n",
    "tmp = csd.copy()\n",
    "tmp.index = t0\n",
    "csd = tmp.reindex(t).interpolate(method='linear')\n",
    "csd.index = spikes.index"
   ]
  },
  {
   "cell_type": "markdown",
   "id": "981acc0e-6fff-46e7-9df5-1e4f0e18a2f1",
   "metadata": {},
   "source": [
    "---"
   ]
  },
  {
   "cell_type": "code",
   "execution_count": 96,
   "id": "7614b571-34d3-4cf2-8c84-1664b8e9b7bd",
   "metadata": {},
   "outputs": [],
   "source": [
    "UNIT = 302"
   ]
  },
  {
   "cell_type": "code",
   "execution_count": 98,
   "id": "a945a1bb-f3f8-46a8-b72e-d7d08fd52c17",
   "metadata": {
    "tags": []
   },
   "outputs": [],
   "source": [
    "train = spikes.index[np.where(spikes[UNIT])[0]]"
   ]
  },
  {
   "cell_type": "markdown",
   "id": "814a5449-35bf-47f7-ac00-a59751eb4fd6",
   "metadata": {},
   "source": [
    "---"
   ]
  },
  {
   "cell_type": "code",
   "execution_count": 264,
   "id": "cecaf8de-e774-40fc-b39e-9131b318d949",
   "metadata": {
    "tags": []
   },
   "outputs": [],
   "source": [
    "import pywt"
   ]
  },
  {
   "cell_type": "code",
   "execution_count": 666,
   "id": "5bca45db-10f7-4065-af92-8420ed6ff522",
   "metadata": {
    "tags": []
   },
   "outputs": [],
   "source": [
    "FREQ_MIN = 4\n",
    "FREQ_MAX = 80\n",
    "WAVELET = pywt.ContinuousWavelet('cmor1.5-1.0')"
   ]
  },
  {
   "cell_type": "code",
   "execution_count": 700,
   "id": "dfd05380-c157-48bd-a05d-f6470e693932",
   "metadata": {
    "tags": []
   },
   "outputs": [],
   "source": [
    "freqs = np.logspace(np.log10(FREQ_MIN), np.log10(FREQ_MAX), 40)\n",
    "freqs = pd.Series(freqs, name='frequency')"
   ]
  },
  {
   "cell_type": "code",
   "execution_count": 701,
   "id": "73f563de-dd80-4db5-9bbe-317d809686a0",
   "metadata": {
    "tags": []
   },
   "outputs": [
    {
     "name": "stdout",
     "output_type": "stream",
     "text": [
      "CPU times: user 1.18 s, sys: 0 ns, total: 1.18 s\n",
      "Wall time: 1.17 s\n"
     ]
    }
   ],
   "source": [
    "%%time\n",
    "T = 1 / 250\n",
    "scales = pywt.frequency2scale(WAVELET, freqs * T)\n",
    "coef, outfreqs = pywt.cwt(csd, scales, WAVELET, sampling_period=T)"
   ]
  },
  {
   "cell_type": "code",
   "execution_count": 702,
   "id": "fbf42043-d05d-4a4d-ba9c-d7ed2c0fef89",
   "metadata": {
    "tags": []
   },
   "outputs": [],
   "source": [
    "phase = np.angle(coef)\n",
    "phase = pd.DataFrame(phase.T, index=csd.index, columns=freqs)"
   ]
  },
  {
   "cell_type": "markdown",
   "id": "ffeea45f-8c8e-46d1-ba24-5f052f115d3f",
   "metadata": {},
   "source": [
    "---"
   ]
  },
  {
   "cell_type": "code",
   "execution_count": 703,
   "id": "d5804616-ff5f-45de-80d6-5ca7e7ee7f66",
   "metadata": {
    "tags": []
   },
   "outputs": [],
   "source": [
    "l = []\n",
    "for f in freqs:\n",
    "    bins = np.linspace(-np.pi, np.pi, 20)\n",
    "    counts, outbins = np.histogram(phase[f][spikes[UNIT].astype('bool')], bins=bins)\n",
    "    l.append(counts)"
   ]
  },
  {
   "cell_type": "code",
   "execution_count": 704,
   "id": "aa001437-08e0-408c-85b6-a3b391f6c91c",
   "metadata": {
    "tags": []
   },
   "outputs": [],
   "source": [
    "bins = pd.Series(bins[:-1], name='phase')\n",
    "hist = pd.DataFrame(np.array(l), index=freqs, columns=bins)"
   ]
  },
  {
   "cell_type": "code",
   "execution_count": 748,
   "id": "266997b2-2c5c-4cc1-b5c9-e0c7c359a5ee",
   "metadata": {
    "tags": []
   },
   "outputs": [
    {
     "data": {
      "image/png": "[encoded data removed]",
      "text/plain": [
       "<Figure size 640x480 with 1 Axes>"
      ]
     },
     "metadata": {},
     "output_type": "display_data"
    }
   ],
   "source": [
    "plt.title(f'CSD phase spiking preference\\n{DATE} channel {CHANNEL} unit {UNIT} time {START}:{END} s')\n",
    "plt.gca().matshow(hist.values, interpolation='none')\n",
    "plt.axis('auto')\n",
    "plt.yticks(np.arange(hist.shape[0])[::5], freqs.astype('int')[::5])\n",
    "plt.xticks(np.arange(5) / 4 * (hist.shape[1] - 1), ['$-\\pi$', '$-\\pi/2$', 0, '$\\pi/2$', '$-\\pi$'])\n",
    "plt.tick_params(axis='x', bottom=True, top=False, labelbottom=True, labeltop=False)\n",
    "plt.xlabel('Instantaneous phase')\n",
    "plt.ylabel('Frequency (Hz)')\n",
    "plt.savefig(f'{DATE}-phase-spike-hist-channel-{CHANNEL}-unit-{UNIT}-time-{START}-{END}', dpi=300)\n",
    "plt.show()"
   ]
  },
  {
   "cell_type": "code",
   "execution_count": null,
   "id": "1db72cc4-82d7-44d0-aab7-623a74d74b50",
   "metadata": {},
   "outputs": [],
   "source": []
  }
 ],
 "metadata": {
  "kernelspec": {
   "display_name": "kfx",
   "language": "python",
   "name": "kfx"
  },
  "language_info": {
   "codemirror_mode": {
    "name": "ipython",
    "version": 3
   },
   "file_extension": ".py",
   "mimetype": "text/x-python",
   "name": "python",
   "nbconvert_exporter": "python",
   "pygments_lexer": "ipython3",
   "version": "3.10.10"
  },
  "toc-showcode": true
 },
 "nbformat": 4,
 "nbformat_minor": 5
}
