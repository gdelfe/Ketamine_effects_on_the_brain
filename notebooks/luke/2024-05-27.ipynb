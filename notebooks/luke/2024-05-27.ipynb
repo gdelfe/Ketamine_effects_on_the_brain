{
 "cells": [
  {
   "cell_type": "markdown",
   "id": "52609899-d702-4294-ab6c-d4374ed432b9",
   "metadata": {},
   "source": [
    "# Converting CSD bands to audio"
   ]
  },
  {
   "cell_type": "code",
   "execution_count": 26,
   "id": "789af51e-13d7-4a32-80c7-db7bf15d3fb8",
   "metadata": {
    "tags": []
   },
   "outputs": [],
   "source": [
    "import src.paths"
   ]
  },
  {
   "cell_type": "code",
   "execution_count": 27,
   "id": "e4f12319-b1d9-404a-a491-02885163573a",
   "metadata": {
    "tags": []
   },
   "outputs": [],
   "source": [
    "DATE = '2022-09-16'\n",
    "CHANNEL_MIN = 0\n",
    "CHANNEL_MAX = 59"
   ]
  },
  {
   "cell_type": "code",
   "execution_count": 28,
   "id": "92aa6f7c-db19-4baa-8b1c-43b770838142",
   "metadata": {},
   "outputs": [
    {
     "name": "stdout",
     "output_type": "stream",
     "text": [
      "CPU times: user 98.9 ms, sys: 2.75 s, total: 2.85 s\n",
      "Wall time: 19.2 s\n"
     ]
    }
   ],
   "source": [
    "%%time\n",
    "path = src.paths.DATA / DATE / f'{DATE}-hpc-csd.pkl'\n",
    "tau = 1 / 1250\n",
    "csd = pd.read_pickle(path)\n",
    "csd = csd.loc[0:7200 - tau, CHANNEL_MIN:CHANNEL_MAX]"
   ]
  },
  {
   "cell_type": "code",
   "execution_count": 29,
   "id": "455aba96-8fbe-4037-8ae0-c02a54927b9d",
   "metadata": {},
   "outputs": [],
   "source": [
    "CHANNEL = 30\n",
    "START = 0\n",
    "END = 1800"
   ]
  },
  {
   "cell_type": "code",
   "execution_count": 30,
   "id": "51a92e1f-2129-4855-b0f6-3f9208119dee",
   "metadata": {},
   "outputs": [],
   "source": [
    "raw = csd.loc[START:END - tau, CHANNEL]"
   ]
  },
  {
   "cell_type": "code",
   "execution_count": 31,
   "id": "3d20a8f5-87b9-49bc-baa5-4ed1165bfd91",
   "metadata": {
    "tags": []
   },
   "outputs": [],
   "source": [
    "THETA_MIN = 2\n",
    "THETA_MAX = 15\n",
    "LGAMMA_MIN = 30\n",
    "LGAMMA_MAX = 60\n",
    "HGAMMA_MIN = 60\n",
    "HGAMMA_MAX = 100"
   ]
  },
  {
   "cell_type": "code",
   "execution_count": 32,
   "id": "a969e52d-489d-4b1d-a43f-3c4f9f4bee41",
   "metadata": {
    "tags": []
   },
   "outputs": [],
   "source": [
    "sos = scipy.signal.butter(5, Wn=[THETA_MIN, THETA_MAX], fs=1250, btype='band', output='sos')\n",
    "theta = scipy.signal.sosfiltfilt(sos, raw, axis=0)\n",
    "sos = scipy.signal.butter(5, Wn=[LGAMMA_MIN, LGAMMA_MAX], fs=1250, btype='band', output='sos')\n",
    "lgamma = scipy.signal.sosfiltfilt(sos, raw, axis=0)\n",
    "sos = scipy.signal.butter(5, Wn=[HGAMMA_MIN, HGAMMA_MAX], fs=1250, btype='band', output='sos')\n",
    "hgamma = scipy.signal.sosfiltfilt(sos, raw, axis=0)"
   ]
  },
  {
   "cell_type": "code",
   "execution_count": 33,
   "id": "76d941d8-1bb0-4e59-bf0d-4bf3faa9ff3b",
   "metadata": {
    "tags": []
   },
   "outputs": [],
   "source": [
    "GAIN = 0.1"
   ]
  },
  {
   "cell_type": "code",
   "execution_count": 34,
   "id": "8eb67dd6-1b39-4911-a2b8-cbd7f5488fc3",
   "metadata": {
    "tags": []
   },
   "outputs": [
    {
     "name": "stdout",
     "output_type": "stream",
     "text": [
      "CPU times: user 44.3 s, sys: 9.35 s, total: 53.7 s\n",
      "Wall time: 53.5 s\n"
     ]
    }
   ],
   "source": [
    "%%time\n",
    "t1 = pd.date_range(start=0, periods=len(raw), freq='0.8ms')\n",
    "t2 = np.linspace(0, END - START, 44100 * (END - START) + 1)[:-1]\n",
    "t2 = (t2 * 1e15).astype('int').astype('datetime64[fs]')\n",
    "df = pd.DataFrame({\n",
    "    'theta': theta,\n",
    "    'lgamma': lgamma,\n",
    "    'hgamma': hgamma,\n",
    "}).set_index(t1).reindex(t2).interpolate(method='cubic')\n",
    "df.index = pd.Series(np.linspace(START, END, len(df) + 1)[:-1], name='time')"
   ]
  },
  {
   "cell_type": "code",
   "execution_count": 37,
   "id": "4bd6cf8a-66ad-440e-893d-dfffdf47913b",
   "metadata": {
    "tags": []
   },
   "outputs": [],
   "source": [
    "df = df.dropna()"
   ]
  },
  {
   "cell_type": "code",
   "execution_count": 38,
   "id": "7cb9bc03-4966-4c01-a7af-8b05a8b69c66",
   "metadata": {
    "tags": []
   },
   "outputs": [],
   "source": [
    "int24 = (2 ** 23 - 1)\n",
    "df -= df.mean(axis=0)\n",
    "df /= df.std(axis=0)\n",
    "df = np.clip(GAIN * df * int24, -int24, int24).astype('int32')"
   ]
  },
  {
   "cell_type": "code",
   "execution_count": 39,
   "id": "230de0f0-826f-4c95-a411-c39a299121ea",
   "metadata": {},
   "outputs": [
    {
     "data": {
      "image/png": "[encoded data removed]",
      "text/plain": [
       "<Figure size 900x400 with 3 Axes>"
      ]
     },
     "metadata": {},
     "output_type": "display_data"
    }
   ],
   "source": [
    "fig, axs = plt.subplots(3, 1, figsize=(9, 4))\n",
    "plt.suptitle(f'{DATE} HPC channel {CHANNEL} CSD bands (24-bit, 44.1 kHz)')\n",
    "\n",
    "for i, (band, x) in enumerate(df.items()):\n",
    "    plt.sca(axs[i])\n",
    "\n",
    "    # plt.plot(x)\n",
    "    plt.ylim([-int24, int24])\n",
    "    plt.yticks([]) \n",
    "    plt.xlim([START, END])\n",
    "    ylabel = {\n",
    "        'theta': f'{THETA_MIN}-{THETA_MAX} Hz',\n",
    "        'lgamma': f'{LGAMMA_MIN}-{LGAMMA_MAX} Hz',\n",
    "        'hgamma': f'{HGAMMA_MIN}-{HGAMMA_MAX} Hz',\n",
    "    }[band]\n",
    "    plt.ylabel(ylabel)\n",
    "    if i == len(df.columns) - 1:\n",
    "        plt.xlabel('Time (s)')\n",
    "    else:\n",
    "        plt.xticks([])\n",
    "\n",
    "plt.tight_layout()\n",
    "plt.savefig(f'{DATE}-hpc-channel-{CHANNEL}-time-{START}-{END}-csd-audio-cubic.png', dpi=300)\n",
    "plt.show()"
   ]
  },
  {
   "cell_type": "code",
   "execution_count": 40,
   "id": "00eef21c-7299-4cff-8ef1-a75d7967b3fe",
   "metadata": {
    "tags": []
   },
   "outputs": [],
   "source": [
    "import soundfile"
   ]
  },
  {
   "cell_type": "code",
   "execution_count": 42,
   "id": "3c5d8d38-4aff-4d16-b3b5-68d70cbabd97",
   "metadata": {
    "tags": []
   },
   "outputs": [],
   "source": [
    "for band in ['theta', 'lgamma', 'hgamma']:\n",
    "    stereo = np.stack([df[band], df[band]]).T\n",
    "    path = f'{DATE}-hpc-channel-{CHANNEL}-time-{START}-{END}-csd-{band}-cubic.wav'\n",
    "    soundfile.write(path, stereo, 44100, subtype='PCM_24')"
   ]
  },
  {
   "cell_type": "code",
   "execution_count": null,
   "id": "4fc3f4c0-a99a-4e0f-ac35-01e28db5bddc",
   "metadata": {},
   "outputs": [],
   "source": []
  }
 ],
 "metadata": {
  "kernelspec": {
   "display_name": "kfx",
   "language": "python",
   "name": "kfx"
  },
  "language_info": {
   "codemirror_mode": {
    "name": "ipython",
    "version": 3
   },
   "file_extension": ".py",
   "mimetype": "text/x-python",
   "name": "python",
   "nbconvert_exporter": "python",
   "pygments_lexer": "ipython3",
   "version": "3.10.10"
  },
  "toc-autonumbering": false,
  "toc-showcode": true,
  "toc-showmarkdowntxt": false,
  "toc-showtags": false
 },
 "nbformat": 4,
 "nbformat_minor": 5
}
