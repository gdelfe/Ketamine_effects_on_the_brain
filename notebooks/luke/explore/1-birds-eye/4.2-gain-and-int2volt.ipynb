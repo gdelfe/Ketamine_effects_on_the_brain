{
 "cells": [
  {
   "cell_type": "code",
   "execution_count": 1,
   "id": "1df7f298",
   "metadata": {},
   "outputs": [],
   "source": [
    "%load_ext autoreload"
   ]
  },
  {
   "cell_type": "code",
   "execution_count": 2,
   "id": "c3346596",
   "metadata": {},
   "outputs": [],
   "source": [
    "import os\n",
    "import pandas as pd\n",
    "from common import sessions, sessfile, load_metadata\n",
    "root = '/Users/lukearend/phd/kfx/data/mnt/Ketamine'"
   ]
  },
  {
   "cell_type": "code",
   "execution_count": 3,
   "id": "02ddbfa8",
   "metadata": {},
   "outputs": [
    {
     "name": "stderr",
     "output_type": "stream",
     "text": [
      "100%|███████████████████████████████████████████| 36/36 [00:01<00:00, 24.00it/s]\n",
      "100%|███████████████████████████████████████████| 36/36 [00:01<00:00, 19.89it/s]\n",
      "100%|███████████████████████████████████████████| 36/36 [00:01<00:00, 21.52it/s]\n",
      "100%|███████████████████████████████████████████| 36/36 [00:01<00:00, 23.54it/s]\n"
     ]
    }
   ],
   "source": [
    "from tqdm import tqdm\n",
    "\n",
    "metadata = {}\n",
    "missing = '/Users/lukearend/phd/kfx/ref/2022-08-08-04-05-00_M017_SAL_mPFC_HPC_0_0_0mpk_g0_t0.imec1.lf.meta'\n",
    "for region in ['hpc', 'pfc']:\n",
    "    metadata[region] = {}\n",
    "    for signal in ['lfp', 'ap']:\n",
    "        df = []\n",
    "        for i, sess in tqdm(sessions.iterrows(), total=36):\n",
    "            metafile = sessfile(sess.path, region, signal, 'meta')\n",
    "            path = os.path.join(root, metafile)\n",
    "            try:\n",
    "                md = pd.Series(load_metadata(path))\n",
    "            except FileNotFoundError:\n",
    "                md = pd.Series(load_metadata(missing))\n",
    "            df.append(md)\n",
    "        metadata[region][signal] = pd.DataFrame(df, index=sessions.index)"
   ]
  },
  {
   "cell_type": "code",
   "execution_count": 17,
   "id": "f238507f",
   "metadata": {},
   "outputs": [
    {
     "data": {
      "text/plain": [
       "{'pfc': {'lfp': (500, 125), 'ap': (500, 125)},\n",
       " 'hpc': {'lfp': (500, 125), 'ap': (500, 125)}}"
      ]
     },
     "execution_count": 17,
     "metadata": {},
     "output_type": "execute_result"
    }
   ],
   "source": [
    "gain = {}\n",
    "for region in ['pfc', 'hpc']:\n",
    "    gain[region] = {}\n",
    "    for signal in ['lfp', 'ap']:\n",
    "        md = metadata[region][signal].loc[0]\n",
    "        gains = md.imroTbl.strip('()').split(')(')[1]\n",
    "        gains = [int(i) for i in gains.split(' ')]\n",
    "        ap, lf = gains[3], gains[4]\n",
    "        gain[region][signal] = (ap, lf)\n",
    "gain"
   ]
  },
  {
   "cell_type": "code",
   "execution_count": 19,
   "id": "b84c3290",
   "metadata": {},
   "outputs": [
    {
     "data": {
      "text/plain": [
       "{'pfc': {'lfp': 0.001171875, 'ap': 0.001171875},\n",
       " 'hpc': {'lfp': 0.001171875, 'ap': 0.001171875}}"
      ]
     },
     "execution_count": 19,
     "metadata": {},
     "output_type": "execute_result"
    }
   ],
   "source": [
    "int2volt = {}\n",
    "for region in ['pfc', 'hpc']:\n",
    "    int2volt[region] = {}\n",
    "    for signal in ['lfp', 'ap']:\n",
    "        md = metadata[region][signal].loc[0]\n",
    "        i2v = float(md['imAiRangeMax']) / int(md.get('imMaxInt', 512))\n",
    "        int2volt[region][signal] = i2v\n",
    "int2volt"
   ]
  },
  {
   "cell_type": "code",
   "execution_count": 22,
   "id": "a25ce86d",
   "metadata": {},
   "outputs": [
    {
     "data": {
      "text/plain": [
       "{'pfc': {'lfp': '385', 'ap': '385'}, 'hpc': {'lfp': '385', 'ap': '385'}}"
      ]
     },
     "execution_count": 22,
     "metadata": {},
     "output_type": "execute_result"
    }
   ],
   "source": [
    "savedchans = {}\n",
    "for region in ['pfc', 'hpc']:\n",
    "    savedchans[region] = {}\n",
    "    for signal in ['lfp', 'ap']:\n",
    "        md = metadata[region][signal].loc[0]\n",
    "        savedchans[region][signal] = md['nSavedChans']\n",
    "savedchans"
   ]
  },
  {
   "cell_type": "code",
   "execution_count": 32,
   "id": "1456bad5",
   "metadata": {},
   "outputs": [
    {
     "data": {
      "text/html": [
       "<div>\n",
       "<style scoped>\n",
       "    .dataframe tbody tr th:only-of-type {\n",
       "        vertical-align: middle;\n",
       "    }\n",
       "\n",
       "    .dataframe tbody tr th {\n",
       "        vertical-align: top;\n",
       "    }\n",
       "\n",
       "    .dataframe thead th {\n",
       "        text-align: right;\n",
       "    }\n",
       "</style>\n",
       "<table border=\"1\" class=\"dataframe\">\n",
       "  <thead>\n",
       "    <tr style=\"text-align: right;\">\n",
       "      <th></th>\n",
       "      <th>indiv</th>\n",
       "      <th>date</th>\n",
       "      <th>drug</th>\n",
       "      <th>doses</th>\n",
       "      <th>fileCreateTime</th>\n",
       "      <th>fileSizeBytes</th>\n",
       "      <th>fileTimeSecs</th>\n",
       "      <th>firstSample</th>\n",
       "    </tr>\n",
       "    <tr>\n",
       "      <th>recording</th>\n",
       "      <th></th>\n",
       "      <th></th>\n",
       "      <th></th>\n",
       "      <th></th>\n",
       "      <th></th>\n",
       "      <th></th>\n",
       "      <th></th>\n",
       "      <th></th>\n",
       "    </tr>\n",
       "  </thead>\n",
       "  <tbody>\n",
       "    <tr>\n",
       "      <th>0</th>\n",
       "      <td>M015</td>\n",
       "      <td>2022-07-27</td>\n",
       "      <td>SAL</td>\n",
       "      <td>(0, 0, 0)</td>\n",
       "      <td>2022-07-27T19:41:37</td>\n",
       "      <td>167613398260</td>\n",
       "      <td>7255.991266666667</td>\n",
       "      <td>8342038</td>\n",
       "    </tr>\n",
       "    <tr>\n",
       "      <th>1</th>\n",
       "      <td>M016</td>\n",
       "      <td>2022-07-28</td>\n",
       "      <td>SAL</td>\n",
       "      <td>(0, 0, 0)</td>\n",
       "      <td>2022-07-28T13:19:08</td>\n",
       "      <td>172464739370</td>\n",
       "      <td>7466.006033333333</td>\n",
       "      <td>2005727</td>\n",
       "    </tr>\n",
       "    <tr>\n",
       "      <th>2</th>\n",
       "      <td>M015</td>\n",
       "      <td>2022-08-01</td>\n",
       "      <td>RSK</td>\n",
       "      <td>(3, 10, 30)</td>\n",
       "      <td>2022-08-01T16:30:01</td>\n",
       "      <td>168066949820</td>\n",
       "      <td>7275.625533333333</td>\n",
       "      <td>3368714</td>\n",
       "    </tr>\n",
       "    <tr>\n",
       "      <th>3</th>\n",
       "      <td>M015</td>\n",
       "      <td>2022-08-03</td>\n",
       "      <td>RSK</td>\n",
       "      <td>(3, 10, 30)</td>\n",
       "      <td>2022-08-03T12:45:02</td>\n",
       "      <td>167609776180</td>\n",
       "      <td>7255.834466666666</td>\n",
       "      <td>1157254</td>\n",
       "    </tr>\n",
       "    <tr>\n",
       "      <th>4</th>\n",
       "      <td>M016</td>\n",
       "      <td>2022-08-04</td>\n",
       "      <td>RSK</td>\n",
       "      <td>(3, 10, 30)</td>\n",
       "      <td>2022-08-04T15:45:22</td>\n",
       "      <td>167712443360</td>\n",
       "      <td>7260.278933333333</td>\n",
       "      <td>1293164</td>\n",
       "    </tr>\n",
       "  </tbody>\n",
       "</table>\n",
       "</div>"
      ],
      "text/plain": [
       "          indiv        date drug        doses       fileCreateTime  \\\n",
       "recording                                                            \n",
       "0          M015  2022-07-27  SAL    (0, 0, 0)  2022-07-27T19:41:37   \n",
       "1          M016  2022-07-28  SAL    (0, 0, 0)  2022-07-28T13:19:08   \n",
       "2          M015  2022-08-01  RSK  (3, 10, 30)  2022-08-01T16:30:01   \n",
       "3          M015  2022-08-03  RSK  (3, 10, 30)  2022-08-03T12:45:02   \n",
       "4          M016  2022-08-04  RSK  (3, 10, 30)  2022-08-04T15:45:22   \n",
       "\n",
       "          fileSizeBytes       fileTimeSecs firstSample  \n",
       "recording                                               \n",
       "0          167613398260  7255.991266666667     8342038  \n",
       "1          172464739370  7466.006033333333     2005727  \n",
       "2          168066949820  7275.625533333333     3368714  \n",
       "3          167609776180  7255.834466666666     1157254  \n",
       "4          167712443360  7260.278933333333     1293164  "
      ]
     },
     "execution_count": 32,
     "metadata": {},
     "output_type": "execute_result"
    }
   ],
   "source": [
    "df1 = sessions.drop(columns='path')\n",
    "df2 = df.drop(columns=params.index)\n",
    "df1.merge(df2, left_index=True, right_index=True).head()"
   ]
  },
  {
   "cell_type": "code",
   "execution_count": 39,
   "id": "37101429",
   "metadata": {},
   "outputs": [],
   "source": [
    "path = session_files(sessions.loc[0].path)['hpc']['lfp'].replace('.bin', '.meta')\n",
    "md = load_metadata(f'{root}/{path}')"
   ]
  },
  {
   "cell_type": "code",
   "execution_count": 41,
   "id": "be86948d",
   "metadata": {},
   "outputs": [],
   "source": [
    "# get the signal sampling rate in Hz\n",
    "samplerate = float(md['imSampRate'])"
   ]
  },
  {
   "cell_type": "code",
   "execution_count": 42,
   "id": "aa8c3ec1",
   "metadata": {},
   "outputs": [
    {
     "data": {
      "text/plain": [
       "30000.0"
      ]
     },
     "execution_count": 42,
     "metadata": {},
     "output_type": "execute_result"
    }
   ],
   "source": [
    "samplerate"
   ]
  },
  {
   "cell_type": "code",
   "execution_count": 43,
   "id": "baf71fbc",
   "metadata": {},
   "outputs": [],
   "source": [
    "# get a number that converts from raw 16-bit memory map values to volts (pre-gain correction)\n",
    "int2volt = float(md['imAiRangeMax']) / int(md.get('imMaxInt', 512))"
   ]
  },
  {
   "cell_type": "code",
   "execution_count": 44,
   "id": "3c9df2b0",
   "metadata": {},
   "outputs": [
    {
     "data": {
      "text/plain": [
       "0.001171875"
      ]
     },
     "execution_count": 44,
     "metadata": {},
     "output_type": "execute_result"
    }
   ],
   "source": [
    "int2volt"
   ]
  }
 ],
 "metadata": {
  "kernelspec": {
   "display_name": "Python 3",
   "language": "python",
   "name": "python3"
  },
  "language_info": {
   "codemirror_mode": {
    "name": "ipython",
    "version": 3
   },
   "file_extension": ".py",
   "mimetype": "text/x-python",
   "name": "python",
   "nbconvert_exporter": "python",
   "pygments_lexer": "ipython3",
   "version": "3.10.6"
  }
 },
 "nbformat": 4,
 "nbformat_minor": 5
}
