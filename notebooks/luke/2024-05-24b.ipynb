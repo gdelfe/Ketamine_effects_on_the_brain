{
 "cells": [
  {
   "cell_type": "markdown",
   "id": "35d70348-ccc7-43b9-a765-cc87837fa8ff",
   "metadata": {},
   "source": [
    "# Dimensions of the CSD computation"
   ]
  },
  {
   "cell_type": "code",
   "execution_count": 1,
   "id": "0c7070ea-d231-43d1-9aea-b15e259fbabf",
   "metadata": {
    "tags": []
   },
   "outputs": [],
   "source": [
    "import json\n",
    "import time\n",
    "import pandas as pd\n",
    "import src.paths\n",
    "from src.data import load_ephys\n",
    "from src.lfp import remove_dc_offset, combine_neighbors, decimate_by_2\n",
    "from src.lfp import bandpass_1_300Hz, notch_60Hz, compute_csd"
   ]
  },
  {
   "cell_type": "code",
   "execution_count": 2,
   "id": "324cfd84-92bd-448a-abdb-c598d2105f17",
   "metadata": {
    "tags": []
   },
   "outputs": [],
   "source": [
    "date = '2022-07-27'\n",
    "region = 'hpc'"
   ]
  },
  {
   "cell_type": "code",
   "execution_count": 3,
   "id": "47eda664-9ce8-4b1b-9032-5e909d22ddfb",
   "metadata": {
    "tags": []
   },
   "outputs": [],
   "source": [
    "with open(src.paths.REF / 'date_recoffset.json', 'r') as f:\n",
    "    offsets = json.load(f)"
   ]
  },
  {
   "cell_type": "code",
   "execution_count": 4,
   "id": "245685bc-676f-495d-a650-9166e7559e0f",
   "metadata": {
    "tags": []
   },
   "outputs": [],
   "source": [
    "path = '/mnt/home/larend/kfx/data/ephys/hpc/lf/2022-07-27-07-41-00_M015_SAL_PFC_HPC_0_0_0mpk_g0_t0.imec1.lf.bin'"
   ]
  },
  {
   "cell_type": "code",
   "execution_count": 5,
   "id": "b65b51a7-2ec9-4158-b51c-dd5f5ac74140",
   "metadata": {
    "tags": []
   },
   "outputs": [],
   "source": [
    "lfpstart, lfpend = offsets[date]\n",
    "duration = (lfpend - lfpstart) / 2500 / 60"
   ]
  },
  {
   "cell_type": "code",
   "execution_count": 6,
   "id": "37091731-9672-487f-afb4-28a47f5c97c3",
   "metadata": {
    "tags": []
   },
   "outputs": [
    {
     "name": "stdout",
     "output_type": "stream",
     "text": [
      "date: 2022-07-27\n",
      "reading path: /mnt/home/larend/kfx/data/ephys/hpc/lf/2022-07-27-07-41-00_M015_SAL_PFC_HPC_0_0_0mpk_g0_t0.imec1.lf.bin\n",
      "lfpstart, lfpend: 24077 18029080\n",
      "duration: 120.03335333333332 min\n"
     ]
    }
   ],
   "source": [
    "print(f'date: {date}')\n",
    "print(f'reading path: {path}')\n",
    "print(f'lfpstart, lfpend:', lfpstart, lfpend)\n",
    "print(f'duration: {duration} min')"
   ]
  },
  {
   "cell_type": "code",
   "execution_count": 7,
   "id": "16e6100d-50bb-42cf-8e10-fd6ec7346260",
   "metadata": {
    "tags": []
   },
   "outputs": [
    {
     "name": "stdout",
     "output_type": "stream",
     "text": [
      "# batches: 121\n"
     ]
    }
   ],
   "source": [
    "intervals = []\n",
    "startmin = 0\n",
    "while True:\n",
    "    endmin = min(startmin + 1, duration)\n",
    "    intervals.append((startmin, endmin))\n",
    "    if endmin == duration:\n",
    "        break\n",
    "    startmin = endmin\n",
    "print(f'# batches:', len(intervals))"
   ]
  },
  {
   "cell_type": "code",
   "execution_count": 8,
   "id": "10a9ccde-7331-418e-b22f-e27372a70c18",
   "metadata": {
    "tags": []
   },
   "outputs": [
    {
     "data": {
      "text/plain": [
       "(20, 21)"
      ]
     },
     "execution_count": 8,
     "metadata": {},
     "output_type": "execute_result"
    }
   ],
   "source": [
    "intervals[20]"
   ]
  },
  {
   "cell_type": "code",
   "execution_count": 9,
   "id": "a04ad97a-ca2a-4eea-a8f0-a89cbce5363f",
   "metadata": {
    "tags": []
   },
   "outputs": [],
   "source": [
    "start, end = 20, 21\n",
    "raw = load_ephys(path, startmin=start, endmin=end, offset=lfpstart, cleaned=True)\n",
    "X = raw.values"
   ]
  },
  {
   "cell_type": "code",
   "execution_count": 10,
   "id": "d690664a-eeaa-4c28-950f-ee61dbc339d9",
   "metadata": {
    "tags": []
   },
   "outputs": [],
   "source": [
    "X = remove_dc_offset(X)\n",
    "X = combine_neighbors(X)\n",
    "X = bandpass_1_300Hz(X)\n",
    "X = notch_60Hz(X)\n",
    "X = decimate_by_2(X)"
   ]
  },
  {
   "cell_type": "code",
   "execution_count": 11,
   "id": "c82f0b44-e261-4a87-b8bf-41cafa7021f6",
   "metadata": {
    "tags": []
   },
   "outputs": [],
   "source": [
    "import quantities as pq\n",
    "from src.icsd import SplineiCSD"
   ]
  },
  {
   "cell_type": "code",
   "execution_count": 12,
   "id": "2e1adc4b-2237-453d-bd7e-56c83b3fdc61",
   "metadata": {
    "tags": []
   },
   "outputs": [],
   "source": [
    "h = 20 * 1e-6 * pq.m             # inter-electrode spacing [m]\n",
    "d = 0.5 * 1e-3 * pq.m            # electrode diameter [m]\n",
    "sigma = 0.3 * pq.S / pq.m        # intracellular medium conductivity [S/m]\n",
    "sigma_top = 0.3 * pq.S / pq.m    # cortical surface conductivity [S/m]\n",
    "z = np.arange(X.shape[1]) * h    # electrode coordinates [m]\n",
    "X = X.T * pq.V                   # recorded potential [V]\n",
    "estimator = SplineiCSD(\n",
    "    X, coord_electrode=z, diam=d, sigma=sigma, sigma_top=sigma_top,\n",
    "    tol=1e-12, f_type='gaussian', f_order=(20, 5), num_steps=len(z)\n",
    ")\n",
    "csd = estimator.get_csd()\n",
    "csd = estimator.filter_csd(csd)  # apply spatial smoothing\n",
    "csd = csd.T"
   ]
  },
  {
   "cell_type": "code",
   "execution_count": 13,
   "id": "8319a630-c494-49bd-9018-de6982235524",
   "metadata": {
    "tags": []
   },
   "outputs": [
    {
     "data": {
      "text/plain": [
       "(75000, 192)"
      ]
     },
     "execution_count": 13,
     "metadata": {},
     "output_type": "execute_result"
    }
   ],
   "source": [
    "csd.shape"
   ]
  },
  {
   "cell_type": "code",
   "execution_count": 17,
   "id": "754cc724-9366-4c18-a987-7721c42718e7",
   "metadata": {
    "tags": []
   },
   "outputs": [
    {
     "data": {
      "text/plain": [
       "Dimensionality({meter: -3, ampere: 1})"
      ]
     },
     "execution_count": 17,
     "metadata": {},
     "output_type": "execute_result"
    }
   ],
   "source": [
    "csd.dimensionality"
   ]
  },
  {
   "cell_type": "code",
   "execution_count": 20,
   "id": "39d63442-57c9-4991-af25-2307bc8595b5",
   "metadata": {},
   "outputs": [
    {
     "data": {
      "text/plain": [
       "{'_dimensionality': Dimensionality({meter: -3, ampere: 1})}"
      ]
     },
     "execution_count": 20,
     "metadata": {},
     "output_type": "execute_result"
    }
   ],
   "source": [
    "csd.__dict__"
   ]
  },
  {
   "cell_type": "code",
   "execution_count": null,
   "id": "9ba309eb-b915-4135-a1ee-c63d225d5018",
   "metadata": {},
   "outputs": [],
   "source": []
  }
 ],
 "metadata": {
  "kernelspec": {
   "display_name": "kfx",
   "language": "python",
   "name": "kfx"
  },
  "language_info": {
   "codemirror_mode": {
    "name": "ipython",
    "version": 3
   },
   "file_extension": ".py",
   "mimetype": "text/x-python",
   "name": "python",
   "nbconvert_exporter": "python",
   "pygments_lexer": "ipython3",
   "version": "3.10.10"
  }
 },
 "nbformat": 4,
 "nbformat_minor": 5
}
