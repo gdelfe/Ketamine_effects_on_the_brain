{
 "cells": [
  {
   "cell_type": "code",
   "execution_count": 1,
   "id": "7c50b241",
   "metadata": {},
   "outputs": [],
   "source": [
    "import pandas as pd"
   ]
  },
  {
   "cell_type": "code",
   "execution_count": 4,
   "id": "91bc77c2",
   "metadata": {},
   "outputs": [],
   "source": [
    "df = pd.read_csv(f'{root}/ref/recid_CA1_DG_id_modified.csv', index_col=1)"
   ]
  },
  {
   "cell_type": "code",
   "execution_count": 5,
   "id": "40341a1e",
   "metadata": {},
   "outputs": [
    {
     "data": {
      "text/plain": [
       "rec_id\n",
       "0                              NaN\n",
       "1                              NaN\n",
       "2                              NaN\n",
       "3                              NaN\n",
       "4                              NaN\n",
       "5                              NaN\n",
       "6                              NaN\n",
       "7     CA1 and DG/CA3 seem inverted\n",
       "8                              NaN\n",
       "9                              NaN\n",
       "10                             NaN\n",
       "11                             NaN\n",
       "12                             NaN\n",
       "13                             NaN\n",
       "14                             NaN\n",
       "15                             NaN\n",
       "16                             NaN\n",
       "17                       short HPC\n",
       "18                             NaN\n",
       "19                             NaN\n",
       "20                             NaN\n",
       "21                             NaN\n",
       "22                             NaN\n",
       "23                             NaN\n",
       "24                             NaN\n",
       "25                             NaN\n",
       "26                             NaN\n",
       "27                          no DG?\n",
       "28                             NaN\n",
       "29                   weird ripples\n",
       "30        Ca1 and DG seem inverted\n",
       "31                             NaN\n",
       "32                             NaN\n",
       "33                             NaN\n",
       "34                   weird ripples\n",
       "35        Ca1 and DG seem inverted\n",
       "Name: notes, dtype: object"
      ]
     },
     "execution_count": 5,
     "metadata": {},
     "output_type": "execute_result"
    }
   ],
   "source": [
    "df.notes"
   ]
  },
  {
   "cell_type": "code",
   "execution_count": null,
   "id": "2d478792",
   "metadata": {},
   "outputs": [],
   "source": []
  }
 ],
 "metadata": {
  "kernelspec": {
   "display_name": "Python 3",
   "language": "python",
   "name": "python3"
  },
  "language_info": {
   "codemirror_mode": {
    "name": "ipython",
    "version": 3
   },
   "file_extension": ".py",
   "mimetype": "text/x-python",
   "name": "python",
   "nbconvert_exporter": "python",
   "pygments_lexer": "ipython3",
   "version": "3.10.6"
  }
 },
 "nbformat": 4,
 "nbformat_minor": 5
}
