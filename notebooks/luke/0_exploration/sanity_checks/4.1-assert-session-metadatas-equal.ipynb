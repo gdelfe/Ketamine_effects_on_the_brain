{
 "cells": [
  {
   "cell_type": "code",
   "execution_count": 8,
   "id": "bfeab2a4",
   "metadata": {},
   "outputs": [
    {
     "name": "stdout",
     "output_type": "stream",
     "text": [
      "The autoreload extension is already loaded. To reload it, use:\n",
      "  %reload_ext autoreload\n"
     ]
    }
   ],
   "source": [
    "%load_ext autoreload"
   ]
  },
  {
   "cell_type": "code",
   "execution_count": 9,
   "id": "2306332c",
   "metadata": {},
   "outputs": [],
   "source": [
    "import os\n",
    "import pandas as pd\n",
    "import numpy as np\n",
    "from common import sessions, sessfile, load_metadata\n",
    "root = '/Users/lukearend/phd/kfx/data/mnt/Ketamine'"
   ]
  },
  {
   "cell_type": "code",
   "execution_count": 13,
   "id": "2f9fdbd7",
   "metadata": {},
   "outputs": [
    {
     "name": "stderr",
     "output_type": "stream",
     "text": [
      "100%|███████████████████████████████████████████| 36/36 [00:01<00:00, 27.18it/s]\n",
      "100%|███████████████████████████████████████████| 36/36 [00:01<00:00, 25.51it/s]\n",
      "100%|███████████████████████████████████████████| 36/36 [00:01<00:00, 24.68it/s]\n",
      "100%|███████████████████████████████████████████| 36/36 [00:01<00:00, 25.66it/s]\n"
     ]
    }
   ],
   "source": [
    "from tqdm import tqdm\n",
    "\n",
    "missing = '/Users/lukearend/phd/kfx/ref/2022-08-08-04-05-00_M017_SAL_mPFC_HPC_0_0_0mpk_g0_t0.imec1.lf.meta'\n",
    "for region in ['hpc', 'pfc']:\n",
    "    for signal in ['lfp', 'ap']:\n",
    "        df = []\n",
    "        for i, sess in tqdm(sessions.iterrows(), total=36):\n",
    "            metafile = sessfile(sess.path, region, signal, 'meta')\n",
    "            path = os.path.join(root, metafile)\n",
    "            try:\n",
    "                md = pd.Series(load_metadata(path))\n",
    "            except FileNotFoundError:\n",
    "                md = pd.Series(load_metadata(missing))\n",
    "            md = md[[\n",
    "                'acqApLfSy', 'fileCreateTime', 'fileSizeBytes', 'fileTimeSecs', 'firstSample',\n",
    "                'gateMode', 'imAiRangeMax', 'imAiRangeMin', 'imCalibrated', 'imLEDEnable',\n",
    "                'imMaxInt', 'imSampRate', 'nSavedChans', 'snsApLfSy', 'snsSaveChanSubset',\n",
    "                'userNotes', 'imroTbl', 'snsChanMap',\n",
    "            ]]\n",
    "            df.append(md)\n",
    "        df = pd.DataFrame(df, index=sessions.index)\n",
    "        assert np.all([np.all(params.loc[0] == params.loc[i]) for i in range(len(params))])"
   ]
  },
  {
   "cell_type": "code",
   "execution_count": null,
   "id": "1c51511f",
   "metadata": {},
   "outputs": [],
   "source": []
  }
 ],
 "metadata": {
  "kernelspec": {
   "display_name": "Python 3",
   "language": "python",
   "name": "python3"
  },
  "language_info": {
   "codemirror_mode": {
    "name": "ipython",
    "version": 3
   },
   "file_extension": ".py",
   "mimetype": "text/x-python",
   "name": "python",
   "nbconvert_exporter": "python",
   "pygments_lexer": "ipython3",
   "version": "3.10.6"
  }
 },
 "nbformat": 4,
 "nbformat_minor": 5
}
