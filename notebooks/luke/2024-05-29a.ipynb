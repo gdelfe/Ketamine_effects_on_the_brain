{
 "cells": [
  {
   "cell_type": "markdown",
   "id": "2d173f98-d4bf-4b09-8261-7a37717b9e70",
   "metadata": {},
   "source": [
    "# Use this for spike phase histogram plotting code"
   ]
  },
  {
   "cell_type": "markdown",
   "id": "ab01c198-8678-44cd-94a0-cc2272b04322",
   "metadata": {},
   "source": [
    "definitions"
   ]
  },
  {
   "cell_type": "code",
   "execution_count": 1,
   "id": "129e8c51-2c4b-4326-9c1d-ef232b36dce0",
   "metadata": {
    "tags": []
   },
   "outputs": [],
   "source": [
    "import src.paths\n",
    "from src.csd import wavelet_transform, resample_1250_250_Hz"
   ]
  },
  {
   "cell_type": "code",
   "execution_count": 54,
   "id": "07ee8de4-c0a0-4231-9907-0fa5d0ec1f34",
   "metadata": {
    "tags": []
   },
   "outputs": [],
   "source": [
    "def spike_phase_hist(hist, ax=None, ticks=True, tickstride=5):\n",
    "    if ax is not None:\n",
    "        plt.sca(ax)\n",
    "    plt.imshow(hist.values, interpolation='none')\n",
    "    plt.axis('auto')\n",
    "    if not ticks:\n",
    "        return\n",
    "    freqtick = range(len(hist.columns))[::tickstride]\n",
    "    freqlabel = np.round(hist.columns, 1)[::tickstride]\n",
    "    phasetick = np.arange(5) / 4 * (hist.shape[0] - 1)\n",
    "    phaselabel = ['$-\\pi$', '$-\\pi/2$', 0, '$\\pi/2$', '$-\\pi$']\n",
    "    plt.xticks(freqtick, freqlabel)\n",
    "    plt.yticks(phasetick, phaselabel)\n",
    "    return plt.gcf()"
   ]
  },
  {
   "cell_type": "code",
   "execution_count": 34,
   "id": "8c9969e7-3bf9-4266-abfa-15435e5b55c2",
   "metadata": {
    "tags": []
   },
   "outputs": [],
   "source": [
    "ANIMAL = 'M023'\n",
    "DATE = '2022-09-16'\n",
    "EPOCH = 0\n",
    "CHANNEL = 39\n",
    "FREQ_MIN = 4\n",
    "FREQ_MAX = 80\n",
    "FREQ_BINS = 40\n",
    "PHASE_BINS = 40\n",
    "LOG_FREQS = True"
   ]
  },
  {
   "cell_type": "code",
   "execution_count": 35,
   "id": "adb91b74-d7db-4b88-b35d-157c17332db6",
   "metadata": {
    "tags": []
   },
   "outputs": [],
   "source": [
    "FRAME_1250 = 1 / 1250\n",
    "FRAME_250 = 1 / 250\n",
    "START = (30 * EPOCH + 5) * 60\n",
    "END = (30 * EPOCH + 25) * 60"
   ]
  },
  {
   "cell_type": "markdown",
   "id": "2dbf1c0c-dea2-4fdb-a9e3-65a70c7ae064",
   "metadata": {},
   "source": [
    "load and transform"
   ]
  },
  {
   "cell_type": "code",
   "execution_count": 4,
   "id": "2f4415f8-ee21-4d9a-9459-d68a0e63f37a",
   "metadata": {
    "tags": []
   },
   "outputs": [
    {
     "name": "stdout",
     "output_type": "stream",
     "text": [
      "CPU times: user 7.09 ms, sys: 6.09 s, total: 6.09 s\n",
      "Wall time: 7 s\n"
     ]
    }
   ],
   "source": [
    "%%time\n",
    "csd = pd.read_pickle(src.paths.DATA / DATE / f'{DATE}-hpc-csd.pkl')\n",
    "csd = csd.loc[START:END - FRAME_1250, CHANNEL]"
   ]
  },
  {
   "cell_type": "code",
   "execution_count": 36,
   "id": "9018cb10-a314-4d5b-95c0-829d9ffdd359",
   "metadata": {
    "tags": []
   },
   "outputs": [
    {
     "name": "stdout",
     "output_type": "stream",
     "text": [
      "CPU times: user 32.7 s, sys: 649 ms, total: 33.4 s\n",
      "Wall time: 33.4 s\n"
     ]
    }
   ],
   "source": [
    "%%time\n",
    "hilb = wavelet_transform(csd, freq_min=FREQ_MIN, freq_max=FREQ_MAX, freq_bins=FREQ_BINS, log=LOG_FREQS)\n",
    "hilb = resample_1250_250_Hz(hilb)"
   ]
  },
  {
   "cell_type": "code",
   "execution_count": 37,
   "id": "d785469a-531c-4afe-89bd-b9b5204d0cfa",
   "metadata": {
    "tags": []
   },
   "outputs": [],
   "source": [
    "phase = np.angle(hilb.values)\n",
    "phase = pd.DataFrame(phase, index=hilb.index, columns=hilb.columns)"
   ]
  },
  {
   "cell_type": "code",
   "execution_count": 38,
   "id": "32886343-04e6-4615-a9fa-b0ddefba3689",
   "metadata": {
    "tags": []
   },
   "outputs": [
    {
     "name": "stdout",
     "output_type": "stream",
     "text": [
      "CPU times: user 10 ms, sys: 552 ms, total: 562 ms\n",
      "Wall time: 563 ms\n"
     ]
    }
   ],
   "source": [
    "%%time\n",
    "spk = pd.read_pickle(src.paths.DATA / DATE / f'{DATE}-hpc-spikes.pkl')\n",
    "spk = spk.loc[START:END - FRAME_250]\n",
    "spk.columns = spk.columns.droplevel('channel')"
   ]
  },
  {
   "cell_type": "markdown",
   "id": "d490b978-16e9-43e8-abb3-312112a7ddd5",
   "metadata": {
    "tags": []
   },
   "source": [
    "spike phase analysis"
   ]
  },
  {
   "cell_type": "code",
   "execution_count": 39,
   "id": "f97ea390-4998-4513-b61c-dd5cbddfbfee",
   "metadata": {
    "tags": []
   },
   "outputs": [],
   "source": [
    "units = spk.columns\n",
    "freqs = phase.columns\n",
    "phase_bins = np.linspace(-np.pi, np.pi, PHASE_BINS + 1)\n",
    "phases = pd.Series(phase_bins[:-1], name='phase')"
   ]
  },
  {
   "cell_type": "code",
   "execution_count": 45,
   "id": "c0b5146e-4bb9-4c66-9b41-6b32c17f19f4",
   "metadata": {
    "tags": []
   },
   "outputs": [
    {
     "name": "stdout",
     "output_type": "stream",
     "text": [
      "CPU times: user 982 ms, sys: 10.8 ms, total: 993 ms\n",
      "Wall time: 992 ms\n"
     ]
    }
   ],
   "source": [
    "%%time\n",
    "spk_hist = {}\n",
    "for unit in units:\n",
    "    spk_train = spk[unit].astype('bool')\n",
    "    spk_phase = phase[spk_train]\n",
    "    hist = {}\n",
    "    for freq in freqs:\n",
    "        count, _ = np.histogram(spk_phase[freq], phase_bins)\n",
    "        hist[freq] = count\n",
    "    spk_hist[unit] = pd.DataFrame(hist, index=phases, columns=freqs)"
   ]
  },
  {
   "cell_type": "markdown",
   "id": "62c620cb-e96b-49c8-85ae-5be9148d45b0",
   "metadata": {},
   "source": [
    "# Tail"
   ]
  },
  {
   "cell_type": "code",
   "execution_count": 44,
   "id": "e19ad36a-fdd5-4032-8a8e-f088488787b9",
   "metadata": {
    "tags": []
   },
   "outputs": [],
   "source": [
    "UNIT = 380"
   ]
  },
  {
   "cell_type": "code",
   "execution_count": 60,
   "id": "c1c08446-c6ac-416e-8e38-f4d1dbf110a9",
   "metadata": {
    "tags": []
   },
   "outputs": [
    {
     "data": {
      "image/png": "[encoded data removed]",
      "text/plain": [
       "<Figure size 500x400 with 2 Axes>"
      ]
     },
     "metadata": {},
     "output_type": "display_data"
    }
   ],
   "source": [
    "plt.figure(figsize=(5, 4))\n",
    "spike_phase_hist(spk_hist[UNIT])\n",
    "plt.title(f'{DATE} channel {CHANNEL} unit {UNIT} time {START}:{END} s')\n",
    "plt.xlabel('CSD frequency (Hz)')\n",
    "plt.ylabel('CSD phase (rad)')\n",
    "plt.colorbar(label='Spike count')\n",
    "plt.title(f'Unit {UNIT} spikes and channel {CHANNEL} CSD, epoch {EPOCH}')\n",
    "plt.savefig(f'{DATE}-phase-spike-hist-channel-{CHANNEL}-unit-{UNIT}-epoch-{EPOCH}', dpi=300)\n",
    "plt.show()"
   ]
  },
  {
   "cell_type": "code",
   "execution_count": null,
   "id": "c8454351-29a8-4706-8f60-96abb86b17a5",
   "metadata": {},
   "outputs": [],
   "source": []
  }
 ],
 "metadata": {
  "kernelspec": {
   "display_name": "kfx",
   "language": "python",
   "name": "kfx"
  },
  "language_info": {
   "codemirror_mode": {
    "name": "ipython",
    "version": 3
   },
   "file_extension": ".py",
   "mimetype": "text/x-python",
   "name": "python",
   "nbconvert_exporter": "python",
   "pygments_lexer": "ipython3",
   "version": "3.10.10"
  },
  "toc-showcode": true,
  "toc-showmarkdowntxt": true
 },
 "nbformat": 4,
 "nbformat_minor": 5
}
