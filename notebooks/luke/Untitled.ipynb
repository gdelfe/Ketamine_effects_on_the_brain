{
 "cells": [
  {
   "cell_type": "code",
   "execution_count": 1,
   "id": "526ee1e6-5ffc-430e-91e0-54711469b3e1",
   "metadata": {
    "tags": []
   },
   "outputs": [],
   "source": [
    "import src.paths"
   ]
  },
  {
   "cell_type": "code",
   "execution_count": 2,
   "id": "8ba14532-633e-49c2-a150-e6c3817885ee",
   "metadata": {
    "tags": []
   },
   "outputs": [],
   "source": [
    "date = '2022-09-16'"
   ]
  },
  {
   "cell_type": "code",
   "execution_count": 3,
   "id": "462737fa-99b3-469d-9b89-4ffe7a2a9167",
   "metadata": {
    "tags": []
   },
   "outputs": [
    {
     "name": "stdout",
     "output_type": "stream",
     "text": [
      "CPU times: user 300 µs, sys: 633 ms, total: 633 ms\n",
      "Wall time: 17.9 s\n"
     ]
    }
   ],
   "source": [
    "%%time\n",
    "spikes_raw = pd.read_pickle(src.paths.DATA / date / f'{date}-hpc-spikes.pkl')"
   ]
  },
  {
   "cell_type": "code",
   "execution_count": 4,
   "id": "4eea7d4d-0861-4325-bd5b-f0f6ea3c506d",
   "metadata": {
    "tags": []
   },
   "outputs": [
    {
     "name": "stdout",
     "output_type": "stream",
     "text": [
      "CPU times: user 62.9 ms, sys: 2.71 s, total: 2.77 s\n",
      "Wall time: 1min 37s\n"
     ]
    }
   ],
   "source": [
    "%%time\n",
    "csd_raw = pd.read_pickle(src.paths.DATA / date / f'{date}-hpc-csd.pkl')"
   ]
  },
  {
   "cell_type": "code",
   "execution_count": 6,
   "id": "9c12cfc5-0818-4fc3-81d8-8114da65eb30",
   "metadata": {
    "tags": []
   },
   "outputs": [],
   "source": [
    "spikes = spikes_raw.loc[start:end - 1 / 250, 160:163]\n",
    "csd = csd_raw.loc[start:end - 1 / 1250, 40]"
   ]
  },
  {
   "cell_type": "code",
   "execution_count": 5,
   "id": "4266943a-6e0a-45ae-8800-545ed03ac1da",
   "metadata": {
    "tags": []
   },
   "outputs": [],
   "source": [
    "start = 300 # start time in seconds\n",
    "end = 1500  # end time in seconds\n",
    "Q = 4\n",
    "w0 = 8"
   ]
  },
  {
   "cell_type": "code",
   "execution_count": null,
   "id": "ff5a3498-d7a4-4a11-aefb-a9b9c6c46364",
   "metadata": {},
   "outputs": [],
   "source": [
    "x = csd.values * 0.001\n",
    "b, a = scipy.signal.iirnotch(w0, Q, fs=1250)\n",
    "y = x - scipy.signal.filtfilt(b, a, x, axis=0)\n",
    "l.append(y)"
   ]
  }
 ],
 "metadata": {
  "kernelspec": {
   "display_name": "kfx",
   "language": "python",
   "name": "kfx"
  },
  "language_info": {
   "codemirror_mode": {
    "name": "ipython",
    "version": 3
   },
   "file_extension": ".py",
   "mimetype": "text/x-python",
   "name": "python",
   "nbconvert_exporter": "python",
   "pygments_lexer": "ipython3",
   "version": "3.10.10"
  }
 },
 "nbformat": 4,
 "nbformat_minor": 5
}
