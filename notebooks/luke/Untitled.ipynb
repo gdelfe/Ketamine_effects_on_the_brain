{
 "cells": [
  {
   "cell_type": "code",
   "execution_count": 2,
   "id": "789af51e-13d7-4a32-80c7-db7bf15d3fb8",
   "metadata": {
    "tags": []
   },
   "outputs": [],
   "source": [
    "import src.paths"
   ]
  },
  {
   "cell_type": "code",
   "execution_count": 18,
   "id": "e32be833-6be1-449a-8cba-c49dd0ab021f",
   "metadata": {
    "tags": []
   },
   "outputs": [],
   "source": [
    "DATE = '2022-09-16'\n",
    "CHAN = 30\n",
    "THETA_MIN = 2\n",
    "THETA_MAX = 15\n",
    "LGAMM_MIN = 30\n",
    "LGAMM_MAX = 60\n",
    "HGAMM_MIN = 60\n",
    "HGAMM_MAX = 100"
   ]
  },
  {
   "cell_type": "code",
   "execution_count": 13,
   "id": "e036865f-2720-40b3-aee1-fa527f39ce1b",
   "metadata": {
    "tags": []
   },
   "outputs": [
    {
     "name": "stdout",
     "output_type": "stream",
     "text": [
      "CPU times: user 3.86 s, sys: 4.08 s, total: 7.94 s\n",
      "Wall time: 12.4 s\n"
     ]
    }
   ],
   "source": [
    "%%time\n",
    "csd = pd.read_parquet(src.paths.DATA / DATE / f'{DATE}-hpc-csd-channel-0-59.parquet')\n",
    "csd = csd.loc[0:7200 - 1 / 1250, CHAN] * 0.001"
   ]
  },
  {
   "cell_type": "code",
   "execution_count": 20,
   "id": "a1f0862d-e49b-4903-8ece-60b8e2a17d7b",
   "metadata": {
    "tags": []
   },
   "outputs": [],
   "source": [
    "x = csd.values\n",
    "sos1 = scipy.signal.butter(5, Wn=[THETA_MIN, THETA_MAX], fs=1250, btype='band', output='sos')\n",
    "sos2 = scipy.signal.butter(5, Wn=[LGAMM_MIN, LGAMM_MAX], fs=1250, btype='band', output='sos')\n",
    "sos3 = scipy.signal.butter(5, Wn=[HGAMM_MIN, HGAMM_MAX], fs=1250, btype='band', output='sos')\n",
    "theta = scipy.signal.sosfiltfilt(sos1, x, axis=0)\n",
    "lgamm = scipy.signal.sosfiltfilt(sos2, x, axis=0)\n",
    "hgamm = scipy.signal.sosfiltfilt(sos3, x, axis=0)"
   ]
  }
 ],
 "metadata": {
  "kernelspec": {
   "display_name": "kfx",
   "language": "python",
   "name": "kfx"
  },
  "language_info": {
   "codemirror_mode": {
    "name": "ipython",
    "version": 3
   },
   "file_extension": ".py",
   "mimetype": "text/x-python",
   "name": "python",
   "nbconvert_exporter": "python",
   "pygments_lexer": "ipython3",
   "version": "3.10.10"
  }
 },
 "nbformat": 4,
 "nbformat_minor": 5
}
