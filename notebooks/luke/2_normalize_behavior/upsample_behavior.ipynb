{
 "cells": [
  {
   "cell_type": "code",
   "execution_count": 1,
   "id": "f624c594-d654-48c9-9fa4-a96cebb93299",
   "metadata": {
    "tags": []
   },
   "outputs": [],
   "source": [
    "%load_ext autoreload\n",
    "%autoreload 2"
   ]
  },
  {
   "cell_type": "code",
   "execution_count": 2,
   "id": "f85a297f-5202-4410-8af5-8ffcbd5bb300",
   "metadata": {
    "tags": []
   },
   "outputs": [],
   "source": [
    "import json\n",
    "import pickle\n",
    "import numpy as np\n",
    "import pandas as pd\n",
    "import src.paths\n",
    "from src.data import load_behavior\n",
    "from src.pipeline import upsample_behavior"
   ]
  },
  {
   "cell_type": "code",
   "execution_count": 3,
   "id": "a6691eae-effe-46ef-a114-b84d3352c829",
   "metadata": {
    "tags": []
   },
   "outputs": [],
   "source": [
    "dates = [\n",
    "    '2022-07-27',\n",
    "    '2022-07-28',\n",
    "    '2022-08-01',\n",
    "    '2022-08-03',\n",
    "    '2022-08-04',\n",
    "    '2022-08-06',\n",
    "    '2022-08-08',\n",
    "    '2022-08-11',\n",
    "    '2022-08-12',\n",
    "    '2022-08-13',\n",
    "    '2022-08-15',\n",
    "    '2022-09-12',\n",
    "    '2022-09-14',\n",
    "    '2022-09-16',\n",
    "]"
   ]
  },
  {
   "cell_type": "code",
   "execution_count": 4,
   "id": "40952f9d-aa2b-414f-a3d4-a5bb4ea883bd",
   "metadata": {
    "tags": []
   },
   "outputs": [
    {
     "name": "stdout",
     "output_type": "stream",
     "text": [
      "wrote /mnt/home/larend/kfx/data/2022-07-27/2022-07-27-behavior.pkl\n",
      "wrote /mnt/home/larend/kfx/data/2022-07-28/2022-07-28-behavior.pkl\n",
      "wrote /mnt/home/larend/kfx/data/2022-08-01/2022-08-01-behavior.pkl\n",
      "wrote /mnt/home/larend/kfx/data/2022-08-03/2022-08-03-behavior.pkl\n",
      "wrote /mnt/home/larend/kfx/data/2022-08-04/2022-08-04-behavior.pkl\n",
      "wrote /mnt/home/larend/kfx/data/2022-08-06/2022-08-06-behavior.pkl\n",
      "wrote /mnt/home/larend/kfx/data/2022-08-08/2022-08-08-behavior.pkl\n",
      "wrote /mnt/home/larend/kfx/data/2022-08-11/2022-08-11-behavior.pkl\n",
      "wrote /mnt/home/larend/kfx/data/2022-08-12/2022-08-12-behavior.pkl\n",
      "wrote /mnt/home/larend/kfx/data/2022-08-13/2022-08-13-behavior.pkl\n",
      "wrote /mnt/home/larend/kfx/data/2022-08-15/2022-08-15-behavior.pkl\n",
      "wrote /mnt/home/larend/kfx/data/2022-09-12/2022-09-12-behavior.pkl\n",
      "wrote /mnt/home/larend/kfx/data/2022-09-14/2022-09-14-behavior.pkl\n",
      "wrote /mnt/home/larend/kfx/data/2022-09-16/2022-09-16-behavior.pkl\n"
     ]
    }
   ],
   "source": [
    "for date in dates:\n",
    "    path = src.paths.DATA / date / f'{date}-behavior.pkl'\n",
    "    result = upsample_behavior(date)\n",
    "    with open(path, 'wb') as f:\n",
    "        pickle.dump(result, f)\n",
    "    print(f\"wrote {path}\")"
   ]
  },
  {
   "cell_type": "code",
   "execution_count": null,
   "id": "fa5cd337-9044-4f54-8e8a-dca28f753752",
   "metadata": {},
   "outputs": [],
   "source": []
  }
 ],
 "metadata": {
  "kernelspec": {
   "display_name": "kfx",
   "language": "python",
   "name": "kfx"
  },
  "language_info": {
   "codemirror_mode": {
    "name": "ipython",
    "version": 3
   },
   "file_extension": ".py",
   "mimetype": "text/x-python",
   "name": "python",
   "nbconvert_exporter": "python",
   "pygments_lexer": "ipython3",
   "version": "3.10.10"
  }
 },
 "nbformat": 4,
 "nbformat_minor": 5
}
