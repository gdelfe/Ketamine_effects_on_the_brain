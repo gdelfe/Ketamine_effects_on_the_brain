{
 "cells": [
  {
   "cell_type": "markdown",
   "id": "be432f78-3f76-4ed6-b64e-9730e342bb37",
   "metadata": {},
   "source": [
    "import"
   ]
  },
  {
   "cell_type": "code",
   "execution_count": 4,
   "id": "8e841348-daa1-4bcd-9980-095d37d815ad",
   "metadata": {
    "tags": []
   },
   "outputs": [],
   "source": [
    "import src.paths"
   ]
  },
  {
   "cell_type": "markdown",
   "id": "59206984-6f77-4b60-bc3e-2ccaabd61ee1",
   "metadata": {},
   "source": [
    "param"
   ]
  },
  {
   "cell_type": "code",
   "execution_count": 2,
   "id": "fa97177a-a028-40db-aec0-7abbf714704a",
   "metadata": {
    "tags": []
   },
   "outputs": [],
   "source": [
    "DATE = '2022-09-12'"
   ]
  },
  {
   "cell_type": "markdown",
   "id": "d05ff6a7-3b7e-4cb0-a265-cb5d58e605ac",
   "metadata": {},
   "source": [
    "load"
   ]
  },
  {
   "cell_type": "code",
   "execution_count": 8,
   "id": "dbe39b55-fd57-4ba3-92fe-07dcb9fafcbd",
   "metadata": {
    "tags": []
   },
   "outputs": [
    {
     "name": "stdout",
     "output_type": "stream",
     "text": [
      "CPU times: user 3.34 ms, sys: 2.49 s, total: 2.5 s\n",
      "Wall time: 2.5 s\n"
     ]
    }
   ],
   "source": [
    "%%time\n",
    "path = src.paths.DATA / DATE / f'{DATE}-hpc-csd.pkl'\n",
    "csd = pd.read_pickle(path)"
   ]
  },
  {
   "cell_type": "code",
   "execution_count": 21,
   "id": "4b529324-5781-4329-98f0-c3959f043f6d",
   "metadata": {
    "tags": []
   },
   "outputs": [],
   "source": [
    "frame = 1 / 1250"
   ]
  },
  {
   "cell_type": "code",
   "execution_count": 19,
   "id": "b6fd3033-76c7-4c45-a63a-98629ad43fc7",
   "metadata": {
    "tags": []
   },
   "outputs": [],
   "source": [
    "csd = csd.loc[0:120 * 60 - frame]"
   ]
  },
  {
   "cell_type": "code",
   "execution_count": 22,
   "id": "05753d70-5926-4e02-8914-a880eb602196",
   "metadata": {
    "tags": []
   },
   "outputs": [],
   "source": [
    "epoch1 = csd.loc[5 * 60:25 * 60 - frame]\n",
    "epoch2 = csd.loc[35 * 60:55 * 60 - frame]\n",
    "epoch3 = csd.loc[65 * 60:85 * 60 - frame]\n",
    "epoch4 = csd.loc[95 * 60:115 * 60 - frame]"
   ]
  },
  {
   "cell_type": "code",
   "execution_count": null,
   "id": "16fa557d-729e-4058-b4a6-9936cc7f0a7d",
   "metadata": {},
   "outputs": [],
   "source": []
  }
 ],
 "metadata": {
  "kernelspec": {
   "display_name": "kfx",
   "language": "python",
   "name": "kfx"
  },
  "language_info": {
   "codemirror_mode": {
    "name": "ipython",
    "version": 3
   },
   "file_extension": ".py",
   "mimetype": "text/x-python",
   "name": "python",
   "nbconvert_exporter": "python",
   "pygments_lexer": "ipython3",
   "version": "3.10.10"
  },
  "toc-showmarkdowntxt": true
 },
 "nbformat": 4,
 "nbformat_minor": 5
}
