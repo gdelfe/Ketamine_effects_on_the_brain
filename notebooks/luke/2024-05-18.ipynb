{
 "cells": [
  {
   "cell_type": "markdown",
   "id": "6a528e75-3e18-448c-8019-9527bdf0d1a9",
   "metadata": {
    "tags": []
   },
   "source": [
    "# Map session dates to raw file paths"
   ]
  },
  {
   "cell_type": "code",
   "execution_count": 45,
   "id": "feaac9c5-2ce1-4973-9aca-c666bd9b64fa",
   "metadata": {
    "tags": []
   },
   "outputs": [],
   "source": [
    "import os\n",
    "import glob\n",
    "import pandas as pd\n",
    "import src.paths\n",
    "\n",
    "dates = [\n",
    "    '2022-07-27', '2022-07-28', '2022-08-01',\n",
    "    '2022-08-03', '2022-08-04', '2022-08-06',\n",
    "    '2022-08-08', '2022-08-10', '2022-08-11',\n",
    "    '2022-08-12', '2022-08-13', '2022-08-15',\n",
    "    '2022-09-12', '2022-09-14', '2022-09-16',\n",
    "]"
   ]
  },
  {
   "cell_type": "code",
   "execution_count": 51,
   "id": "8061a855-02d1-4bcd-b053-2d1eee4f5773",
   "metadata": {
    "tags": []
   },
   "outputs": [],
   "source": [
    "def session_path(date):\n",
    "    datadir = src.paths.DATA / date\n",
    "    if not os.path.isdir(datadir):\n",
    "        raise ValueError(f\"data directory {datadir} not found\")\n",
    "    \n",
    "    pattern = datadir / f'*.imec1.lf.meta'\n",
    "    match = glob.glob(str(datadir / pattern))[0]\n",
    "    file = os.path.split(match)[-1]\n",
    "    return file.replace(f'.imec1.lf.meta', '')"
   ]
  },
  {
   "cell_type": "code",
   "execution_count": 53,
   "id": "f9616ec5-77b9-4fc5-b81b-5f8a3ebb4af8",
   "metadata": {
    "tags": []
   },
   "outputs": [
    {
     "name": "stdout",
     "output_type": "stream",
     "text": [
      "2022-07-27-07-41-00_M015_SAL_PFC_HPC_0_0_0mpk_g0_t0\n",
      "2022-07-28-13-19-00_M016_SAL_PFC_HPC_0_0_0mpk_g0_t0\n",
      "2022-08-01-04-30-00_M015_RSK_mPFC_HPC_3_10_30mpk_g0_t0\n",
      "2022-08-03-12-45-00_M015_RSK_mPFC_HPC_3_10_30mpk_g0_t0\n",
      "2022-08-04-03-45-00_M016_RSK_mPFC_HPC_3_10_30mpk_g0_t0\n",
      "2022-08-06-05-20-00_M016_RSK_mPFC_HPC_3_10_30mpk_g0_t0\n",
      "2022-08-08-04-05-00_M017_SAL_mPFC_HPC_0_0_0mpk_g0_t0\n",
      "2022-08-10-03-33-00_M017_RSK_mPFC_HPC_3_10_30mpk_g0_t0\n",
      "2022-08-11-01-55-00_M018_SAL_mPFC_HPC_0_0_0mpk_g0_t0\n",
      "2022-08-12-02-35-00_M017_RSK_mPFC_HPC_3_10_30mpk_g0_t0\n",
      "2022-08-13-03-57-00_M018_RSK_mPFC_HPC_3_10_30mpk_g0_t0\n",
      "2022-08-15-02-25-00_M018_RSK_mPFC_HPC_3_10_30mpk_g0_t0\n",
      "2022-09-12-04-40-00_M023_SAL_mPFC_HPC_0_0_0mpk_g0_t0\n",
      "2022-09-14-03-35-00_M023_RSK_mPFC_HPC_3_10_30mpk_g0_t0\n",
      "2022-09-16-02-10-00_M023_RSK_mPFC_HPC_3_10_30mpk_g0_t0\n"
     ]
    }
   ],
   "source": [
    "for date in dates:\n",
    "    print(session_path(date))"
   ]
  },
  {
   "cell_type": "markdown",
   "id": "8e6246e1-7b59-436c-96a1-0fa39b447da3",
   "metadata": {},
   "source": [
    "# Map from session dates to recording numbers"
   ]
  },
  {
   "cell_type": "code",
   "execution_count": 55,
   "id": "56ecdfdb-358f-4b80-9aaa-3f28c01cc1cb",
   "metadata": {
    "tags": []
   },
   "outputs": [],
   "source": [
    "if os.name == 'posix':\n",
    "    import pathlib\n",
    "    pathlib.WindowsPath = pathlib.PosixPath\n",
    "\n",
    "import json"
   ]
  },
  {
   "cell_type": "code",
   "execution_count": 59,
   "id": "f1a9bbb5-6e17-43f4-b9c2-29b317e53dcc",
   "metadata": {
    "tags": []
   },
   "outputs": [],
   "source": [
    "blob = pd.read_pickle(src.paths.REF / 'HPC_lfp_paths.pkl')\n",
    "out = {}\n",
    "for i, path in enumerate(blob):\n",
    "    file = os.path.split(path)[-1]\n",
    "    date = file[:10]\n",
    "    if date.endswith('2022'):\n",
    "        date = f'2022-{date[:5]}'\n",
    "    out[date] = i"
   ]
  },
  {
   "cell_type": "code",
   "execution_count": 61,
   "id": "a5d4492d-0a04-4179-8fc1-7a72a7bfbac7",
   "metadata": {
    "tags": []
   },
   "outputs": [],
   "source": [
    "with open(src.paths.REF / 'date_recid.json', 'w') as f:\n",
    "    json.dump(out, f)"
   ]
  },
  {
   "cell_type": "markdown",
   "id": "933b4cae-9952-4704-8b52-afb496d8d762",
   "metadata": {},
   "source": [
    "# Map from session date to LFP start offset"
   ]
  },
  {
   "cell_type": "code",
   "execution_count": 98,
   "id": "a02c7812-214e-409a-9a25-5439b520277b",
   "metadata": {
    "tags": []
   },
   "outputs": [],
   "source": [
    "df = pd.read_csv(src.paths.REF / 'recid_CA1_DG_id_modified.csv')\n",
    "out = {}\n",
    "for i, row in df.iterrows():\n",
    "    date = row['Name_file'][:10]\n",
    "    start = row['Lfp start']\n",
    "    end = row['Lfp end']\n",
    "    out[date] = [start, end]"
   ]
  },
  {
   "cell_type": "code",
   "execution_count": 100,
   "id": "cb1d7dd3-eb6a-43f0-8772-c786e3ac1870",
   "metadata": {
    "tags": []
   },
   "outputs": [],
   "source": [
    "with open(src.paths.REF / 'date_recoffset.json', 'w') as f:\n",
    "    json.dump(out, f)"
   ]
  },
  {
   "cell_type": "markdown",
   "id": "b342e245-aab7-4a1f-8e49-5149d1e1dcda",
   "metadata": {},
   "source": [
    "# Load behavioral data using recording number"
   ]
  },
  {
   "cell_type": "code",
   "execution_count": 66,
   "id": "3d3f12bb-6dc1-41c8-ac68-07e1c1ac0d9c",
   "metadata": {
    "tags": []
   },
   "outputs": [],
   "source": [
    "import numpy as np"
   ]
  },
  {
   "cell_type": "code",
   "execution_count": 96,
   "id": "b244814f-c3ce-4e4e-9303-bfb737d107fe",
   "metadata": {
    "tags": []
   },
   "outputs": [],
   "source": [
    "def load_behavior(recnum):\n",
    "    datadir = src.paths.DATA / 'behavior'\n",
    "    x = np.load(datadir / 'x_aln.npy', allow_pickle=True)[recnum]\n",
    "    y = np.load(datadir / 'y_aln.npy', allow_pickle=True)[recnum]\n",
    "    yaw = np.load(datadir / 'yaw_aln.npy', allow_pickle=True)[recnum]\n",
    "    speed = np.load(datadir / 'speed_aln.npy', allow_pickle=True)[recnum]\n",
    "    t = np.arange(len(x)) / 100\n",
    "    return pd.DataFrame({\n",
    "        'x': x,\n",
    "        'y': y,\n",
    "        'yaw': yaw,\n",
    "        'speed': speed,\n",
    "    }, index=t)"
   ]
  },
  {
   "cell_type": "code",
   "execution_count": 97,
   "id": "56adb304-1100-400d-ae9d-89ed3146aa33",
   "metadata": {
    "tags": []
   },
   "outputs": [
    {
     "data": {
      "text/html": [
       "<div>\n",
       "<style scoped>\n",
       "    .dataframe tbody tr th:only-of-type {\n",
       "        vertical-align: middle;\n",
       "    }\n",
       "\n",
       "    .dataframe tbody tr th {\n",
       "        vertical-align: top;\n",
       "    }\n",
       "\n",
       "    .dataframe thead th {\n",
       "        text-align: right;\n",
       "    }\n",
       "</style>\n",
       "<table border=\"1\" class=\"dataframe\">\n",
       "  <thead>\n",
       "    <tr style=\"text-align: right;\">\n",
       "      <th></th>\n",
       "      <th>x</th>\n",
       "      <th>y</th>\n",
       "      <th>yaw</th>\n",
       "      <th>speed</th>\n",
       "    </tr>\n",
       "  </thead>\n",
       "  <tbody>\n",
       "    <tr>\n",
       "      <th>0.00</th>\n",
       "      <td>9.494136</td>\n",
       "      <td>-29.672452</td>\n",
       "      <td>33.877280</td>\n",
       "      <td>304.092654</td>\n",
       "    </tr>\n",
       "    <tr>\n",
       "      <th>0.01</th>\n",
       "      <td>11.315372</td>\n",
       "      <td>-35.419425</td>\n",
       "      <td>33.877692</td>\n",
       "      <td>378.882912</td>\n",
       "    </tr>\n",
       "    <tr>\n",
       "      <th>0.02</th>\n",
       "      <td>12.989973</td>\n",
       "      <td>-40.598675</td>\n",
       "      <td>33.890433</td>\n",
       "      <td>420.289312</td>\n",
       "    </tr>\n",
       "    <tr>\n",
       "      <th>0.03</th>\n",
       "      <td>14.529093</td>\n",
       "      <td>-45.292913</td>\n",
       "      <td>33.927162</td>\n",
       "      <td>438.826685</td>\n",
       "    </tr>\n",
       "    <tr>\n",
       "      <th>0.04</th>\n",
       "      <td>15.890402</td>\n",
       "      <td>-49.563284</td>\n",
       "      <td>33.933638</td>\n",
       "      <td>441.202489</td>\n",
       "    </tr>\n",
       "    <tr>\n",
       "      <th>...</th>\n",
       "      <td>...</td>\n",
       "      <td>...</td>\n",
       "      <td>...</td>\n",
       "      <td>...</td>\n",
       "    </tr>\n",
       "    <tr>\n",
       "      <th>7202.09</th>\n",
       "      <td>-96.021851</td>\n",
       "      <td>26.185924</td>\n",
       "      <td>-136.825385</td>\n",
       "      <td>1.135706</td>\n",
       "    </tr>\n",
       "    <tr>\n",
       "      <th>7202.10</th>\n",
       "      <td>-96.010455</td>\n",
       "      <td>26.201583</td>\n",
       "      <td>-136.839977</td>\n",
       "      <td>0.782772</td>\n",
       "    </tr>\n",
       "    <tr>\n",
       "      <th>7202.11</th>\n",
       "      <td>-96.039774</td>\n",
       "      <td>26.180039</td>\n",
       "      <td>-136.826041</td>\n",
       "      <td>0.842430</td>\n",
       "    </tr>\n",
       "    <tr>\n",
       "      <th>7202.12</th>\n",
       "      <td>-96.035179</td>\n",
       "      <td>26.172649</td>\n",
       "      <td>-136.817985</td>\n",
       "      <td>0.829421</td>\n",
       "    </tr>\n",
       "    <tr>\n",
       "      <th>7202.13</th>\n",
       "      <td>-96.010576</td>\n",
       "      <td>26.185598</td>\n",
       "      <td>-136.827718</td>\n",
       "      <td>0.492970</td>\n",
       "    </tr>\n",
       "  </tbody>\n",
       "</table>\n",
       "<p>720214 rows × 4 columns</p>\n",
       "</div>"
      ],
      "text/plain": [
       "                 x          y         yaw       speed\n",
       "0.00      9.494136 -29.672452   33.877280  304.092654\n",
       "0.01     11.315372 -35.419425   33.877692  378.882912\n",
       "0.02     12.989973 -40.598675   33.890433  420.289312\n",
       "0.03     14.529093 -45.292913   33.927162  438.826685\n",
       "0.04     15.890402 -49.563284   33.933638  441.202489\n",
       "...            ...        ...         ...         ...\n",
       "7202.09 -96.021851  26.185924 -136.825385    1.135706\n",
       "7202.10 -96.010455  26.201583 -136.839977    0.782772\n",
       "7202.11 -96.039774  26.180039 -136.826041    0.842430\n",
       "7202.12 -96.035179  26.172649 -136.817985    0.829421\n",
       "7202.13 -96.010576  26.185598 -136.827718    0.492970\n",
       "\n",
       "[720214 rows x 4 columns]"
      ]
     },
     "execution_count": 97,
     "metadata": {},
     "output_type": "execute_result"
    }
   ],
   "source": [
    "load_behavior(0)"
   ]
  },
  {
   "cell_type": "code",
   "execution_count": null,
   "id": "72dcd9c6-b979-426e-881a-ce050fd0512c",
   "metadata": {},
   "outputs": [],
   "source": []
  }
 ],
 "metadata": {
  "kernelspec": {
   "display_name": "kfx",
   "language": "python",
   "name": "kfx"
  },
  "language_info": {
   "codemirror_mode": {
    "name": "ipython",
    "version": 3
   },
   "file_extension": ".py",
   "mimetype": "text/x-python",
   "name": "python",
   "nbconvert_exporter": "python",
   "pygments_lexer": "ipython3",
   "version": "3.10.10"
  }
 },
 "nbformat": 4,
 "nbformat_minor": 5
}
