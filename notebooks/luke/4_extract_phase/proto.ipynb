{
 "cells": [
  {
   "cell_type": "code",
   "execution_count": 1,
   "id": "027f35fe-3231-4cc5-95d8-4d2e7c4d3fe6",
   "metadata": {
    "tags": []
   },
   "outputs": [],
   "source": [
    "%load_ext autoreload\n",
    "%autoreload 2"
   ]
  },
  {
   "cell_type": "code",
   "execution_count": 16,
   "id": "d496b754-0c07-4e61-8af6-fb9aefa41f1f",
   "metadata": {
    "tags": []
   },
   "outputs": [],
   "source": [
    "import logging\n",
    "import src.paths\n",
    "from src.pipeline import compute_session_wavelets"
   ]
  },
  {
   "cell_type": "code",
   "execution_count": 20,
   "id": "f06bfa74-1063-4ad9-a92c-8ac4e928fd80",
   "metadata": {
    "tags": []
   },
   "outputs": [],
   "source": [
    "def main(output_path, params):\n",
    "    pattern = '_'.join([f'{k}={v}' for k, v in params.items()])\n",
    "    outfile = os.path.join(output_path, pattern + '.pkl')\n",
    "    if os.path.isfile(outfile):\n",
    "        logging.info(f'output file {outfile} already exists, exiting')\n",
    "        sys.exit(0)\n",
    "    \n",
    "    logging.info(f'computing wavelets for recording {params}')\n",
    "    result = compute_session_wavelets(params['date'], params['region'], params['channel'])\n",
    "    logging.info('done computing wavelets')\n",
    "    \n",
    "    logging.info(f'writing result to {outfile}')\n",
    "    with open(outfile, 'wb') as f:\n",
    "        pickle.dump(result, f)\n",
    "    logging.info('done')"
   ]
  },
  {
   "cell_type": "code",
   "execution_count": 21,
   "id": "774ea56a-0403-429d-8c74-043b428e43ed",
   "metadata": {
    "tags": []
   },
   "outputs": [],
   "source": [
    "params = {\n",
    "    'date': '2022-09-16',\n",
    "    'region': 'hpc',\n",
    "    'channel': 95,\n",
    "}\n",
    "main('.', params)"
   ]
  },
  {
   "cell_type": "code",
   "execution_count": null,
   "id": "e8204034-c3ec-4911-a7ce-a3834138bb3a",
   "metadata": {},
   "outputs": [],
   "source": []
  }
 ],
 "metadata": {
  "kernelspec": {
   "display_name": "kfx",
   "language": "python",
   "name": "kfx"
  },
  "language_info": {
   "codemirror_mode": {
    "name": "ipython",
    "version": 3
   },
   "file_extension": ".py",
   "mimetype": "text/x-python",
   "name": "python",
   "nbconvert_exporter": "python",
   "pygments_lexer": "ipython3",
   "version": "3.10.10"
  }
 },
 "nbformat": 4,
 "nbformat_minor": 5
}
