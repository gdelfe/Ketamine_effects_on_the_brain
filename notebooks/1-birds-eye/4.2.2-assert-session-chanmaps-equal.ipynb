{
 "cells": [
  {
   "cell_type": "code",
   "execution_count": 9,
   "id": "c043a6d3",
   "metadata": {},
   "outputs": [],
   "source": [
    "import os\n",
    "import pandas as pd\n",
    "import numpy as np\n",
    "from common import sessions, sessfile, load_metadata\n",
    "root = '/Users/lukearend/phd/kfx/data/mnt/Ketamine'"
   ]
  },
  {
   "cell_type": "code",
   "execution_count": 17,
   "id": "ffd9a735",
   "metadata": {},
   "outputs": [
    {
     "name": "stderr",
     "output_type": "stream",
     "text": [
      "100%|███████████████████████████████████████████| 36/36 [00:01<00:00, 23.27it/s]\n",
      "100%|███████████████████████████████████████████| 36/36 [00:01<00:00, 28.32it/s]\n",
      "100%|███████████████████████████████████████████| 36/36 [00:01<00:00, 22.16it/s]\n",
      "100%|███████████████████████████████████████████| 36/36 [00:02<00:00, 15.60it/s]\n"
     ]
    }
   ],
   "source": [
    "from tqdm import tqdm\n",
    "\n",
    "metadata = {}\n",
    "missing = '/Users/lukearend/phd/kfx/ref/2022-08-08-04-05-00_M017_SAL_mPFC_HPC_0_0_0mpk_g0_t0.imec1.lf.meta'\n",
    "for region in ['hpc', 'pfc']:\n",
    "    metadata[region] = {}\n",
    "    for signal in ['lfp', 'ap']:\n",
    "        df = []\n",
    "        for i, sess in tqdm(sessions.iterrows(), total=36):\n",
    "            metafile = sessfile(sess.path, region, signal, 'meta')\n",
    "            path = os.path.join(root, metafile)\n",
    "            try:\n",
    "                md = pd.Series(load_metadata(path))\n",
    "            except FileNotFoundError:\n",
    "                md = pd.Series(load_metadata(missing))\n",
    "            md = md[[\n",
    "                'fileCreateTime', 'fileSizeBytes', 'fileTimeSecs', 'firstSample',\n",
    "                'imAiRangeMax', 'imAiRangeMin', \n",
    "                'imMaxInt', 'imSampRate', 'nSavedChans', 'snsApLfSy', 'snsSaveChanSubset',\n",
    "                'imroTbl', 'snsChanMap',\n",
    "            ]]\n",
    "            df.append(md)\n",
    "        metadata[region][signal] = pd.DataFrame(df, index=sessions.index)"
   ]
  },
  {
   "cell_type": "code",
   "execution_count": 37,
   "id": "462d0995",
   "metadata": {},
   "outputs": [],
   "source": [
    "for signal in ['lfp']:\n",
    "    for region in ['pfc', 'hpc']:\n",
    "        for recid, md in metadata[region][signal].iterrows():\n",
    "            chanmap = md.snsChanMap\n",
    "            chans = chanmap.strip('()').split(')(')[1:]\n",
    "            assert len(chans) == 385\n",
    "            assert chans[384] == 'SY0;768:768'\n",
    "            if signal == 'ap':\n",
    "                assert chans[0] == 'AP0;0:0'\n",
    "                assert chans[383] == 'AP383;383:383'\n",
    "            if signal == 'lfp':\n",
    "                assert chans[0] == 'LF0;384:384'\n",
    "                assert chans[383] == 'LF383;767:767'"
   ]
  },
  {
   "cell_type": "code",
   "execution_count": null,
   "id": "56fa40be",
   "metadata": {},
   "outputs": [],
   "source": []
  }
 ],
 "metadata": {
  "kernelspec": {
   "display_name": "Python 3",
   "language": "python",
   "name": "python3"
  },
  "language_info": {
   "codemirror_mode": {
    "name": "ipython",
    "version": 3
   },
   "file_extension": ".py",
   "mimetype": "text/x-python",
   "name": "python",
   "nbconvert_exporter": "python",
   "pygments_lexer": "ipython3",
   "version": "3.10.6"
  }
 },
 "nbformat": 4,
 "nbformat_minor": 5
}
