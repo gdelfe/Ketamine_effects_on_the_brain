{
 "cells": [
  {
   "cell_type": "code",
   "execution_count": 41,
   "id": "f07a3555",
   "metadata": {},
   "outputs": [],
   "source": [
    "import pandas as pd"
   ]
  },
  {
   "cell_type": "code",
   "execution_count": 94,
   "id": "509453a8",
   "metadata": {},
   "outputs": [],
   "source": [
    "sess = pd.read_csv('/Users/lukearend/phd/kfx/ref/sessions.csv', index_col=0)\n",
    "\n",
    "def session_files(sesspath):\n",
    "    sessdir, sesspath = os.path.split(sesspath)\n",
    "    return {\n",
    "        'pfc': {\n",
    "            'ap': f'{sessdir}/{sesspath}_imec0/{sesspath}_t0.imec0.ap.bin',\n",
    "            'lfp': f'{sessdir}/{sesspath}_imec0/{sesspath}_t0.imec0.ap.bin',\n",
    "        },\n",
    "        'hpc': {\n",
    "            'ap': f'{sessdir}/{sesspath}_imec1/{sesspath}_t0.imec1.ap.bin',\n",
    "            'lfp': f'{sessdir}/{sesspath}_imec1/{sesspath}_t0.imec1.ap.bin',\n",
    "        },\n",
    "    }\n",
    "\n",
    "def load_metadata(path):\n",
    "    with open(path, 'r') as f:\n",
    "        metadata = {}\n",
    "        for line in f.read().splitlines():\n",
    "            k, v = line.split('=')\n",
    "            k = k.strip('~')\n",
    "            metadata[k] = v\n",
    "    return md"
   ]
  },
  {
   "cell_type": "code",
   "execution_count": 97,
   "id": "bd4b22f2",
   "metadata": {},
   "outputs": [],
   "source": [
    "sesspath = sess.loc[4].path\n",
    "datapath = session_files(sesspath)['hpc']['lfp']\n",
    "metapath = datapath.replace('.bin', '.meta')\n",
    "root = '/Users/lukearend/phd/kfx/data/mnt/Ketamine'\n",
    "md = load_metadata(os.path.join(root, metapath))"
   ]
  }
 ],
 "metadata": {
  "kernelspec": {
   "display_name": "Python 3",
   "language": "python",
   "name": "python3"
  },
  "language_info": {
   "codemirror_mode": {
    "name": "ipython",
    "version": 3
   },
   "file_extension": ".py",
   "mimetype": "text/x-python",
   "name": "python",
   "nbconvert_exporter": "python",
   "pygments_lexer": "ipython3",
   "version": "3.10.6"
  }
 },
 "nbformat": 4,
 "nbformat_minor": 5
}
