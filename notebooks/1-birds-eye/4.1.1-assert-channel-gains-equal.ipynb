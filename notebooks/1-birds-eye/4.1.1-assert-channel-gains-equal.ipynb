{
 "cells": [
  {
   "cell_type": "code",
   "execution_count": 1,
   "id": "1df7f298",
   "metadata": {},
   "outputs": [],
   "source": [
    "%load_ext autoreload"
   ]
  },
  {
   "cell_type": "code",
   "execution_count": 20,
   "id": "c3346596",
   "metadata": {},
   "outputs": [],
   "source": [
    "import os\n",
    "import pandas as pd\n",
    "from common import sessions, sessfile, load_metadata\n",
    "root = '/Users/lukearend/phd/kfx/data/mnt/Ketamine'"
   ]
  },
  {
   "cell_type": "code",
   "execution_count": 21,
   "id": "02ddbfa8",
   "metadata": {},
   "outputs": [
    {
     "name": "stderr",
     "output_type": "stream",
     "text": [
      "100%|███████████████████████████████████████████| 36/36 [00:01<00:00, 21.22it/s]\n",
      "100%|███████████████████████████████████████████| 36/36 [00:01<00:00, 19.17it/s]\n",
      "100%|███████████████████████████████████████████| 36/36 [00:01<00:00, 26.33it/s]\n",
      "100%|███████████████████████████████████████████| 36/36 [00:01<00:00, 23.80it/s]\n"
     ]
    }
   ],
   "source": [
    "from tqdm import tqdm\n",
    "\n",
    "metadata = {}\n",
    "missing = '/Users/lukearend/phd/kfx/ref/2022-08-08-04-05-00_M017_SAL_mPFC_HPC_0_0_0mpk_g0_t0.imec1.lf.meta'\n",
    "for region in ['hpc', 'pfc']:\n",
    "    metadata[region] = {}\n",
    "    for signal in ['lfp', 'ap']:\n",
    "        df = []\n",
    "        for i, sess in tqdm(sessions.iterrows(), total=36):\n",
    "            metafile = sessfile(sess.path, region, signal, 'meta')\n",
    "            path = os.path.join(root, metafile)\n",
    "            try:\n",
    "                md = pd.Series(load_metadata(path))\n",
    "            except FileNotFoundError:\n",
    "                md = pd.Series(load_metadata(missing))\n",
    "            df.append(md)\n",
    "        metadata[region][signal] = pd.DataFrame(df, index=sessions.index)"
   ]
  },
  {
   "cell_type": "code",
   "execution_count": 39,
   "id": "f238507f",
   "metadata": {},
   "outputs": [],
   "source": [
    "out = {}\n",
    "for region in ['pfc', 'hpc']:\n",
    "    out[region] = {}\n",
    "    for signal in ['lfp', 'ap']:\n",
    "        md = metadata[region][signal].loc[0]\n",
    "        out[region][signal] = {\n",
    "            'gains': md.imroTbl,\n",
    "            'chans': md.snsChanMap,\n",
    "            'shanks': md.snsShankMap if signal == 'ap' else None,\n",
    "        }"
   ]
  },
  {
   "cell_type": "code",
   "execution_count": 49,
   "id": "59907c8a",
   "metadata": {},
   "outputs": [],
   "source": [
    "for region in ['pfc', 'hpc']:\n",
    "    for signal in ['ap', 'lfp']:\n",
    "        gains = out['pfc']['lfp']['gains']\n",
    "        gains = gains.strip('()').split(')(')\n",
    "        gains = gains[1:]\n",
    "        gains = [s.split(' ')[1:] for s in gains]\n",
    "        for g in gains:\n",
    "            assert g == gains[0]"
   ]
  },
  {
   "cell_type": "code",
   "execution_count": 32,
   "id": "1456bad5",
   "metadata": {},
   "outputs": [
    {
     "data": {
      "text/html": [
       "<div>\n",
       "<style scoped>\n",
       "    .dataframe tbody tr th:only-of-type {\n",
       "        vertical-align: middle;\n",
       "    }\n",
       "\n",
       "    .dataframe tbody tr th {\n",
       "        vertical-align: top;\n",
       "    }\n",
       "\n",
       "    .dataframe thead th {\n",
       "        text-align: right;\n",
       "    }\n",
       "</style>\n",
       "<table border=\"1\" class=\"dataframe\">\n",
       "  <thead>\n",
       "    <tr style=\"text-align: right;\">\n",
       "      <th></th>\n",
       "      <th>indiv</th>\n",
       "      <th>date</th>\n",
       "      <th>drug</th>\n",
       "      <th>doses</th>\n",
       "      <th>fileCreateTime</th>\n",
       "      <th>fileSizeBytes</th>\n",
       "      <th>fileTimeSecs</th>\n",
       "      <th>firstSample</th>\n",
       "    </tr>\n",
       "    <tr>\n",
       "      <th>recording</th>\n",
       "      <th></th>\n",
       "      <th></th>\n",
       "      <th></th>\n",
       "      <th></th>\n",
       "      <th></th>\n",
       "      <th></th>\n",
       "      <th></th>\n",
       "      <th></th>\n",
       "    </tr>\n",
       "  </thead>\n",
       "  <tbody>\n",
       "    <tr>\n",
       "      <th>0</th>\n",
       "      <td>M015</td>\n",
       "      <td>2022-07-27</td>\n",
       "      <td>SAL</td>\n",
       "      <td>(0, 0, 0)</td>\n",
       "      <td>2022-07-27T19:41:37</td>\n",
       "      <td>167613398260</td>\n",
       "      <td>7255.991266666667</td>\n",
       "      <td>8342038</td>\n",
       "    </tr>\n",
       "    <tr>\n",
       "      <th>1</th>\n",
       "      <td>M016</td>\n",
       "      <td>2022-07-28</td>\n",
       "      <td>SAL</td>\n",
       "      <td>(0, 0, 0)</td>\n",
       "      <td>2022-07-28T13:19:08</td>\n",
       "      <td>172464739370</td>\n",
       "      <td>7466.006033333333</td>\n",
       "      <td>2005727</td>\n",
       "    </tr>\n",
       "    <tr>\n",
       "      <th>2</th>\n",
       "      <td>M015</td>\n",
       "      <td>2022-08-01</td>\n",
       "      <td>RSK</td>\n",
       "      <td>(3, 10, 30)</td>\n",
       "      <td>2022-08-01T16:30:01</td>\n",
       "      <td>168066949820</td>\n",
       "      <td>7275.625533333333</td>\n",
       "      <td>3368714</td>\n",
       "    </tr>\n",
       "    <tr>\n",
       "      <th>3</th>\n",
       "      <td>M015</td>\n",
       "      <td>2022-08-03</td>\n",
       "      <td>RSK</td>\n",
       "      <td>(3, 10, 30)</td>\n",
       "      <td>2022-08-03T12:45:02</td>\n",
       "      <td>167609776180</td>\n",
       "      <td>7255.834466666666</td>\n",
       "      <td>1157254</td>\n",
       "    </tr>\n",
       "    <tr>\n",
       "      <th>4</th>\n",
       "      <td>M016</td>\n",
       "      <td>2022-08-04</td>\n",
       "      <td>RSK</td>\n",
       "      <td>(3, 10, 30)</td>\n",
       "      <td>2022-08-04T15:45:22</td>\n",
       "      <td>167712443360</td>\n",
       "      <td>7260.278933333333</td>\n",
       "      <td>1293164</td>\n",
       "    </tr>\n",
       "  </tbody>\n",
       "</table>\n",
       "</div>"
      ],
      "text/plain": [
       "          indiv        date drug        doses       fileCreateTime  \\\n",
       "recording                                                            \n",
       "0          M015  2022-07-27  SAL    (0, 0, 0)  2022-07-27T19:41:37   \n",
       "1          M016  2022-07-28  SAL    (0, 0, 0)  2022-07-28T13:19:08   \n",
       "2          M015  2022-08-01  RSK  (3, 10, 30)  2022-08-01T16:30:01   \n",
       "3          M015  2022-08-03  RSK  (3, 10, 30)  2022-08-03T12:45:02   \n",
       "4          M016  2022-08-04  RSK  (3, 10, 30)  2022-08-04T15:45:22   \n",
       "\n",
       "          fileSizeBytes       fileTimeSecs firstSample  \n",
       "recording                                               \n",
       "0          167613398260  7255.991266666667     8342038  \n",
       "1          172464739370  7466.006033333333     2005727  \n",
       "2          168066949820  7275.625533333333     3368714  \n",
       "3          167609776180  7255.834466666666     1157254  \n",
       "4          167712443360  7260.278933333333     1293164  "
      ]
     },
     "execution_count": 32,
     "metadata": {},
     "output_type": "execute_result"
    }
   ],
   "source": [
    "df1 = sessions.drop(columns='path')\n",
    "df2 = df.drop(columns=params.index)\n",
    "df1.merge(df2, left_index=True, right_index=True).head()"
   ]
  },
  {
   "cell_type": "code",
   "execution_count": 39,
   "id": "37101429",
   "metadata": {},
   "outputs": [],
   "source": [
    "path = session_files(sessions.loc[0].path)['hpc']['lfp'].replace('.bin', '.meta')\n",
    "md = load_metadata(f'{root}/{path}')"
   ]
  },
  {
   "cell_type": "code",
   "execution_count": 41,
   "id": "be86948d",
   "metadata": {},
   "outputs": [],
   "source": [
    "# get the signal sampling rate in Hz\n",
    "samplerate = float(md['imSampRate'])"
   ]
  },
  {
   "cell_type": "code",
   "execution_count": 42,
   "id": "aa8c3ec1",
   "metadata": {},
   "outputs": [
    {
     "data": {
      "text/plain": [
       "30000.0"
      ]
     },
     "execution_count": 42,
     "metadata": {},
     "output_type": "execute_result"
    }
   ],
   "source": [
    "samplerate"
   ]
  },
  {
   "cell_type": "code",
   "execution_count": 43,
   "id": "baf71fbc",
   "metadata": {},
   "outputs": [],
   "source": [
    "# get a number that converts from raw 16-bit memory map values to volts (pre-gain correction)\n",
    "int2volt = float(md['imAiRangeMax']) / int(md.get('imMaxInt', 512))"
   ]
  },
  {
   "cell_type": "code",
   "execution_count": 44,
   "id": "3c9df2b0",
   "metadata": {},
   "outputs": [
    {
     "data": {
      "text/plain": [
       "0.001171875"
      ]
     },
     "execution_count": 44,
     "metadata": {},
     "output_type": "execute_result"
    }
   ],
   "source": [
    "int2volt"
   ]
  },
  {
   "cell_type": "code",
   "execution_count": 47,
   "id": "a8006b32",
   "metadata": {},
   "outputs": [
    {
     "data": {
      "text/plain": [
       "acqApLfSy            384,384,1\n",
       "gateMode             Immediate\n",
       "imAiRangeMax               0.6\n",
       "imAiRangeMin              -0.6\n",
       "imCalibrated              true\n",
       "imLEDEnable              false\n",
       "imMaxInt                   512\n",
       "imSampRate               30000\n",
       "nSavedChans                385\n",
       "snsApLfSy              384,0,1\n",
       "snsSaveChanSubset    0:383,768\n",
       "Name: 0, dtype: object"
      ]
     },
     "execution_count": 47,
     "metadata": {},
     "output_type": "execute_result"
    }
   ],
   "source": [
    "params"
   ]
  },
  {
   "cell_type": "code",
   "execution_count": null,
   "id": "bcdb9b1e",
   "metadata": {},
   "outputs": [],
   "source": [
    "''"
   ]
  },
  {
   "cell_type": "code",
   "execution_count": 40,
   "id": "538c3302",
   "metadata": {},
   "outputs": [
    {
     "ename": "ValueError",
     "evalue": "not enough values to unpack (expected 2, got 1)",
     "output_type": "error",
     "traceback": [
      "\u001b[0;31m---------------------------------------------------------------------------\u001b[0m",
      "\u001b[0;31mValueError\u001b[0m                                Traceback (most recent call last)",
      "Cell \u001b[0;32mIn[40], line 14\u001b[0m\n\u001b[1;32m     12\u001b[0m         chanstr \u001b[38;5;241m=\u001b[39m \u001b[38;5;28mstr\u001b[39m(chanset)\n\u001b[1;32m     13\u001b[0m     \u001b[38;5;28;01melse\u001b[39;00m:\n\u001b[0;32m---> 14\u001b[0m         start, end \u001b[38;5;241m=\u001b[39m chanset\u001b[38;5;241m.\u001b[39msplit(\u001b[38;5;124m'\u001b[39m\u001b[38;5;124m:\u001b[39m\u001b[38;5;124m'\u001b[39m)\n\u001b[1;32m     15\u001b[0m         chanidx \u001b[38;5;241m+\u001b[39m\u001b[38;5;241m=\u001b[39m \u001b[38;5;28mlist\u001b[39m(\u001b[38;5;28mrange\u001b[39m(\u001b[38;5;28mint\u001b[39m(start), \u001b[38;5;28mint\u001b[39m(end) \u001b[38;5;241m+\u001b[39m \u001b[38;5;241m1\u001b[39m))\n\u001b[1;32m     16\u001b[0m chanidx \u001b[38;5;241m=\u001b[39m np\u001b[38;5;241m.\u001b[39marray(chanidx)\n",
      "\u001b[0;31mValueError\u001b[0m: not enough values to unpack (expected 2, got 1)"
     ]
    }
   ],
   "source": [
    "ap, lf, sy = md['snsApLfSy'].split(',')\n",
    "chancounts = {'AP': int(ap), 'LF': int(lf), 'SY': int(sy)}\n",
    "assert chancounts['SY'] == 1\n",
    "assert chancounts['LF'] == len(chanidx) - 1\n",
    "\n",
    "probetype = int(md.get('imDatPrb_type', 0))\n",
    "assert probetype == 0\n",
    "\n",
    "gains = md['imroTbl'].strip('(').strip(')')\n",
    "gains = gains.split(')(')[1:]\n",
    "lfgain = np.array([int(s.split(' ')[4]) for s in gains])\n",
    "assert np.all(lfgain == lfgain[0])\n",
    "lfgain = lfgain[0]\n",
    "\n",
    "nbytes = int(md['fileSizeBytes'])\n",
    "nchans = int(md['nSavedChans'])\n",
    "assert nbytes % 2 == 0\n",
    "assert nbytes % nchans == 0\n",
    "nsamples = nbytes // 2 // nchans"
   ]
  },
  {
   "cell_type": "code",
   "execution_count": null,
   "id": "9bf2c056",
   "metadata": {},
   "outputs": [],
   "source": []
  }
 ],
 "metadata": {
  "kernelspec": {
   "display_name": "Python 3",
   "language": "python",
   "name": "python3"
  },
  "language_info": {
   "codemirror_mode": {
    "name": "ipython",
    "version": 3
   },
   "file_extension": ".py",
   "mimetype": "text/x-python",
   "name": "python",
   "nbconvert_exporter": "python",
   "pygments_lexer": "ipython3",
   "version": "3.10.6"
  }
 },
 "nbformat": 4,
 "nbformat_minor": 5
}
