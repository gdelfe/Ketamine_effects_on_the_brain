{
 "cells": [
  {
   "cell_type": "code",
   "execution_count": 41,
   "id": "e7f3dfa0",
   "metadata": {},
   "outputs": [],
   "source": [
    "import numpy as np\n",
    "import pandas as pd"
   ]
  },
  {
   "cell_type": "code",
   "execution_count": 37,
   "id": "d826a254",
   "metadata": {},
   "outputs": [
    {
     "data": {
      "text/plain": [
       "'2022-08-04_03-45-00_M016_RSK_mPFC_HPC_3_10_30mpk'"
      ]
     },
     "execution_count": 37,
     "metadata": {},
     "output_type": "execute_result"
    }
   ],
   "source": [
    "root = '/Users/lukearend/phd/kfx/data/mnt/Ketamine'\n",
    "sessfiles = pd.read_pickle('/Users/lukearend/phd/kfx/ref/HPC_lfp_paths.pkl')\n",
    "sessfile = sessfiles[4]\n",
    "sess = sessfile.split('/')[0]\n",
    "sess"
   ]
  },
  {
   "cell_type": "code",
   "execution_count": 174,
   "id": "e7ddd14d",
   "metadata": {},
   "outputs": [],
   "source": [
    "lfppath = f'{root}/{sess}/{sess}_g0_imec1/{sess}_g0_t0.imec1.lf.bin'\n",
    "metapath = lfppath.replace('.bin', '.meta')\n",
    "with open(metapath, 'r') as f:\n",
    "    md = {}\n",
    "    for line in f.read().splitlines():\n",
    "        key, val = line.split('=')\n",
    "        if key.startswith('~'):\n",
    "            key = key[1:]\n",
    "        md[key] = val"
   ]
  },
  {
   "cell_type": "code",
   "execution_count": 167,
   "id": "254851a5",
   "metadata": {},
   "outputs": [],
   "source": [
    "# get the signal sampling rate in Hz\n",
    "samplerate = float(md['imSampRate'])"
   ]
  },
  {
   "cell_type": "code",
   "execution_count": 168,
   "id": "22329c77",
   "metadata": {},
   "outputs": [],
   "source": [
    "# get a number that converts from raw 16-bit memory map values to volts (pre-gain correction)\n",
    "int2volt = float(md['imAiRangeMax']) / int(md.get('imMaxInt', 512))"
   ]
  },
  {
   "cell_type": "code",
   "execution_count": 169,
   "id": "5cfd9893",
   "metadata": {},
   "outputs": [],
   "source": [
    "# look up the identifier of the original channel on the probe, for each channel we have stored in the data file\n",
    "saved = md['snsSaveChanSubset']\n",
    "chanidx = []\n",
    "for chanset in saved.split(','):\n",
    "    if len(chanset) == 1:\n",
    "        chanstr = str(chanset)\n",
    "    else:\n",
    "        start, end = chanset.split(':')\n",
    "        chanidx += list(range(int(start), int(end) + 1))\n",
    "chanidx = np.array(chanidx)"
   ]
  },
  {
   "cell_type": "code",
   "execution_count": 170,
   "id": "cf02df84",
   "metadata": {},
   "outputs": [],
   "source": [
    "ap, lf, sy = md['snsApLfSy'].split(',')\n",
    "chancounts = {'AP': int(ap), 'LF': int(lf), 'SY': int(sy)}\n",
    "assert chancounts['SY'] == 1\n",
    "assert chancounts['LF'] == len(chanidx) - 1"
   ]
  },
  {
   "cell_type": "code",
   "execution_count": 171,
   "id": "f1dcb64c",
   "metadata": {},
   "outputs": [],
   "source": [
    "probetype = int(md.get('imDatPrb_type', 0))\n",
    "assert probetype == 0"
   ]
  },
  {
   "cell_type": "code",
   "execution_count": 138,
   "id": "50536768",
   "metadata": {},
   "outputs": [],
   "source": [
    "gains = md['imroTbl'].strip('(').strip(')')\n",
    "gains = gains.split(')(')[1:]\n",
    "lfgain = np.array([int(s.split(' ')[4]) for s in gains])\n",
    "assert np.all(lfgain == lfgain[0])\n",
    "lfgain = lfgain[0]"
   ]
  },
  {
   "cell_type": "code",
   "execution_count": 173,
   "id": "a896bff7",
   "metadata": {},
   "outputs": [],
   "source": [
    "nbytes = int(md['fileSizeBytes'])\n",
    "nchans = int(md['nSavedChans'])\n",
    "assert nbytes % 2 == 0\n",
    "assert nbytes % nchans == 0\n",
    "nsamples = nbytes // 2 // nchans"
   ]
  },
  {
   "cell_type": "code",
   "execution_count": 176,
   "id": "b7eb8294",
   "metadata": {},
   "outputs": [],
   "source": [
    "memmap = np.memmap(lfppath, dtype='int16', mode='r',\n",
    "                   shape=(nchans, nsamples), offset=0, order='F')"
   ]
  },
  {
   "cell_type": "code",
   "execution_count": 179,
   "id": "c1ac3a8a",
   "metadata": {},
   "outputs": [],
   "source": [
    "x = memmap[0, :]"
   ]
  },
  {
   "cell_type": "code",
   "execution_count": null,
   "id": "651c89e9",
   "metadata": {},
   "outputs": [],
   "source": [
    "np.array(x)"
   ]
  },
  {
   "cell_type": "markdown",
   "id": "826d554f",
   "metadata": {},
   "source": [
    "---"
   ]
  },
  {
   "cell_type": "code",
   "execution_count": null,
   "id": "0cc82b6c",
   "metadata": {},
   "outputs": [],
   "source": [
    "Lfp, speed, gain, rec, _ , CH_end = load_data(binFullPath, HPC_path_file, PFC_path_file, \"HPC\", 2)"
   ]
  }
 ],
 "metadata": {
  "kernelspec": {
   "display_name": "Python 3",
   "language": "python",
   "name": "python3"
  },
  "language_info": {
   "codemirror_mode": {
    "name": "ipython",
    "version": 3
   },
   "file_extension": ".py",
   "mimetype": "text/x-python",
   "name": "python",
   "nbconvert_exporter": "python",
   "pygments_lexer": "ipython3",
   "version": "3.10.6"
  }
 },
 "nbformat": 4,
 "nbformat_minor": 5
}
