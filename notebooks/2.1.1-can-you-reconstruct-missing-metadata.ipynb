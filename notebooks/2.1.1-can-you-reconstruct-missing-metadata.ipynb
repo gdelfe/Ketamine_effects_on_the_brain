{
 "cells": [
  {
   "cell_type": "code",
   "execution_count": 17,
   "id": "84962286",
   "metadata": {},
   "outputs": [],
   "source": [
    "import os\n",
    "import numpy as np\n",
    "import pandas as pd\n",
    "\n",
    "def filepaths(sesspath, region, signal):\n",
    "    region = {'pfc': 'imec0', 'hpc': 'imec1'}[region.lower()]\n",
    "    signal = {'ap': 'ap', 'lfp': 'lf'}[signal.lower()]\n",
    "    basedir = sesspath + f'_{region}'\n",
    "    basename = sesspath.split('/')[-1] + f'_t0.{region}.{signal}'\n",
    "    datapath = os.path.join(basedir, basename + '.bin')\n",
    "    metapath = os.path.join(basedir, basename + '.meta')\n",
    "    return datapath, metapath\n",
    "\n",
    "def metadata(metapath):\n",
    "    with open(metapath, 'r') as f:\n",
    "        md = {}\n",
    "        for line in f.read().splitlines():\n",
    "            key, val = line.split('=')\n",
    "            if key.startswith('~'):\n",
    "                key = key[1:]\n",
    "            md[key] = val\n",
    "    return md\n",
    "\n",
    "root = '/Users/lukearend/phd/kfx/'\n",
    "prefix = root + 'data/mnt/Ketamine/'\n",
    "sessions = pd.read_csv(root + 'ref/sessions.csv')"
   ]
  },
  {
   "cell_type": "code",
   "execution_count": 18,
   "id": "4cea36d4",
   "metadata": {},
   "outputs": [],
   "source": [
    "sess = sessions.iloc[0]\n",
    "datapath, metapath = filepaths(prefix + sess.path, 'pfc', 'lfp')\n",
    "md = metadata(metapath)"
   ]
  },
  {
   "cell_type": "markdown",
   "id": "9b95129a",
   "metadata": {},
   "source": [
    "Imagine session 0 was missing HPC LFP metadata.\n",
    "\n",
    "Can we reconstruct it using just the PFC LFP and HPC AP metadata?"
   ]
  },
  {
   "cell_type": "code",
   "execution_count": 111,
   "id": "c7947e93",
   "metadata": {},
   "outputs": [],
   "source": [
    "_, metapath = filepaths(prefix + sessions.iloc[0].path, 'pfc', 'lfp')\n",
    "pfc_lfp = metadata(metapath)\n",
    "_, metapath = filepaths(prefix + sessions.iloc[0].path, 'hpc', 'ap')\n",
    "hpc_ap = metadata(metapath)\n",
    "_, metapath = filepaths(prefix + sessions.iloc[0].path, 'hpc', 'lfp')\n",
    "hpc_lfp = metadata(metapath)"
   ]
  },
  {
   "cell_type": "code",
   "execution_count": 112,
   "id": "a88be425",
   "metadata": {},
   "outputs": [],
   "source": [
    "assert pfc_lfp['snsSaveChanSubset'] == hpc_lfp['snsSaveChanSubset']\n",
    "assert pfc_lfp['snsApLfSy'] == hpc_lfp['snsApLfSy']\n",
    "assert pfc_lfp['imSampRate'] == hpc_lfp['imSampRate']\n",
    "assert pfc_lfp['snsChanMap'] == hpc_lfp['snsChanMap']"
   ]
  },
  {
   "cell_type": "code",
   "execution_count": 113,
   "id": "cee3d6a1",
   "metadata": {},
   "outputs": [],
   "source": [
    "filename = hpc_ap['fileName'].replace('.ap', '.lf')\n",
    "assert filename == hpc_lfp['fileName']"
   ]
  },
  {
   "cell_type": "code",
   "execution_count": 114,
   "id": "ae372f14",
   "metadata": {},
   "outputs": [],
   "source": [
    "firstsample = pfc_lfp['firstSample']\n",
    "assert firstsample == hpc_lfp['firstSample']"
   ]
  },
  {
   "cell_type": "code",
   "execution_count": 115,
   "id": "b977e4dd",
   "metadata": {},
   "outputs": [],
   "source": [
    "# HPC LFP .bin SHA1 returned by 'sha1sum'\n",
    "sha1 = '48ca6ee8a4f0d6ee1f52445d37034ae60c2208ff'.upper()\n",
    "assert sha1 == hpc_lfp['fileSHA1']"
   ]
  },
  {
   "cell_type": "code",
   "execution_count": 116,
   "id": "512455ce",
   "metadata": {},
   "outputs": [],
   "source": [
    "# HPC LFP .bin size in bytes returned by 'stat'\n",
    "sizebytes = 13967783830\n",
    "assert sizebytes == int(hpc_lfp['fileSizeBytes'])"
   ]
  },
  {
   "cell_type": "code",
   "execution_count": 117,
   "id": "7e1d19dc",
   "metadata": {},
   "outputs": [
    {
     "data": {
      "text/plain": [
       "('7255.9916', '7255.991266666667', '7256.006')"
      ]
     },
     "execution_count": 117,
     "metadata": {},
     "output_type": "execute_result"
    }
   ],
   "source": [
    "hpc_lfp['fileTimeSecs'], hpc_ap['fileTimeSecs'], pfc_lfp['fileTimeSecs']"
   ]
  },
  {
   "cell_type": "code",
   "execution_count": 118,
   "id": "4838b82f",
   "metadata": {},
   "outputs": [],
   "source": [
    "new = hpc_ap.copy()\n",
    "new['snsSaveChanSubset'] = pfc_lfp['snsSaveChanSubset']\n",
    "new['snsApLfSy'] = pfc_lfp['snsApLfSy']\n",
    "new['imSampRate'] = pfc_lfp['imSampRate']\n",
    "new['snsChanMap'] = pfc_lfp['snsChanMap']\n",
    "new['fileName'] = hpc_ap['fileName'].replace('.ap', '.lf')\n",
    "new['firstSample'] = pfc_lfp['firstSample']\n",
    "new['fileSHA1'] = '48ca6ee8a4f0d6ee1f52445d37034ae60c2208ff'.upper()\n",
    "new['fileSizeBytes'] = str(13967783830)\n",
    "new['fileTimeSecs'] = hpc_ap['fileTimeSecs']\n",
    "del new['snsShankMap']"
   ]
  },
  {
   "cell_type": "code",
   "execution_count": 119,
   "id": "55ce3993",
   "metadata": {},
   "outputs": [
    {
     "name": "stdout",
     "output_type": "stream",
     "text": [
      "fileTimeSecs 7255.9916 7255.991266666667\n"
     ]
    }
   ],
   "source": [
    "for k, actual in new.items():\n",
    "    expected = hpc_lfp[k]\n",
    "    if actual != expected:\n",
    "        print(k, expected, actual)"
   ]
  },
  {
   "cell_type": "markdown",
   "id": "bf408866",
   "metadata": {},
   "source": [
    "Yes we can, the only discrepancy being error of order 100 microseconds in `fileTimeSecs` copied from the associated HPC AP file."
   ]
  },
  {
   "cell_type": "code",
   "execution_count": 120,
   "id": "912ec6a0",
   "metadata": {},
   "outputs": [],
   "source": [
    "def reconstruct_hpc_lfp_metadata(pfc_lfp, hpc_ap):\n",
    "    new = hpc_ap.copy()\n",
    "    new['snsSaveChanSubset'] = pfc_lfp['snsSaveChanSubset']\n",
    "    new['snsApLfSy'] = pfc_lfp['snsApLfSy']\n",
    "    new['imSampRate'] = pfc_lfp['imSampRate']\n",
    "    new['snsChanMap'] = pfc_lfp['snsChanMap']\n",
    "    new['fileName'] = hpc_ap['fileName'].replace('.ap', '.lf')\n",
    "    new['firstSample'] = pfc_lfp['firstSample']\n",
    "    new['fileSHA1'] = '48ca6ee8a4f0d6ee1f52445d37034ae60c2208ff'.upper()\n",
    "    new['fileSizeBytes'] = str(13967783830)\n",
    "    new['fileTimeSecs'] = hpc_ap['fileTimeSecs']\n",
    "    del new['snsShankMap']\n",
    "    return new"
   ]
  },
  {
   "cell_type": "code",
   "execution_count": 121,
   "id": "192694a8",
   "metadata": {},
   "outputs": [],
   "source": [
    "sess = sessions.iloc[1]\n",
    "_, metapath = filepaths(sess.path, 'pfc', 'lfp')\n",
    "pfc_lfp = metadata(prefix + metapath)\n",
    "_, metapath = filepaths(sess.path, 'hpc', 'ap')\n",
    "hpc_ap = metadata(prefix + metapath)\n",
    "new = reconstruct_hpc_lfp_metadata(pfc_lfp, hpc_ap)"
   ]
  },
  {
   "cell_type": "code",
   "execution_count": 122,
   "id": "b4860951",
   "metadata": {},
   "outputs": [],
   "source": [
    "_, metapath = filepaths(sess.path, 'hpc', 'lfp')\n",
    "hpc_lfp = metadata(prefix + metapath)"
   ]
  },
  {
   "cell_type": "code",
   "execution_count": 123,
   "id": "5082a930",
   "metadata": {},
   "outputs": [
    {
     "name": "stdout",
     "output_type": "stream",
     "text": [
      "fileSHA1 FB9D77501ACE2E78820A498B1DC3818050383166 48CA6EE8A4F0D6EE1F52445D37034AE60C2208FF\n",
      "fileSizeBytes 14005579280 13967783830\n",
      "fileTimeSecs 7275.6256 7275.625533333333\n"
     ]
    }
   ],
   "source": [
    "for k, actual in new.items():\n",
    "    expected = hpc_lfp[k]\n",
    "    if actual != expected:\n",
    "        print(k, expected, actual)"
   ]
  },
  {
   "cell_type": "markdown",
   "id": "7ec29a37",
   "metadata": {},
   "source": [
    "I computed size in bytes and SHA1 for the missing HPC LFP file (session 6). They are listed below."
   ]
  },
  {
   "cell_type": "code",
   "execution_count": 130,
   "id": "e1e2d6ca",
   "metadata": {},
   "outputs": [
    {
     "data": {
      "text/plain": [
       "'2022-08-08-04-05-00_M017_SAL_mPFC_HPC_0_0_0mpk/2022-08-08-04-05-00_M017_SAL_mPFC_HPC_0_0_0mpk_g0'"
      ]
     },
     "execution_count": 130,
     "metadata": {},
     "output_type": "execute_result"
    }
   ],
   "source": [
    "sessions.iloc[6].path"
   ]
  },
  {
   "cell_type": "markdown",
   "id": "e61a9e8f",
   "metadata": {},
   "source": [
    "```\n",
    "monk 2022-08-08-04-05-00_M017_SAL_mPFC_HPC_0_0_0mpk_g0_imec1 [17:28:20] $ stat 2022-08-08-04-05-00_M017_SAL_mPFC_HPC_0_0_0mpk_g0_t0.imec1.lf.bin \n",
    "  File: `2022-08-08-04-05-00_M017_SAL_mPFC_HPC_0_0_0mpk_g0_t0.imec1.lf.bin'\n",
    "  Size: 13964344240\tBlocks: 23429120   IO Block: 131072 regular file\n",
    "Device: 25h/37d\tInode: 877414      Links: 1\n",
    "Access: (0750/-rwxr-x---)  Uid: ( 1005/ eunhyep)   Gid: (  100/   users)\n",
    "Access: 2023-01-30 14:52:49.160192192 -0500\n",
    "Modify: 2022-08-08 22:15:18.567270833 -0400\n",
    "Change: 2023-05-03 13:59:07.259301917 -0400\n",
    "monk 2022-08-08-04-05-00_M017_SAL_mPFC_HPC_0_0_0mpk_g0_imec1 [17:28:30] $ sha1sum 2022-08-08-04-05-00_M017_SAL_mPFC_HPC_0_0_0mpk_g0_t0.imec1.lf.bin \n",
    "0a9f9c4585379a4866ae342e7f3c8f5085998e73  2022-08-08-04-05-00_M017_SAL_mPFC_HPC_0_0_0mpk_g0_t0.imec1.lf.bin\n",
    "```"
   ]
  },
  {
   "cell_type": "code",
   "execution_count": 132,
   "id": "ce1a6351",
   "metadata": {},
   "outputs": [
    {
     "data": {
      "text/plain": [
       "('13964344240', '0A9F9C4585379A4866AE342E7F3C8F5085998E73')"
      ]
     },
     "execution_count": 132,
     "metadata": {},
     "output_type": "execute_result"
    }
   ],
   "source": [
    "str(13964344240), '0a9f9c4585379a4866ae342e7f3c8f5085998e73'.upper()"
   ]
  },
  {
   "cell_type": "code",
   "execution_count": null,
   "id": "adfe4d90",
   "metadata": {},
   "outputs": [],
   "source": []
  }
 ],
 "metadata": {
  "kernelspec": {
   "display_name": "Python 3",
   "language": "python",
   "name": "python3"
  },
  "language_info": {
   "codemirror_mode": {
    "name": "ipython",
    "version": 3
   },
   "file_extension": ".py",
   "mimetype": "text/x-python",
   "name": "python",
   "nbconvert_exporter": "python",
   "pygments_lexer": "ipython3",
   "version": "3.10.6"
  }
 },
 "nbformat": 4,
 "nbformat_minor": 5
}
