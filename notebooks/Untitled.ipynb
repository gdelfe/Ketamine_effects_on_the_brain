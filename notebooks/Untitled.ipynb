{
 "cells": [
  {
   "cell_type": "code",
   "execution_count": 5,
   "id": "0667113e",
   "metadata": {},
   "outputs": [
    {
     "name": "stdout",
     "output_type": "stream",
     "text": [
      "2022-08-08-04-05-00_M017_SAL_mPFC_HPC_0_0_0mpk_g0_t0.imec1.lf.meta\r\n",
      "HPC_lfp_paths.file\r\n",
      "HPC_lfp_paths.pkl\r\n",
      "PFC_lfp_paths.file\r\n",
      "PFC_lfp_paths.pkl\r\n",
      "recid_CA1_DG_id_modified.csv\r\n",
      "sessions.csv\r\n",
      "spk_file_names.pkl\r\n"
     ]
    }
   ],
   "source": [
    "ls ../ref"
   ]
  },
  {
   "cell_type": "code",
   "execution_count": 8,
   "id": "d7ce8b22",
   "metadata": {},
   "outputs": [],
   "source": [
    "import "
   ]
  },
  {
   "cell_type": "code",
   "execution_count": null,
   "id": "c831d7fe",
   "metadata": {},
   "outputs": [],
   "source": []
  }
 ],
 "metadata": {
  "kernelspec": {
   "display_name": "Python 3",
   "language": "python",
   "name": "python3"
  },
  "language_info": {
   "codemirror_mode": {
    "name": "ipython",
    "version": 3
   },
   "file_extension": ".py",
   "mimetype": "text/x-python",
   "name": "python",
   "nbconvert_exporter": "python",
   "pygments_lexer": "ipython3",
   "version": "3.10.6"
  }
 },
 "nbformat": 4,
 "nbformat_minor": 5
}
