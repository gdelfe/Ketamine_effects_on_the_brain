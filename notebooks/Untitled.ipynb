{
 "cells": [
  {
   "cell_type": "code",
   "execution_count": 1,
   "id": "3d4fdaf0-8b6c-4b2d-9c76-bc4454ebdc1a",
   "metadata": {
    "tags": []
   },
   "outputs": [],
   "source": [
    "import os"
   ]
  },
  {
   "cell_type": "code",
   "execution_count": 5,
   "id": "be49444d-0275-4079-8914-7c4282db9627",
   "metadata": {
    "tags": []
   },
   "outputs": [],
   "source": [
    "os.environ['myvar'] = '2'"
   ]
  },
  {
   "cell_type": "code",
   "execution_count": 6,
   "id": "75f4b531-1fda-44bc-93f2-f110d89602a9",
   "metadata": {
    "tags": []
   },
   "outputs": [
    {
     "data": {
      "text/plain": [
       "'2'"
      ]
     },
     "execution_count": 6,
     "metadata": {},
     "output_type": "execute_result"
    }
   ],
   "source": [
    "os.environ['myvar']"
   ]
  },
  {
   "cell_type": "code",
   "execution_count": 7,
   "id": "3e07d588-142e-4ac5-b135-5b7864f387aa",
   "metadata": {
    "tags": []
   },
   "outputs": [
    {
     "data": {
      "text/plain": [
       "'all'"
      ]
     },
     "execution_count": 7,
     "metadata": {},
     "output_type": "execute_result"
    }
   ],
   "source": [
    "os.getenv('myvar2', 'all')"
   ]
  },
  {
   "cell_type": "code",
   "execution_count": 9,
   "id": "e536e3fd-ad80-4fca-8d19-4799a2464024",
   "metadata": {
    "tags": []
   },
   "outputs": [
    {
     "data": {
      "text/plain": [
       "'a2/a3/a4'"
      ]
     },
     "execution_count": 9,
     "metadata": {},
     "output_type": "execute_result"
    }
   ],
   "source": [
    "os.path.join('a2', 'a3', 'a4')"
   ]
  },
  {
   "cell_type": "code",
   "execution_count": null,
   "id": "54f76a6e-e18b-430a-8793-0d9eef896857",
   "metadata": {},
   "outputs": [],
   "source": [
    "LFP_PATH = 'C:\\Users\\fentonlab\\Desktop\\luke\\LFPs'\n",
    "BEHAV_PATH = 'C:\\Users\\fentonlab\\Desktop\\luke\\behaviour'"
   ]
  },
  {
   "cell_type": "code",
   "execution_count": null,
   "id": "9192f42c-f2fe-4139-a4e8-a6093d4ec82c",
   "metadata": {},
   "outputs": [],
   "source": []
  }
 ],
 "metadata": {
  "kernelspec": {
   "display_name": "Python 3 (ipykernel)",
   "language": "python",
   "name": "python3"
  },
  "language_info": {
   "codemirror_mode": {
    "name": "ipython",
    "version": 3
   },
   "file_extension": ".py",
   "mimetype": "text/x-python",
   "name": "python",
   "nbconvert_exporter": "python",
   "pygments_lexer": "ipython3",
   "version": "3.10.10"
  }
 },
 "nbformat": 4,
 "nbformat_minor": 5
}
